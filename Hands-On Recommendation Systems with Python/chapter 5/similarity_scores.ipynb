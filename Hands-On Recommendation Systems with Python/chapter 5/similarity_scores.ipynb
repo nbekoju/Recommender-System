{
 "cells": [
  {
   "cell_type": "code",
   "execution_count": 1,
   "metadata": {},
   "outputs": [],
   "source": [
    "import numpy as np"
   ]
  },
  {
   "cell_type": "markdown",
   "metadata": {},
   "source": [
    "## Euclidean Distance"
   ]
  },
  {
   "cell_type": "code",
   "execution_count": 2,
   "metadata": {},
   "outputs": [],
   "source": [
    "def euclidean(v1, v2):\n",
    "    v1, v2 = np.array(v1), np.array(v2)\n",
    "\n",
    "    diff = np.power(np.array(v1) - np.array(v2), 2)\n",
    "    sigma_val = np.sum(diff)\n",
    "\n",
    "    return np.sqrt(sigma_val)\n"
   ]
  },
  {
   "cell_type": "code",
   "execution_count": 4,
   "metadata": {},
   "outputs": [],
   "source": [
    "user_1 = [5, 1, 2, 4, 5]\n",
    "user_2 = np.random.randint(1, 5, size=(5, ))\n",
    "user_3 = np.random.randint(1, 5, size=(5,))"
   ]
  },
  {
   "cell_type": "code",
   "execution_count": 5,
   "metadata": {},
   "outputs": [
    {
     "data": {
      "text/plain": [
       "([5, 1, 2, 4, 5], array([4, 2, 4, 1, 2]), array([2, 2, 1, 2, 1]))"
      ]
     },
     "execution_count": 5,
     "metadata": {},
     "output_type": "execute_result"
    }
   ],
   "source": [
    "user_1, user_2, user_3"
   ]
  },
  {
   "cell_type": "code",
   "execution_count": 7,
   "metadata": {},
   "outputs": [
    {
     "data": {
      "text/plain": [
       "(4.898979485566356, 5.5677643628300215)"
      ]
     },
     "execution_count": 7,
     "metadata": {},
     "output_type": "execute_result"
    }
   ],
   "source": [
    "euclidean(user_1, user_2), euclidean(user_1, user_3)"
   ]
  },
  {
   "cell_type": "code",
   "execution_count": 8,
   "metadata": {},
   "outputs": [
    {
     "data": {
      "text/plain": [
       "2.23606797749979"
      ]
     },
     "execution_count": 8,
     "metadata": {},
     "output_type": "execute_result"
    }
   ],
   "source": [
    "alice = [1, 1, 3, 2, 4]\n",
    "bob = [2, 2, 4, 3, 5]\n",
    "\n",
    "euclidean(alice, bob)"
   ]
  },
  {
   "cell_type": "markdown",
   "metadata": {},
   "source": [
    "We get a Euclidean distance of about 2.23. However, on closer inspection, we see that Bob\n",
    "always gives a rating that is one higher than Alice. Therefore, we can say that Alice and\n",
    "Bob's ratings are extremely correlated. In other words, if we know Alice's rating for a\n",
    "movie, we can compute Bob's rating for the same movie with high accuracy (in this case, by\n",
    "just adding 1)."
   ]
  },
  {
   "cell_type": "code",
   "execution_count": 9,
   "metadata": {},
   "outputs": [
    {
     "data": {
      "text/plain": [
       "6.324555320336759"
      ]
     },
     "execution_count": 9,
     "metadata": {},
     "output_type": "execute_result"
    }
   ],
   "source": [
    "eve = [5, 5, 3, 4, 2]\n",
    "euclidean(eve, alice)"
   ]
  },
  {
   "cell_type": "markdown",
   "metadata": {},
   "source": [
    "We get a very high score of 6.32, which indicates that the two people are very dissimilar. If\n",
    "we used Euclidean distances, we would not be able to do much beyond this. However, on\n",
    "inspection, we see that the sum of Alice's and Eve's ratings for a movie always add up to 6.\n",
    "Therefore, although very different people, one's rating can be used to accurately predict the\n",
    "corresponding rating of the other."
   ]
  },
  {
   "cell_type": "markdown",
   "metadata": {},
   "source": [
    "## Pearson Correlation\n",
    "\n",
    "Euclidean distances place emphasis on magnitude, and in the process, are not able to gauge\n",
    "the degree of similarity or dissimilarity well. This is where the Pearson correlation comes\n",
    "into the picture. The Pearson correlation is a score between -1 and 1, where -1 indicates total\n",
    "negative correlation (as in the case with Alice and Eve) and 1 indicates total positive\n",
    "correlation (as in the case with Alice and Bob), whereas 0 indicates that the two entities are\n",
    "in no way correlated with each other (or are independent of each other)."
   ]
  },
  {
   "cell_type": "code",
   "execution_count": 10,
   "metadata": {},
   "outputs": [
    {
     "data": {
      "text/plain": [
       "(1.0, 0.0)"
      ]
     },
     "execution_count": 10,
     "metadata": {},
     "output_type": "execute_result"
    }
   ],
   "source": [
    "from scipy.stats import pearsonr\n",
    "pearsonr(alice, bob)"
   ]
  },
  {
   "cell_type": "code",
   "execution_count": 11,
   "metadata": {},
   "outputs": [
    {
     "data": {
      "text/plain": [
       "(-1.0, 0.0)"
      ]
     },
     "execution_count": 11,
     "metadata": {},
     "output_type": "execute_result"
    }
   ],
   "source": [
    "pearsonr(alice, eve)"
   ]
  },
  {
   "cell_type": "markdown",
   "metadata": {},
   "source": [
    "The first element of our list output is the Pearson score. We see that Alice and Bob have the\n",
    "highest possible similarity score, whereas Alice and Eve have the lowest possible score."
   ]
  },
  {
   "cell_type": "code",
   "execution_count": 12,
   "metadata": {},
   "outputs": [
    {
     "data": {
      "text/plain": [
       "(-1.0, 0.0)"
      ]
     },
     "execution_count": 12,
     "metadata": {},
     "output_type": "execute_result"
    }
   ],
   "source": [
    "pearsonr(bob, eve)"
   ]
  },
  {
   "cell_type": "markdown",
   "metadata": {},
   "source": [
    "## Cosine Similarity\n",
    "\n",
    "consider two vectors, x and y, both with zero mean. We see that when this is the case,\n",
    "the Pearson correlation score is exactly the same as the cosine similarity Score. In other\n",
    "words, for centered vectors with zero mean, the Pearson correlation is the cosine similarity\n",
    "score."
   ]
  },
  {
   "cell_type": "code",
   "execution_count": null,
   "metadata": {},
   "outputs": [],
   "source": []
  }
 ],
 "metadata": {
  "kernelspec": {
   "display_name": "trainee",
   "language": "python",
   "name": "python3"
  },
  "language_info": {
   "codemirror_mode": {
    "name": "ipython",
    "version": 3
   },
   "file_extension": ".py",
   "mimetype": "text/x-python",
   "name": "python",
   "nbconvert_exporter": "python",
   "pygments_lexer": "ipython3",
   "version": "3.9.19"
  }
 },
 "nbformat": 4,
 "nbformat_minor": 2
}
