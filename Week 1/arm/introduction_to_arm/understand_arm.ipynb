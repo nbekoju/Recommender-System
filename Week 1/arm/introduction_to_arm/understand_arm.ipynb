{
 "cells": [
  {
   "cell_type": "code",
   "execution_count": 2,
   "metadata": {},
   "outputs": [],
   "source": [
    "import numpy as np\n",
    "import pandas as pd"
   ]
  },
  {
   "cell_type": "code",
   "execution_count": 3,
   "metadata": {},
   "outputs": [],
   "source": [
    "transaction_dict = {\"t1\" : [\"i1\", \"i2\", \"i3\"], \n",
    "                    \"t2\" : [\"i2\", \"i3\", \"i4\"], \n",
    "                    \"t3\" : [\"i4\", \"i5\"], \n",
    "                    \"t4\" : [\"i1\", \"i2\", \"i4\"],\n",
    "                    \"t5\" : [\"i1\", \"i2\", \"i3\", \"i5\"], \n",
    "                    \"t6\" : [\"i1\", \"i2\", \"i3\", \"i4\"]}"
   ]
  },
  {
   "cell_type": "code",
   "execution_count": 4,
   "metadata": {},
   "outputs": [
    {
     "data": {
      "text/html": [
       "<div>\n",
       "<style scoped>\n",
       "    .dataframe tbody tr th:only-of-type {\n",
       "        vertical-align: middle;\n",
       "    }\n",
       "\n",
       "    .dataframe tbody tr th {\n",
       "        vertical-align: top;\n",
       "    }\n",
       "\n",
       "    .dataframe thead th {\n",
       "        text-align: right;\n",
       "    }\n",
       "</style>\n",
       "<table border=\"1\" class=\"dataframe\">\n",
       "  <thead>\n",
       "    <tr style=\"text-align: right;\">\n",
       "      <th></th>\n",
       "      <th>transactions</th>\n",
       "      <th>items</th>\n",
       "    </tr>\n",
       "  </thead>\n",
       "  <tbody>\n",
       "    <tr>\n",
       "      <th>0</th>\n",
       "      <td>t1</td>\n",
       "      <td>[i1, i2, i3]</td>\n",
       "    </tr>\n",
       "    <tr>\n",
       "      <th>1</th>\n",
       "      <td>t2</td>\n",
       "      <td>[i2, i3, i4]</td>\n",
       "    </tr>\n",
       "    <tr>\n",
       "      <th>2</th>\n",
       "      <td>t3</td>\n",
       "      <td>[i4, i5]</td>\n",
       "    </tr>\n",
       "    <tr>\n",
       "      <th>3</th>\n",
       "      <td>t4</td>\n",
       "      <td>[i1, i2, i4]</td>\n",
       "    </tr>\n",
       "    <tr>\n",
       "      <th>4</th>\n",
       "      <td>t5</td>\n",
       "      <td>[i1, i2, i3, i5]</td>\n",
       "    </tr>\n",
       "    <tr>\n",
       "      <th>5</th>\n",
       "      <td>t6</td>\n",
       "      <td>[i1, i2, i3, i4]</td>\n",
       "    </tr>\n",
       "  </tbody>\n",
       "</table>\n",
       "</div>"
      ],
      "text/plain": [
       "  transactions             items\n",
       "0           t1      [i1, i2, i3]\n",
       "1           t2      [i2, i3, i4]\n",
       "2           t3          [i4, i5]\n",
       "3           t4      [i1, i2, i4]\n",
       "4           t5  [i1, i2, i3, i5]\n",
       "5           t6  [i1, i2, i3, i4]"
      ]
     },
     "execution_count": 4,
     "metadata": {},
     "output_type": "execute_result"
    }
   ],
   "source": [
    "transactions = pd.DataFrame(list(transaction_dict.items()), columns=[\"transactions\", \"items\"])\n",
    "transactions"
   ]
  },
  {
   "cell_type": "code",
   "execution_count": 5,
   "metadata": {},
   "outputs": [
    {
     "name": "stdout",
     "output_type": "stream",
     "text": [
      "<class 'pandas.core.frame.DataFrame'>\n",
      "RangeIndex: 6 entries, 0 to 5\n",
      "Data columns (total 2 columns):\n",
      " #   Column        Non-Null Count  Dtype \n",
      "---  ------        --------------  ----- \n",
      " 0   transactions  6 non-null      object\n",
      " 1   items         6 non-null      object\n",
      "dtypes: object(2)\n",
      "memory usage: 224.0+ bytes\n"
     ]
    }
   ],
   "source": [
    "transactions.info()"
   ]
  },
  {
   "cell_type": "code",
   "execution_count": 9,
   "metadata": {},
   "outputs": [
    {
     "data": {
      "text/plain": [
       "[['i1', 'i2', 'i3'],\n",
       " ['i2', 'i3', 'i4'],\n",
       " ['i4', 'i5'],\n",
       " ['i1', 'i2', 'i4'],\n",
       " ['i1', 'i2', 'i3', 'i5'],\n",
       " ['i1', 'i2', 'i3', 'i4']]"
      ]
     },
     "execution_count": 9,
     "metadata": {},
     "output_type": "execute_result"
    }
   ],
   "source": [
    "dataset = transactions[\"items\"].tolist()\n",
    "dataset"
   ]
  },
  {
   "cell_type": "markdown",
   "metadata": {},
   "source": [
    "## ARM with FP Growth"
   ]
  },
  {
   "cell_type": "code",
   "execution_count": 19,
   "metadata": {},
   "outputs": [],
   "source": [
    "from mlxtend.frequent_patterns import fpgrowth\n",
    "from mlxtend.preprocessing import TransactionEncoder"
   ]
  },
  {
   "cell_type": "code",
   "execution_count": 20,
   "metadata": {},
   "outputs": [
    {
     "data": {
      "text/plain": [
       "(numpy.ndarray, (6, 5))"
      ]
     },
     "execution_count": 20,
     "metadata": {},
     "output_type": "execute_result"
    }
   ],
   "source": [
    "te = TransactionEncoder()\n",
    "te_ary = te.fit(dataset)\n",
    "transformed_te_ary = te_ary.transform(dataset)\n",
    "type(transformed_te_ary), transformed_te_ary.shape"
   ]
  },
  {
   "cell_type": "code",
   "execution_count": 21,
   "metadata": {},
   "outputs": [
    {
     "data": {
      "text/html": [
       "<div>\n",
       "<style scoped>\n",
       "    .dataframe tbody tr th:only-of-type {\n",
       "        vertical-align: middle;\n",
       "    }\n",
       "\n",
       "    .dataframe tbody tr th {\n",
       "        vertical-align: top;\n",
       "    }\n",
       "\n",
       "    .dataframe thead th {\n",
       "        text-align: right;\n",
       "    }\n",
       "</style>\n",
       "<table border=\"1\" class=\"dataframe\">\n",
       "  <thead>\n",
       "    <tr style=\"text-align: right;\">\n",
       "      <th></th>\n",
       "      <th>i1</th>\n",
       "      <th>i2</th>\n",
       "      <th>i3</th>\n",
       "      <th>i4</th>\n",
       "      <th>i5</th>\n",
       "    </tr>\n",
       "  </thead>\n",
       "  <tbody>\n",
       "    <tr>\n",
       "      <th>0</th>\n",
       "      <td>True</td>\n",
       "      <td>True</td>\n",
       "      <td>True</td>\n",
       "      <td>False</td>\n",
       "      <td>False</td>\n",
       "    </tr>\n",
       "    <tr>\n",
       "      <th>1</th>\n",
       "      <td>False</td>\n",
       "      <td>True</td>\n",
       "      <td>True</td>\n",
       "      <td>True</td>\n",
       "      <td>False</td>\n",
       "    </tr>\n",
       "    <tr>\n",
       "      <th>2</th>\n",
       "      <td>False</td>\n",
       "      <td>False</td>\n",
       "      <td>False</td>\n",
       "      <td>True</td>\n",
       "      <td>True</td>\n",
       "    </tr>\n",
       "    <tr>\n",
       "      <th>3</th>\n",
       "      <td>True</td>\n",
       "      <td>True</td>\n",
       "      <td>False</td>\n",
       "      <td>True</td>\n",
       "      <td>False</td>\n",
       "    </tr>\n",
       "    <tr>\n",
       "      <th>4</th>\n",
       "      <td>True</td>\n",
       "      <td>True</td>\n",
       "      <td>True</td>\n",
       "      <td>False</td>\n",
       "      <td>True</td>\n",
       "    </tr>\n",
       "  </tbody>\n",
       "</table>\n",
       "</div>"
      ],
      "text/plain": [
       "      i1     i2     i3     i4     i5\n",
       "0   True   True   True  False  False\n",
       "1  False   True   True   True  False\n",
       "2  False  False  False   True   True\n",
       "3   True   True  False   True  False\n",
       "4   True   True   True  False   True"
      ]
     },
     "execution_count": 21,
     "metadata": {},
     "output_type": "execute_result"
    }
   ],
   "source": [
    "df = pd.DataFrame(transformed_te_ary, columns=te.columns_)\n",
    "df.head()"
   ]
  },
  {
   "cell_type": "code",
   "execution_count": 22,
   "metadata": {},
   "outputs": [
    {
     "name": "stdout",
     "output_type": "stream",
     "text": [
      "<class 'pandas.core.frame.DataFrame'>\n",
      "RangeIndex: 6 entries, 0 to 5\n",
      "Data columns (total 5 columns):\n",
      " #   Column  Non-Null Count  Dtype\n",
      "---  ------  --------------  -----\n",
      " 0   i1      6 non-null      bool \n",
      " 1   i2      6 non-null      bool \n",
      " 2   i3      6 non-null      bool \n",
      " 3   i4      6 non-null      bool \n",
      " 4   i5      6 non-null      bool \n",
      "dtypes: bool(5)\n",
      "memory usage: 158.0 bytes\n"
     ]
    }
   ],
   "source": [
    "df.info()"
   ]
  },
  {
   "cell_type": "code",
   "execution_count": 23,
   "metadata": {},
   "outputs": [
    {
     "data": {
      "text/plain": [
       "pandas.core.frame.DataFrame"
      ]
     },
     "execution_count": 23,
     "metadata": {},
     "output_type": "execute_result"
    }
   ],
   "source": [
    "frequent_itemsets = fpgrowth(df, min_support=0.5, use_colnames=True)\n",
    "type(frequent_itemsets)"
   ]
  },
  {
   "cell_type": "code",
   "execution_count": 24,
   "metadata": {},
   "outputs": [
    {
     "data": {
      "text/html": [
       "<div>\n",
       "<style scoped>\n",
       "    .dataframe tbody tr th:only-of-type {\n",
       "        vertical-align: middle;\n",
       "    }\n",
       "\n",
       "    .dataframe tbody tr th {\n",
       "        vertical-align: top;\n",
       "    }\n",
       "\n",
       "    .dataframe thead th {\n",
       "        text-align: right;\n",
       "    }\n",
       "</style>\n",
       "<table border=\"1\" class=\"dataframe\">\n",
       "  <thead>\n",
       "    <tr style=\"text-align: right;\">\n",
       "      <th></th>\n",
       "      <th>support</th>\n",
       "      <th>itemsets</th>\n",
       "    </tr>\n",
       "  </thead>\n",
       "  <tbody>\n",
       "    <tr>\n",
       "      <th>0</th>\n",
       "      <td>0.833333</td>\n",
       "      <td>(i2)</td>\n",
       "    </tr>\n",
       "    <tr>\n",
       "      <th>1</th>\n",
       "      <td>0.666667</td>\n",
       "      <td>(i3)</td>\n",
       "    </tr>\n",
       "    <tr>\n",
       "      <th>2</th>\n",
       "      <td>0.666667</td>\n",
       "      <td>(i1)</td>\n",
       "    </tr>\n",
       "    <tr>\n",
       "      <th>3</th>\n",
       "      <td>0.666667</td>\n",
       "      <td>(i4)</td>\n",
       "    </tr>\n",
       "    <tr>\n",
       "      <th>4</th>\n",
       "      <td>0.666667</td>\n",
       "      <td>(i3, i2)</td>\n",
       "    </tr>\n",
       "    <tr>\n",
       "      <th>5</th>\n",
       "      <td>0.666667</td>\n",
       "      <td>(i2, i1)</td>\n",
       "    </tr>\n",
       "    <tr>\n",
       "      <th>6</th>\n",
       "      <td>0.500000</td>\n",
       "      <td>(i3, i1)</td>\n",
       "    </tr>\n",
       "    <tr>\n",
       "      <th>7</th>\n",
       "      <td>0.500000</td>\n",
       "      <td>(i3, i2, i1)</td>\n",
       "    </tr>\n",
       "    <tr>\n",
       "      <th>8</th>\n",
       "      <td>0.500000</td>\n",
       "      <td>(i4, i2)</td>\n",
       "    </tr>\n",
       "  </tbody>\n",
       "</table>\n",
       "</div>"
      ],
      "text/plain": [
       "    support      itemsets\n",
       "0  0.833333          (i2)\n",
       "1  0.666667          (i3)\n",
       "2  0.666667          (i1)\n",
       "3  0.666667          (i4)\n",
       "4  0.666667      (i3, i2)\n",
       "5  0.666667      (i2, i1)\n",
       "6  0.500000      (i3, i1)\n",
       "7  0.500000  (i3, i2, i1)\n",
       "8  0.500000      (i4, i2)"
      ]
     },
     "execution_count": 24,
     "metadata": {},
     "output_type": "execute_result"
    }
   ],
   "source": [
    "frequent_itemsets"
   ]
  },
  {
   "cell_type": "code",
   "execution_count": 25,
   "metadata": {},
   "outputs": [
    {
     "data": {
      "text/html": [
       "<div>\n",
       "<style scoped>\n",
       "    .dataframe tbody tr th:only-of-type {\n",
       "        vertical-align: middle;\n",
       "    }\n",
       "\n",
       "    .dataframe tbody tr th {\n",
       "        vertical-align: top;\n",
       "    }\n",
       "\n",
       "    .dataframe thead th {\n",
       "        text-align: right;\n",
       "    }\n",
       "</style>\n",
       "<table border=\"1\" class=\"dataframe\">\n",
       "  <thead>\n",
       "    <tr style=\"text-align: right;\">\n",
       "      <th></th>\n",
       "      <th>support</th>\n",
       "      <th>itemsets</th>\n",
       "    </tr>\n",
       "  </thead>\n",
       "  <tbody>\n",
       "    <tr>\n",
       "      <th>0</th>\n",
       "      <td>0.833333</td>\n",
       "      <td>(i2)</td>\n",
       "    </tr>\n",
       "    <tr>\n",
       "      <th>1</th>\n",
       "      <td>0.666667</td>\n",
       "      <td>(i3)</td>\n",
       "    </tr>\n",
       "    <tr>\n",
       "      <th>2</th>\n",
       "      <td>0.666667</td>\n",
       "      <td>(i1)</td>\n",
       "    </tr>\n",
       "    <tr>\n",
       "      <th>3</th>\n",
       "      <td>0.666667</td>\n",
       "      <td>(i4)</td>\n",
       "    </tr>\n",
       "    <tr>\n",
       "      <th>4</th>\n",
       "      <td>0.666667</td>\n",
       "      <td>(i3, i2)</td>\n",
       "    </tr>\n",
       "    <tr>\n",
       "      <th>5</th>\n",
       "      <td>0.666667</td>\n",
       "      <td>(i2, i1)</td>\n",
       "    </tr>\n",
       "    <tr>\n",
       "      <th>6</th>\n",
       "      <td>0.500000</td>\n",
       "      <td>(i3, i1)</td>\n",
       "    </tr>\n",
       "    <tr>\n",
       "      <th>7</th>\n",
       "      <td>0.500000</td>\n",
       "      <td>(i3, i2, i1)</td>\n",
       "    </tr>\n",
       "    <tr>\n",
       "      <th>8</th>\n",
       "      <td>0.500000</td>\n",
       "      <td>(i4, i2)</td>\n",
       "    </tr>\n",
       "  </tbody>\n",
       "</table>\n",
       "</div>"
      ],
      "text/plain": [
       "    support      itemsets\n",
       "0  0.833333          (i2)\n",
       "1  0.666667          (i3)\n",
       "2  0.666667          (i1)\n",
       "3  0.666667          (i4)\n",
       "4  0.666667      (i3, i2)\n",
       "5  0.666667      (i2, i1)\n",
       "6  0.500000      (i3, i1)\n",
       "7  0.500000  (i3, i2, i1)\n",
       "8  0.500000      (i4, i2)"
      ]
     },
     "execution_count": 25,
     "metadata": {},
     "output_type": "execute_result"
    }
   ],
   "source": [
    "frequent_itemsets = frequent_itemsets.sort_values(by=\"support\", ascending=False)\n",
    "frequent_itemsets"
   ]
  },
  {
   "cell_type": "markdown",
   "metadata": {},
   "source": [
    "## ARM with apriori"
   ]
  },
  {
   "cell_type": "markdown",
   "metadata": {},
   "source": [
    "## Support\n",
    "\n",
    "It tell us about how popular an itemset is, as measured by the proportion of transactions in which an itemset appears. It is measured as follows:\n",
    "\n",
    "For Movie Recommendation, we calculate it as:\n",
    "$$\n",
    "\\begin{equation*}\n",
    "support(M) = \\frac{\\text{number of user watchlists containing M}}{\\text{total number of user watchlists}}\n",
    "\\end{equation*}\n",
    "$$\n",
    "\n",
    "wheras for Market Basket Optimization, we calculate it as:\n",
    "$$\n",
    "\\begin{equation*}\n",
    "support(I) = \\frac{\\text{number of transactions containing I}}{\\text{total number of transactions}}\n",
    "\\end{equation*}\n",
    "$$\n",
    "\n",
    "## Confidence\n",
    "\n",
    "It tell us about how likely item B is purchased when item A is purchased, expressed as {A -> B}. It is measured as follows:\n",
    "\n",
    "For Movie Recommendation, we calculate it as:\n",
    "$$\n",
    "\\begin{equation*}\n",
    "confidence(M_1\\rightarrow{M_2}) = \\frac{\\text{number of user watchlists containing $M_1$ and $M_2$}}{\\text{number of user watchlists containing $M_1$}}\n",
    "\\end{equation*}\n",
    "$$\n",
    "\n",
    "wheras for Market Basket Optimization, we calculate it as:\n",
    "$$\n",
    "\\begin{equation*}\n",
    "confidence(I_1\\rightarrow{I_2}) = \\frac{\\text{number of transactions containing $I_1$ and $I_2$}}{\\text{number of transactions containing $I_1$}}\n",
    "\\end{equation*}\n",
    "$$\n",
    "\n",
    "## Lift\n",
    "\n",
    "It tell us about how likely the item B is purchased when the item A is purchased while controlling for how popular item B is. It is measured as follows:\n",
    "\n",
    "For Movie Recommendation, we calculate it as:\n",
    "$$\n",
    "\\begin{equation*}\n",
    "lift(M_1\\rightarrow{M_2}) = \\frac{Confidence(M_1\\rightarrow{M_2})}{Support(M_2)}\n",
    "\\end{equation*}\n",
    "$$\n",
    "\n",
    "wheras for Market Basket Optimization, we calculate it as:\n",
    "$$\n",
    "\\begin{equation*}\n",
    "lift(I_1\\rightarrow{I_2}) = \\frac{Confidence(I_1\\rightarrow{I_2})}{Support(I_2)}\n",
    "\\end{equation*}\n",
    "$$\n",
    "\n",
    "## Apriori\n",
    "\n",
    "Apriori algorithm consist of:\n",
    "\n",
    "1. Step 1: Set a minimum support and confidence.\n",
    "2. Step 2: Take all the subsets in transactions having higher support than minimum support.\n",
    "3. Step 3: Take all the rules of these subsets having higher confidence than minimum confidence.\n",
    "4. Step 4: Sort the rules by decreasing lift.\n",
    "\n",
    "We will be using `apriori` function from `apyori` package to implement the apriori algorithm. It return all the different association measures (or the rules) such support, confidence and lift."
   ]
  },
  {
   "cell_type": "code",
   "execution_count": 26,
   "metadata": {},
   "outputs": [
    {
     "data": {
      "text/html": [
       "<div>\n",
       "<style scoped>\n",
       "    .dataframe tbody tr th:only-of-type {\n",
       "        vertical-align: middle;\n",
       "    }\n",
       "\n",
       "    .dataframe tbody tr th {\n",
       "        vertical-align: top;\n",
       "    }\n",
       "\n",
       "    .dataframe thead th {\n",
       "        text-align: right;\n",
       "    }\n",
       "</style>\n",
       "<table border=\"1\" class=\"dataframe\">\n",
       "  <thead>\n",
       "    <tr style=\"text-align: right;\">\n",
       "      <th></th>\n",
       "      <th>i1</th>\n",
       "      <th>i2</th>\n",
       "      <th>i3</th>\n",
       "      <th>i4</th>\n",
       "      <th>i5</th>\n",
       "    </tr>\n",
       "  </thead>\n",
       "  <tbody>\n",
       "    <tr>\n",
       "      <th>0</th>\n",
       "      <td>True</td>\n",
       "      <td>True</td>\n",
       "      <td>True</td>\n",
       "      <td>False</td>\n",
       "      <td>False</td>\n",
       "    </tr>\n",
       "    <tr>\n",
       "      <th>1</th>\n",
       "      <td>False</td>\n",
       "      <td>True</td>\n",
       "      <td>True</td>\n",
       "      <td>True</td>\n",
       "      <td>False</td>\n",
       "    </tr>\n",
       "    <tr>\n",
       "      <th>2</th>\n",
       "      <td>False</td>\n",
       "      <td>False</td>\n",
       "      <td>False</td>\n",
       "      <td>True</td>\n",
       "      <td>True</td>\n",
       "    </tr>\n",
       "    <tr>\n",
       "      <th>3</th>\n",
       "      <td>True</td>\n",
       "      <td>True</td>\n",
       "      <td>False</td>\n",
       "      <td>True</td>\n",
       "      <td>False</td>\n",
       "    </tr>\n",
       "    <tr>\n",
       "      <th>4</th>\n",
       "      <td>True</td>\n",
       "      <td>True</td>\n",
       "      <td>True</td>\n",
       "      <td>False</td>\n",
       "      <td>True</td>\n",
       "    </tr>\n",
       "    <tr>\n",
       "      <th>5</th>\n",
       "      <td>True</td>\n",
       "      <td>True</td>\n",
       "      <td>True</td>\n",
       "      <td>True</td>\n",
       "      <td>False</td>\n",
       "    </tr>\n",
       "  </tbody>\n",
       "</table>\n",
       "</div>"
      ],
      "text/plain": [
       "      i1     i2     i3     i4     i5\n",
       "0   True   True   True  False  False\n",
       "1  False   True   True   True  False\n",
       "2  False  False  False   True   True\n",
       "3   True   True  False   True  False\n",
       "4   True   True   True  False   True\n",
       "5   True   True   True   True  False"
      ]
     },
     "execution_count": 26,
     "metadata": {},
     "output_type": "execute_result"
    }
   ],
   "source": [
    "df"
   ]
  },
  {
   "cell_type": "code",
   "execution_count": 37,
   "metadata": {},
   "outputs": [
    {
     "data": {
      "text/html": [
       "<div>\n",
       "<style scoped>\n",
       "    .dataframe tbody tr th:only-of-type {\n",
       "        vertical-align: middle;\n",
       "    }\n",
       "\n",
       "    .dataframe tbody tr th {\n",
       "        vertical-align: top;\n",
       "    }\n",
       "\n",
       "    .dataframe thead th {\n",
       "        text-align: right;\n",
       "    }\n",
       "</style>\n",
       "<table border=\"1\" class=\"dataframe\">\n",
       "  <thead>\n",
       "    <tr style=\"text-align: right;\">\n",
       "      <th></th>\n",
       "      <th>support</th>\n",
       "      <th>itemsets</th>\n",
       "    </tr>\n",
       "  </thead>\n",
       "  <tbody>\n",
       "    <tr>\n",
       "      <th>0</th>\n",
       "      <td>0.666667</td>\n",
       "      <td>(i1)</td>\n",
       "    </tr>\n",
       "    <tr>\n",
       "      <th>1</th>\n",
       "      <td>0.833333</td>\n",
       "      <td>(i2)</td>\n",
       "    </tr>\n",
       "    <tr>\n",
       "      <th>2</th>\n",
       "      <td>0.666667</td>\n",
       "      <td>(i3)</td>\n",
       "    </tr>\n",
       "    <tr>\n",
       "      <th>3</th>\n",
       "      <td>0.666667</td>\n",
       "      <td>(i4)</td>\n",
       "    </tr>\n",
       "    <tr>\n",
       "      <th>4</th>\n",
       "      <td>0.666667</td>\n",
       "      <td>(i2, i1)</td>\n",
       "    </tr>\n",
       "    <tr>\n",
       "      <th>5</th>\n",
       "      <td>0.500000</td>\n",
       "      <td>(i3, i1)</td>\n",
       "    </tr>\n",
       "    <tr>\n",
       "      <th>6</th>\n",
       "      <td>0.666667</td>\n",
       "      <td>(i3, i2)</td>\n",
       "    </tr>\n",
       "    <tr>\n",
       "      <th>7</th>\n",
       "      <td>0.500000</td>\n",
       "      <td>(i4, i2)</td>\n",
       "    </tr>\n",
       "    <tr>\n",
       "      <th>8</th>\n",
       "      <td>0.500000</td>\n",
       "      <td>(i3, i2, i1)</td>\n",
       "    </tr>\n",
       "  </tbody>\n",
       "</table>\n",
       "</div>"
      ],
      "text/plain": [
       "    support      itemsets\n",
       "0  0.666667          (i1)\n",
       "1  0.833333          (i2)\n",
       "2  0.666667          (i3)\n",
       "3  0.666667          (i4)\n",
       "4  0.666667      (i2, i1)\n",
       "5  0.500000      (i3, i1)\n",
       "6  0.666667      (i3, i2)\n",
       "7  0.500000      (i4, i2)\n",
       "8  0.500000  (i3, i2, i1)"
      ]
     },
     "execution_count": 37,
     "metadata": {},
     "output_type": "execute_result"
    }
   ],
   "source": [
    "from mlxtend.frequent_patterns import apriori\n",
    "\n",
    "result = apriori(df, min_support=0.5, use_colnames=True, max_len=3)\n",
    "result"
   ]
  },
  {
   "cell_type": "code",
   "execution_count": 38,
   "metadata": {},
   "outputs": [
    {
     "data": {
      "text/html": [
       "<div>\n",
       "<style scoped>\n",
       "    .dataframe tbody tr th:only-of-type {\n",
       "        vertical-align: middle;\n",
       "    }\n",
       "\n",
       "    .dataframe tbody tr th {\n",
       "        vertical-align: top;\n",
       "    }\n",
       "\n",
       "    .dataframe thead th {\n",
       "        text-align: right;\n",
       "    }\n",
       "</style>\n",
       "<table border=\"1\" class=\"dataframe\">\n",
       "  <thead>\n",
       "    <tr style=\"text-align: right;\">\n",
       "      <th></th>\n",
       "      <th>support</th>\n",
       "      <th>itemsets</th>\n",
       "    </tr>\n",
       "  </thead>\n",
       "  <tbody>\n",
       "    <tr>\n",
       "      <th>1</th>\n",
       "      <td>0.833333</td>\n",
       "      <td>(i2)</td>\n",
       "    </tr>\n",
       "    <tr>\n",
       "      <th>0</th>\n",
       "      <td>0.666667</td>\n",
       "      <td>(i1)</td>\n",
       "    </tr>\n",
       "    <tr>\n",
       "      <th>2</th>\n",
       "      <td>0.666667</td>\n",
       "      <td>(i3)</td>\n",
       "    </tr>\n",
       "    <tr>\n",
       "      <th>3</th>\n",
       "      <td>0.666667</td>\n",
       "      <td>(i4)</td>\n",
       "    </tr>\n",
       "    <tr>\n",
       "      <th>4</th>\n",
       "      <td>0.666667</td>\n",
       "      <td>(i2, i1)</td>\n",
       "    </tr>\n",
       "    <tr>\n",
       "      <th>6</th>\n",
       "      <td>0.666667</td>\n",
       "      <td>(i3, i2)</td>\n",
       "    </tr>\n",
       "    <tr>\n",
       "      <th>5</th>\n",
       "      <td>0.500000</td>\n",
       "      <td>(i3, i1)</td>\n",
       "    </tr>\n",
       "    <tr>\n",
       "      <th>7</th>\n",
       "      <td>0.500000</td>\n",
       "      <td>(i4, i2)</td>\n",
       "    </tr>\n",
       "    <tr>\n",
       "      <th>8</th>\n",
       "      <td>0.500000</td>\n",
       "      <td>(i3, i2, i1)</td>\n",
       "    </tr>\n",
       "  </tbody>\n",
       "</table>\n",
       "</div>"
      ],
      "text/plain": [
       "    support      itemsets\n",
       "1  0.833333          (i2)\n",
       "0  0.666667          (i1)\n",
       "2  0.666667          (i3)\n",
       "3  0.666667          (i4)\n",
       "4  0.666667      (i2, i1)\n",
       "6  0.666667      (i3, i2)\n",
       "5  0.500000      (i3, i1)\n",
       "7  0.500000      (i4, i2)\n",
       "8  0.500000  (i3, i2, i1)"
      ]
     },
     "execution_count": 38,
     "metadata": {},
     "output_type": "execute_result"
    }
   ],
   "source": [
    "frequent_itemsets = result.sort_values(by=\"support\", ascending=False)\n",
    "frequent_itemsets"
   ]
  },
  {
   "cell_type": "markdown",
   "metadata": {},
   "source": [
    "### Apriori using apyori"
   ]
  },
  {
   "cell_type": "code",
   "execution_count": 10,
   "metadata": {},
   "outputs": [
    {
     "data": {
      "text/plain": [
       "[['i1', 'i2', 'i3'],\n",
       " ['i2', 'i3', 'i4'],\n",
       " ['i4', 'i5'],\n",
       " ['i1', 'i2', 'i4'],\n",
       " ['i1', 'i2', 'i3', 'i5'],\n",
       " ['i1', 'i2', 'i3', 'i4']]"
      ]
     },
     "execution_count": 10,
     "metadata": {},
     "output_type": "execute_result"
    }
   ],
   "source": [
    "dataset"
   ]
  },
  {
   "cell_type": "code",
   "execution_count": 40,
   "metadata": {},
   "outputs": [],
   "source": [
    "from apyori import apriori"
   ]
  },
  {
   "cell_type": "code",
   "execution_count": 49,
   "metadata": {},
   "outputs": [],
   "source": [
    "rules = apriori(transactions=dataset, min_support = 0.00030, min_confidence=0.0001, min_lift=0.0001, min_length=0, max_length=5)\n",
    "results = list(rules)"
   ]
  },
  {
   "cell_type": "code",
   "execution_count": 50,
   "metadata": {},
   "outputs": [
    {
     "data": {
      "text/plain": [
       "[RelationRecord(items=frozenset({'i1'}), support=0.6666666666666666, ordered_statistics=[OrderedStatistic(items_base=frozenset(), items_add=frozenset({'i1'}), confidence=0.6666666666666666, lift=1.0)]),\n",
       " RelationRecord(items=frozenset({'i2'}), support=0.8333333333333334, ordered_statistics=[OrderedStatistic(items_base=frozenset(), items_add=frozenset({'i2'}), confidence=0.8333333333333334, lift=1.0)]),\n",
       " RelationRecord(items=frozenset({'i3'}), support=0.6666666666666666, ordered_statistics=[OrderedStatistic(items_base=frozenset(), items_add=frozenset({'i3'}), confidence=0.6666666666666666, lift=1.0)]),\n",
       " RelationRecord(items=frozenset({'i4'}), support=0.6666666666666666, ordered_statistics=[OrderedStatistic(items_base=frozenset(), items_add=frozenset({'i4'}), confidence=0.6666666666666666, lift=1.0)]),\n",
       " RelationRecord(items=frozenset({'i5'}), support=0.3333333333333333, ordered_statistics=[OrderedStatistic(items_base=frozenset(), items_add=frozenset({'i5'}), confidence=0.3333333333333333, lift=1.0)]),\n",
       " RelationRecord(items=frozenset({'i2', 'i1'}), support=0.6666666666666666, ordered_statistics=[OrderedStatistic(items_base=frozenset(), items_add=frozenset({'i1', 'i2'}), confidence=0.6666666666666666, lift=1.0), OrderedStatistic(items_base=frozenset({'i1'}), items_add=frozenset({'i2'}), confidence=1.0, lift=1.2), OrderedStatistic(items_base=frozenset({'i2'}), items_add=frozenset({'i1'}), confidence=0.7999999999999999, lift=1.2)]),\n",
       " RelationRecord(items=frozenset({'i3', 'i1'}), support=0.5, ordered_statistics=[OrderedStatistic(items_base=frozenset(), items_add=frozenset({'i3', 'i1'}), confidence=0.5, lift=1.0), OrderedStatistic(items_base=frozenset({'i1'}), items_add=frozenset({'i3'}), confidence=0.75, lift=1.125), OrderedStatistic(items_base=frozenset({'i3'}), items_add=frozenset({'i1'}), confidence=0.75, lift=1.125)]),\n",
       " RelationRecord(items=frozenset({'i4', 'i1'}), support=0.3333333333333333, ordered_statistics=[OrderedStatistic(items_base=frozenset(), items_add=frozenset({'i1', 'i4'}), confidence=0.3333333333333333, lift=1.0), OrderedStatistic(items_base=frozenset({'i1'}), items_add=frozenset({'i4'}), confidence=0.5, lift=0.75), OrderedStatistic(items_base=frozenset({'i4'}), items_add=frozenset({'i1'}), confidence=0.5, lift=0.75)]),\n",
       " RelationRecord(items=frozenset({'i5', 'i1'}), support=0.16666666666666666, ordered_statistics=[OrderedStatistic(items_base=frozenset(), items_add=frozenset({'i5', 'i1'}), confidence=0.16666666666666666, lift=1.0), OrderedStatistic(items_base=frozenset({'i1'}), items_add=frozenset({'i5'}), confidence=0.25, lift=0.75), OrderedStatistic(items_base=frozenset({'i5'}), items_add=frozenset({'i1'}), confidence=0.5, lift=0.75)]),\n",
       " RelationRecord(items=frozenset({'i3', 'i2'}), support=0.6666666666666666, ordered_statistics=[OrderedStatistic(items_base=frozenset(), items_add=frozenset({'i3', 'i2'}), confidence=0.6666666666666666, lift=1.0), OrderedStatistic(items_base=frozenset({'i2'}), items_add=frozenset({'i3'}), confidence=0.7999999999999999, lift=1.2), OrderedStatistic(items_base=frozenset({'i3'}), items_add=frozenset({'i2'}), confidence=1.0, lift=1.2)]),\n",
       " RelationRecord(items=frozenset({'i4', 'i2'}), support=0.5, ordered_statistics=[OrderedStatistic(items_base=frozenset(), items_add=frozenset({'i2', 'i4'}), confidence=0.5, lift=1.0), OrderedStatistic(items_base=frozenset({'i2'}), items_add=frozenset({'i4'}), confidence=0.6, lift=0.9), OrderedStatistic(items_base=frozenset({'i4'}), items_add=frozenset({'i2'}), confidence=0.75, lift=0.8999999999999999)]),\n",
       " RelationRecord(items=frozenset({'i5', 'i2'}), support=0.16666666666666666, ordered_statistics=[OrderedStatistic(items_base=frozenset(), items_add=frozenset({'i5', 'i2'}), confidence=0.16666666666666666, lift=1.0), OrderedStatistic(items_base=frozenset({'i2'}), items_add=frozenset({'i5'}), confidence=0.19999999999999998, lift=0.6), OrderedStatistic(items_base=frozenset({'i5'}), items_add=frozenset({'i2'}), confidence=0.5, lift=0.6)]),\n",
       " RelationRecord(items=frozenset({'i3', 'i4'}), support=0.3333333333333333, ordered_statistics=[OrderedStatistic(items_base=frozenset(), items_add=frozenset({'i3', 'i4'}), confidence=0.3333333333333333, lift=1.0), OrderedStatistic(items_base=frozenset({'i3'}), items_add=frozenset({'i4'}), confidence=0.5, lift=0.75), OrderedStatistic(items_base=frozenset({'i4'}), items_add=frozenset({'i3'}), confidence=0.5, lift=0.75)]),\n",
       " RelationRecord(items=frozenset({'i5', 'i3'}), support=0.16666666666666666, ordered_statistics=[OrderedStatistic(items_base=frozenset(), items_add=frozenset({'i5', 'i3'}), confidence=0.16666666666666666, lift=1.0), OrderedStatistic(items_base=frozenset({'i3'}), items_add=frozenset({'i5'}), confidence=0.25, lift=0.75), OrderedStatistic(items_base=frozenset({'i5'}), items_add=frozenset({'i3'}), confidence=0.5, lift=0.75)]),\n",
       " RelationRecord(items=frozenset({'i5', 'i4'}), support=0.16666666666666666, ordered_statistics=[OrderedStatistic(items_base=frozenset(), items_add=frozenset({'i5', 'i4'}), confidence=0.16666666666666666, lift=1.0), OrderedStatistic(items_base=frozenset({'i4'}), items_add=frozenset({'i5'}), confidence=0.25, lift=0.75), OrderedStatistic(items_base=frozenset({'i5'}), items_add=frozenset({'i4'}), confidence=0.5, lift=0.75)]),\n",
       " RelationRecord(items=frozenset({'i3', 'i2', 'i1'}), support=0.5, ordered_statistics=[OrderedStatistic(items_base=frozenset(), items_add=frozenset({'i3', 'i1', 'i2'}), confidence=0.5, lift=1.0), OrderedStatistic(items_base=frozenset({'i1'}), items_add=frozenset({'i3', 'i2'}), confidence=0.75, lift=1.125), OrderedStatistic(items_base=frozenset({'i2'}), items_add=frozenset({'i3', 'i1'}), confidence=0.6, lift=1.2), OrderedStatistic(items_base=frozenset({'i3'}), items_add=frozenset({'i1', 'i2'}), confidence=0.75, lift=1.125), OrderedStatistic(items_base=frozenset({'i2', 'i1'}), items_add=frozenset({'i3'}), confidence=0.75, lift=1.125), OrderedStatistic(items_base=frozenset({'i3', 'i1'}), items_add=frozenset({'i2'}), confidence=1.0, lift=1.2), OrderedStatistic(items_base=frozenset({'i3', 'i2'}), items_add=frozenset({'i1'}), confidence=0.75, lift=1.125)]),\n",
       " RelationRecord(items=frozenset({'i2', 'i4', 'i1'}), support=0.3333333333333333, ordered_statistics=[OrderedStatistic(items_base=frozenset(), items_add=frozenset({'i1', 'i4', 'i2'}), confidence=0.3333333333333333, lift=1.0), OrderedStatistic(items_base=frozenset({'i1'}), items_add=frozenset({'i4', 'i2'}), confidence=0.5, lift=1.0), OrderedStatistic(items_base=frozenset({'i2'}), items_add=frozenset({'i1', 'i4'}), confidence=0.39999999999999997, lift=1.2), OrderedStatistic(items_base=frozenset({'i4'}), items_add=frozenset({'i1', 'i2'}), confidence=0.5, lift=0.75), OrderedStatistic(items_base=frozenset({'i2', 'i1'}), items_add=frozenset({'i4'}), confidence=0.5, lift=0.75), OrderedStatistic(items_base=frozenset({'i4', 'i1'}), items_add=frozenset({'i2'}), confidence=1.0, lift=1.2), OrderedStatistic(items_base=frozenset({'i4', 'i2'}), items_add=frozenset({'i1'}), confidence=0.6666666666666666, lift=1.0)]),\n",
       " RelationRecord(items=frozenset({'i5', 'i2', 'i1'}), support=0.16666666666666666, ordered_statistics=[OrderedStatistic(items_base=frozenset(), items_add=frozenset({'i5', 'i1', 'i2'}), confidence=0.16666666666666666, lift=1.0), OrderedStatistic(items_base=frozenset({'i1'}), items_add=frozenset({'i5', 'i2'}), confidence=0.25, lift=1.5), OrderedStatistic(items_base=frozenset({'i2'}), items_add=frozenset({'i5', 'i1'}), confidence=0.19999999999999998, lift=1.2), OrderedStatistic(items_base=frozenset({'i5'}), items_add=frozenset({'i1', 'i2'}), confidence=0.5, lift=0.75), OrderedStatistic(items_base=frozenset({'i2', 'i1'}), items_add=frozenset({'i5'}), confidence=0.25, lift=0.75), OrderedStatistic(items_base=frozenset({'i5', 'i1'}), items_add=frozenset({'i2'}), confidence=1.0, lift=1.2), OrderedStatistic(items_base=frozenset({'i5', 'i2'}), items_add=frozenset({'i1'}), confidence=1.0, lift=1.5)]),\n",
       " RelationRecord(items=frozenset({'i3', 'i4', 'i1'}), support=0.16666666666666666, ordered_statistics=[OrderedStatistic(items_base=frozenset(), items_add=frozenset({'i3', 'i1', 'i4'}), confidence=0.16666666666666666, lift=1.0), OrderedStatistic(items_base=frozenset({'i1'}), items_add=frozenset({'i3', 'i4'}), confidence=0.25, lift=0.75), OrderedStatistic(items_base=frozenset({'i3'}), items_add=frozenset({'i1', 'i4'}), confidence=0.25, lift=0.75), OrderedStatistic(items_base=frozenset({'i4'}), items_add=frozenset({'i3', 'i1'}), confidence=0.25, lift=0.5), OrderedStatistic(items_base=frozenset({'i3', 'i1'}), items_add=frozenset({'i4'}), confidence=0.3333333333333333, lift=0.5), OrderedStatistic(items_base=frozenset({'i4', 'i1'}), items_add=frozenset({'i3'}), confidence=0.5, lift=0.75), OrderedStatistic(items_base=frozenset({'i3', 'i4'}), items_add=frozenset({'i1'}), confidence=0.5, lift=0.75)]),\n",
       " RelationRecord(items=frozenset({'i5', 'i3', 'i1'}), support=0.16666666666666666, ordered_statistics=[OrderedStatistic(items_base=frozenset(), items_add=frozenset({'i5', 'i3', 'i1'}), confidence=0.16666666666666666, lift=1.0), OrderedStatistic(items_base=frozenset({'i1'}), items_add=frozenset({'i5', 'i3'}), confidence=0.25, lift=1.5), OrderedStatistic(items_base=frozenset({'i3'}), items_add=frozenset({'i5', 'i1'}), confidence=0.25, lift=1.5), OrderedStatistic(items_base=frozenset({'i5'}), items_add=frozenset({'i3', 'i1'}), confidence=0.5, lift=1.0), OrderedStatistic(items_base=frozenset({'i3', 'i1'}), items_add=frozenset({'i5'}), confidence=0.3333333333333333, lift=1.0), OrderedStatistic(items_base=frozenset({'i5', 'i1'}), items_add=frozenset({'i3'}), confidence=1.0, lift=1.5), OrderedStatistic(items_base=frozenset({'i5', 'i3'}), items_add=frozenset({'i1'}), confidence=1.0, lift=1.5)]),\n",
       " RelationRecord(items=frozenset({'i3', 'i4', 'i2'}), support=0.3333333333333333, ordered_statistics=[OrderedStatistic(items_base=frozenset(), items_add=frozenset({'i3', 'i2', 'i4'}), confidence=0.3333333333333333, lift=1.0), OrderedStatistic(items_base=frozenset({'i2'}), items_add=frozenset({'i3', 'i4'}), confidence=0.39999999999999997, lift=1.2), OrderedStatistic(items_base=frozenset({'i3'}), items_add=frozenset({'i2', 'i4'}), confidence=0.5, lift=1.0), OrderedStatistic(items_base=frozenset({'i4'}), items_add=frozenset({'i3', 'i2'}), confidence=0.5, lift=0.75), OrderedStatistic(items_base=frozenset({'i3', 'i2'}), items_add=frozenset({'i4'}), confidence=0.5, lift=0.75), OrderedStatistic(items_base=frozenset({'i4', 'i2'}), items_add=frozenset({'i3'}), confidence=0.6666666666666666, lift=1.0), OrderedStatistic(items_base=frozenset({'i3', 'i4'}), items_add=frozenset({'i2'}), confidence=1.0, lift=1.2)]),\n",
       " RelationRecord(items=frozenset({'i5', 'i3', 'i2'}), support=0.16666666666666666, ordered_statistics=[OrderedStatistic(items_base=frozenset(), items_add=frozenset({'i5', 'i3', 'i2'}), confidence=0.16666666666666666, lift=1.0), OrderedStatistic(items_base=frozenset({'i2'}), items_add=frozenset({'i5', 'i3'}), confidence=0.19999999999999998, lift=1.2), OrderedStatistic(items_base=frozenset({'i3'}), items_add=frozenset({'i5', 'i2'}), confidence=0.25, lift=1.5), OrderedStatistic(items_base=frozenset({'i5'}), items_add=frozenset({'i3', 'i2'}), confidence=0.5, lift=0.75), OrderedStatistic(items_base=frozenset({'i3', 'i2'}), items_add=frozenset({'i5'}), confidence=0.25, lift=0.75), OrderedStatistic(items_base=frozenset({'i5', 'i2'}), items_add=frozenset({'i3'}), confidence=1.0, lift=1.5), OrderedStatistic(items_base=frozenset({'i5', 'i3'}), items_add=frozenset({'i2'}), confidence=1.0, lift=1.2)]),\n",
       " RelationRecord(items=frozenset({'i3', 'i2', 'i4', 'i1'}), support=0.16666666666666666, ordered_statistics=[OrderedStatistic(items_base=frozenset(), items_add=frozenset({'i3', 'i2', 'i4', 'i1'}), confidence=0.16666666666666666, lift=1.0), OrderedStatistic(items_base=frozenset({'i1'}), items_add=frozenset({'i3', 'i4', 'i2'}), confidence=0.25, lift=0.75), OrderedStatistic(items_base=frozenset({'i2'}), items_add=frozenset({'i3', 'i1', 'i4'}), confidence=0.19999999999999998, lift=1.2), OrderedStatistic(items_base=frozenset({'i3'}), items_add=frozenset({'i1', 'i4', 'i2'}), confidence=0.25, lift=0.75), OrderedStatistic(items_base=frozenset({'i4'}), items_add=frozenset({'i3', 'i1', 'i2'}), confidence=0.25, lift=0.5), OrderedStatistic(items_base=frozenset({'i2', 'i1'}), items_add=frozenset({'i3', 'i4'}), confidence=0.25, lift=0.75), OrderedStatistic(items_base=frozenset({'i3', 'i1'}), items_add=frozenset({'i4', 'i2'}), confidence=0.3333333333333333, lift=0.6666666666666666), OrderedStatistic(items_base=frozenset({'i4', 'i1'}), items_add=frozenset({'i3', 'i2'}), confidence=0.5, lift=0.75), OrderedStatistic(items_base=frozenset({'i3', 'i2'}), items_add=frozenset({'i1', 'i4'}), confidence=0.25, lift=0.75), OrderedStatistic(items_base=frozenset({'i4', 'i2'}), items_add=frozenset({'i3', 'i1'}), confidence=0.3333333333333333, lift=0.6666666666666666), OrderedStatistic(items_base=frozenset({'i3', 'i4'}), items_add=frozenset({'i1', 'i2'}), confidence=0.5, lift=0.75), OrderedStatistic(items_base=frozenset({'i3', 'i2', 'i1'}), items_add=frozenset({'i4'}), confidence=0.3333333333333333, lift=0.5), OrderedStatistic(items_base=frozenset({'i2', 'i4', 'i1'}), items_add=frozenset({'i3'}), confidence=0.5, lift=0.75), OrderedStatistic(items_base=frozenset({'i3', 'i4', 'i1'}), items_add=frozenset({'i2'}), confidence=1.0, lift=1.2), OrderedStatistic(items_base=frozenset({'i3', 'i4', 'i2'}), items_add=frozenset({'i1'}), confidence=0.5, lift=0.75)]),\n",
       " RelationRecord(items=frozenset({'i5', 'i3', 'i2', 'i1'}), support=0.16666666666666666, ordered_statistics=[OrderedStatistic(items_base=frozenset(), items_add=frozenset({'i5', 'i3', 'i2', 'i1'}), confidence=0.16666666666666666, lift=1.0), OrderedStatistic(items_base=frozenset({'i1'}), items_add=frozenset({'i5', 'i3', 'i2'}), confidence=0.25, lift=1.5), OrderedStatistic(items_base=frozenset({'i2'}), items_add=frozenset({'i5', 'i3', 'i1'}), confidence=0.19999999999999998, lift=1.2), OrderedStatistic(items_base=frozenset({'i3'}), items_add=frozenset({'i5', 'i1', 'i2'}), confidence=0.25, lift=1.5), OrderedStatistic(items_base=frozenset({'i5'}), items_add=frozenset({'i3', 'i1', 'i2'}), confidence=0.5, lift=1.0), OrderedStatistic(items_base=frozenset({'i2', 'i1'}), items_add=frozenset({'i5', 'i3'}), confidence=0.25, lift=1.5), OrderedStatistic(items_base=frozenset({'i3', 'i1'}), items_add=frozenset({'i5', 'i2'}), confidence=0.3333333333333333, lift=2.0), OrderedStatistic(items_base=frozenset({'i5', 'i1'}), items_add=frozenset({'i3', 'i2'}), confidence=1.0, lift=1.5), OrderedStatistic(items_base=frozenset({'i3', 'i2'}), items_add=frozenset({'i5', 'i1'}), confidence=0.25, lift=1.5), OrderedStatistic(items_base=frozenset({'i5', 'i2'}), items_add=frozenset({'i3', 'i1'}), confidence=1.0, lift=2.0), OrderedStatistic(items_base=frozenset({'i5', 'i3'}), items_add=frozenset({'i1', 'i2'}), confidence=1.0, lift=1.5), OrderedStatistic(items_base=frozenset({'i3', 'i2', 'i1'}), items_add=frozenset({'i5'}), confidence=0.3333333333333333, lift=1.0), OrderedStatistic(items_base=frozenset({'i5', 'i2', 'i1'}), items_add=frozenset({'i3'}), confidence=1.0, lift=1.5), OrderedStatistic(items_base=frozenset({'i5', 'i3', 'i1'}), items_add=frozenset({'i2'}), confidence=1.0, lift=1.2), OrderedStatistic(items_base=frozenset({'i5', 'i3', 'i2'}), items_add=frozenset({'i1'}), confidence=1.0, lift=1.5)])]"
      ]
     },
     "execution_count": 50,
     "metadata": {},
     "output_type": "execute_result"
    }
   ],
   "source": [
    "results"
   ]
  },
  {
   "cell_type": "code",
   "execution_count": 19,
   "metadata": {},
   "outputs": [
    {
     "ename": "IndexError",
     "evalue": "tuple index out of range",
     "output_type": "error",
     "traceback": [
      "\u001b[0;31m---------------------------------------------------------------------------\u001b[0m",
      "\u001b[0;31mIndexError\u001b[0m                                Traceback (most recent call last)",
      "Cell \u001b[0;32mIn[19], line 12\u001b[0m\n\u001b[1;32m      9\u001b[0m     lifts       \u001b[38;5;241m=\u001b[39m [result[\u001b[38;5;241m2\u001b[39m][\u001b[38;5;241m0\u001b[39m][\u001b[38;5;241m3\u001b[39m] \u001b[38;5;28;01mfor\u001b[39;00m result \u001b[38;5;129;01min\u001b[39;00m results]\n\u001b[1;32m     10\u001b[0m     \u001b[38;5;28;01mreturn\u001b[39;00m \u001b[38;5;28mlist\u001b[39m(\u001b[38;5;28mzip\u001b[39m(lhs, rhs, supports, confidences, lifts))\n\u001b[0;32m---> 12\u001b[0m resultsinDataFrame \u001b[38;5;241m=\u001b[39m pd\u001b[38;5;241m.\u001b[39mDataFrame(\u001b[43minspect\u001b[49m\u001b[43m(\u001b[49m\u001b[43mresults\u001b[49m\u001b[43m)\u001b[49m, columns \u001b[38;5;241m=\u001b[39m [\u001b[38;5;124m'\u001b[39m\u001b[38;5;124mItem #1\u001b[39m\u001b[38;5;124m'\u001b[39m, \u001b[38;5;124m'\u001b[39m\u001b[38;5;124mItem #2\u001b[39m\u001b[38;5;124m'\u001b[39m, \u001b[38;5;124m'\u001b[39m\u001b[38;5;124mSupport\u001b[39m\u001b[38;5;124m'\u001b[39m, \u001b[38;5;124m'\u001b[39m\u001b[38;5;124mConfidence\u001b[39m\u001b[38;5;124m'\u001b[39m, \u001b[38;5;124m'\u001b[39m\u001b[38;5;124mLift\u001b[39m\u001b[38;5;124m'\u001b[39m])\n\u001b[1;32m     13\u001b[0m resultsinDataFrame\u001b[38;5;241m.\u001b[39mhead()\n",
      "Cell \u001b[0;32mIn[19], line 5\u001b[0m, in \u001b[0;36minspect\u001b[0;34m(results)\u001b[0m\n\u001b[1;32m      1\u001b[0m \u001b[38;5;28;01mdef\u001b[39;00m \u001b[38;5;21minspect\u001b[39m(results):\n\u001b[1;32m      2\u001b[0m \u001b[38;5;250m    \u001b[39m\u001b[38;5;124;03m'''\u001b[39;00m\n\u001b[1;32m      3\u001b[0m \u001b[38;5;124;03m    function to put the result in well organised pandas dataframe\u001b[39;00m\n\u001b[1;32m      4\u001b[0m \u001b[38;5;124;03m    '''\u001b[39;00m\n\u001b[0;32m----> 5\u001b[0m     lhs         \u001b[38;5;241m=\u001b[39m [\u001b[38;5;28mtuple\u001b[39m(result[\u001b[38;5;241m2\u001b[39m][\u001b[38;5;241m0\u001b[39m][\u001b[38;5;241m0\u001b[39m])[\u001b[38;5;241m0\u001b[39m] \u001b[38;5;28;01mfor\u001b[39;00m result \u001b[38;5;129;01min\u001b[39;00m results]\n\u001b[1;32m      6\u001b[0m     rhs         \u001b[38;5;241m=\u001b[39m [\u001b[38;5;28mtuple\u001b[39m(result[\u001b[38;5;241m2\u001b[39m][\u001b[38;5;241m0\u001b[39m][\u001b[38;5;241m1\u001b[39m])[\u001b[38;5;241m0\u001b[39m] \u001b[38;5;28;01mfor\u001b[39;00m result \u001b[38;5;129;01min\u001b[39;00m results]\n\u001b[1;32m      7\u001b[0m     supports    \u001b[38;5;241m=\u001b[39m [result[\u001b[38;5;241m1\u001b[39m] \u001b[38;5;28;01mfor\u001b[39;00m result \u001b[38;5;129;01min\u001b[39;00m results]\n",
      "Cell \u001b[0;32mIn[19], line 5\u001b[0m, in \u001b[0;36m<listcomp>\u001b[0;34m(.0)\u001b[0m\n\u001b[1;32m      1\u001b[0m \u001b[38;5;28;01mdef\u001b[39;00m \u001b[38;5;21minspect\u001b[39m(results):\n\u001b[1;32m      2\u001b[0m \u001b[38;5;250m    \u001b[39m\u001b[38;5;124;03m'''\u001b[39;00m\n\u001b[1;32m      3\u001b[0m \u001b[38;5;124;03m    function to put the result in well organised pandas dataframe\u001b[39;00m\n\u001b[1;32m      4\u001b[0m \u001b[38;5;124;03m    '''\u001b[39;00m\n\u001b[0;32m----> 5\u001b[0m     lhs         \u001b[38;5;241m=\u001b[39m [\u001b[38;5;28;43mtuple\u001b[39;49m\u001b[43m(\u001b[49m\u001b[43mresult\u001b[49m\u001b[43m[\u001b[49m\u001b[38;5;241;43m2\u001b[39;49m\u001b[43m]\u001b[49m\u001b[43m[\u001b[49m\u001b[38;5;241;43m0\u001b[39;49m\u001b[43m]\u001b[49m\u001b[43m[\u001b[49m\u001b[38;5;241;43m0\u001b[39;49m\u001b[43m]\u001b[49m\u001b[43m)\u001b[49m\u001b[43m[\u001b[49m\u001b[38;5;241;43m0\u001b[39;49m\u001b[43m]\u001b[49m \u001b[38;5;28;01mfor\u001b[39;00m result \u001b[38;5;129;01min\u001b[39;00m results]\n\u001b[1;32m      6\u001b[0m     rhs         \u001b[38;5;241m=\u001b[39m [\u001b[38;5;28mtuple\u001b[39m(result[\u001b[38;5;241m2\u001b[39m][\u001b[38;5;241m0\u001b[39m][\u001b[38;5;241m1\u001b[39m])[\u001b[38;5;241m0\u001b[39m] \u001b[38;5;28;01mfor\u001b[39;00m result \u001b[38;5;129;01min\u001b[39;00m results]\n\u001b[1;32m      7\u001b[0m     supports    \u001b[38;5;241m=\u001b[39m [result[\u001b[38;5;241m1\u001b[39m] \u001b[38;5;28;01mfor\u001b[39;00m result \u001b[38;5;129;01min\u001b[39;00m results]\n",
      "\u001b[0;31mIndexError\u001b[0m: tuple index out of range"
     ]
    }
   ],
   "source": [
    "def inspect(results):\n",
    "    '''\n",
    "    function to put the result in well organised pandas dataframe\n",
    "    '''\n",
    "    lhs         = [tuple(result[2][0][0])[0] for result in results]\n",
    "    rhs         = [tuple(result[2][0][1])[0] for result in results]\n",
    "    supports    = [result[1] for result in results]\n",
    "    confidences = [result[2][0][2] for result in results]\n",
    "    lifts       = [result[2][0][3] for result in results]\n",
    "    return list(zip(lhs, rhs, supports, confidences, lifts))\n",
    "\n",
    "resultsinDataFrame = pd.DataFrame(inspect(results), columns = ['Item #1', 'Item #2', 'Support', 'Confidence', 'Lift'])\n",
    "resultsinDataFrame.head()"
   ]
  },
  {
   "cell_type": "code",
   "execution_count": null,
   "metadata": {},
   "outputs": [],
   "source": []
  }
 ],
 "metadata": {
  "kernelspec": {
   "display_name": "trainee",
   "language": "python",
   "name": "python3"
  },
  "language_info": {
   "codemirror_mode": {
    "name": "ipython",
    "version": 3
   },
   "file_extension": ".py",
   "mimetype": "text/x-python",
   "name": "python",
   "nbconvert_exporter": "python",
   "pygments_lexer": "ipython3",
   "version": "3.9.19"
  }
 },
 "nbformat": 4,
 "nbformat_minor": 2
}
