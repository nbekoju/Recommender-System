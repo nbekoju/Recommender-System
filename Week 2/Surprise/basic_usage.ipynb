{
  "nbformat": 4,
  "nbformat_minor": 0,
  "metadata": {
    "colab": {
      "provenance": []
    },
    "kernelspec": {
      "name": "python3",
      "display_name": "Python 3"
    },
    "language_info": {
      "name": "python"
    }
  },
  "cells": [
    {
      "cell_type": "code",
      "execution_count": 1,
      "metadata": {
        "colab": {
          "base_uri": "https://localhost:8080/"
        },
        "id": "8w4TKTCfvO2t",
        "outputId": "4fbc3cc0-0c1d-4822-cb8b-cb8df4ba2e78"
      },
      "outputs": [
        {
          "output_type": "stream",
          "name": "stdout",
          "text": [
            "Collecting scikit-surprise\n",
            "  Downloading scikit-surprise-1.1.3.tar.gz (771 kB)\n",
            "\u001b[2K     \u001b[90m━━━━━━━━━━━━━━━━━━━━━━━━━━━━━━━━━━━━━━━━\u001b[0m \u001b[32m772.0/772.0 kB\u001b[0m \u001b[31m6.1 MB/s\u001b[0m eta \u001b[36m0:00:00\u001b[0m\n",
            "\u001b[?25h  Preparing metadata (setup.py) ... \u001b[?25l\u001b[?25hdone\n",
            "Requirement already satisfied: joblib>=1.0.0 in /usr/local/lib/python3.10/dist-packages (from scikit-surprise) (1.4.2)\n",
            "Requirement already satisfied: numpy>=1.17.3 in /usr/local/lib/python3.10/dist-packages (from scikit-surprise) (1.25.2)\n",
            "Requirement already satisfied: scipy>=1.3.2 in /usr/local/lib/python3.10/dist-packages (from scikit-surprise) (1.11.4)\n",
            "Building wheels for collected packages: scikit-surprise\n",
            "  Building wheel for scikit-surprise (setup.py) ... \u001b[?25l\u001b[?25hdone\n",
            "  Created wheel for scikit-surprise: filename=scikit_surprise-1.1.3-cp310-cp310-linux_x86_64.whl size=3162993 sha256=42cfd6de135999476a12ba43db92e4b03d07762db4c1adaa84807f3347dcd021\n",
            "  Stored in directory: /root/.cache/pip/wheels/a5/ca/a8/4e28def53797fdc4363ca4af740db15a9c2f1595ebc51fb445\n",
            "Successfully built scikit-surprise\n",
            "Installing collected packages: scikit-surprise\n",
            "Successfully installed scikit-surprise-1.1.3\n"
          ]
        }
      ],
      "source": [
        "!pip install scikit-surprise"
      ]
    },
    {
      "cell_type": "markdown",
      "source": [
        "### Automatic cross-validation"
      ],
      "metadata": {
        "id": "0gqVf5Qqwoyg"
      }
    },
    {
      "cell_type": "code",
      "source": [
        "from surprise import Dataset, SVD\n",
        "from surprise.model_selection import cross_validate\n",
        "\n",
        "data = Dataset.load_builtin(\"ml-100k\")\n",
        "algo = SVD()\n",
        "\n",
        "cross_validate(algo, data, measures = [\"RMSE\"], cv=10, verbose=True)"
      ],
      "metadata": {
        "colab": {
          "base_uri": "https://localhost:8080/"
        },
        "id": "mstPESE-vSnW",
        "outputId": "98816245-079f-4ba2-8acd-32b5a6997e8c"
      },
      "execution_count": 2,
      "outputs": [
        {
          "output_type": "stream",
          "name": "stdout",
          "text": [
            "Dataset ml-100k could not be found. Do you want to download it? [Y/n] Y\n",
            "Trying to download dataset from https://files.grouplens.org/datasets/movielens/ml-100k.zip...\n",
            "Done! Dataset ml-100k has been saved to /root/.surprise_data/ml-100k\n",
            "Evaluating RMSE of algorithm SVD on 10 split(s).\n",
            "\n",
            "                  Fold 1  Fold 2  Fold 3  Fold 4  Fold 5  Fold 6  Fold 7  Fold 8  Fold 9  Fold 10 Mean    Std     \n",
            "RMSE (testset)    0.9288  0.9282  0.9221  0.9360  0.9283  0.9185  0.9386  0.9264  0.9319  0.9297  0.9288  0.0056  \n",
            "Fit time          1.89    1.94    2.72    1.96    1.97    2.04    1.94    2.59    2.00    1.98    2.10    0.28    \n",
            "Test time         0.08    0.07    0.28    0.07    0.08    0.07    0.07    0.12    0.07    0.11    0.10    0.06    \n"
          ]
        },
        {
          "output_type": "execute_result",
          "data": {
            "text/plain": [
              "{'test_rmse': array([0.92881194, 0.92816751, 0.922104  , 0.93596753, 0.9283004 ,\n",
              "        0.9185045 , 0.93857263, 0.92639274, 0.93189815, 0.92966254]),\n",
              " 'fit_time': (1.8896770477294922,\n",
              "  1.937110185623169,\n",
              "  2.7196662425994873,\n",
              "  1.9574689865112305,\n",
              "  1.9687485694885254,\n",
              "  2.035306692123413,\n",
              "  1.9413673877716064,\n",
              "  2.586057424545288,\n",
              "  2.0005342960357666,\n",
              "  1.9795880317687988),\n",
              " 'test_time': (0.07640790939331055,\n",
              "  0.07301092147827148,\n",
              "  0.2788503170013428,\n",
              "  0.0681922435760498,\n",
              "  0.07867646217346191,\n",
              "  0.07459259033203125,\n",
              "  0.07301926612854004,\n",
              "  0.12317514419555664,\n",
              "  0.0654287338256836,\n",
              "  0.11285781860351562)}"
            ]
          },
          "metadata": {},
          "execution_count": 2
        }
      ]
    },
    {
      "cell_type": "code",
      "source": [
        "data"
      ],
      "metadata": {
        "colab": {
          "base_uri": "https://localhost:8080/"
        },
        "id": "RQ1Gf7LlviWB",
        "outputId": "9260f17f-c5fb-434c-a289-32e815007e6b"
      },
      "execution_count": 3,
      "outputs": [
        {
          "output_type": "execute_result",
          "data": {
            "text/plain": [
              "<surprise.dataset.DatasetAutoFolds at 0x7e03922a6c20>"
            ]
          },
          "metadata": {},
          "execution_count": 3
        }
      ]
    },
    {
      "cell_type": "markdown",
      "source": [
        "### Train-test split and fit() method"
      ],
      "metadata": {
        "id": "JTD9h3I7wsyx"
      }
    },
    {
      "cell_type": "code",
      "source": [
        "from surprise import accuracy, Dataset, SVD\n",
        "from surprise.model_selection import train_test_split\n",
        "\n",
        "data = Dataset.load_builtin(\"ml-100k\")\n",
        "\n",
        "trainset, testset = train_test_split(data, test_size = 0.25)\n",
        "\n",
        "algo = SVD()\n",
        "\n",
        "algo.fit(trainset)\n",
        "predictions = algo.test(testset)\n",
        "accuracy.rmse(predictions)"
      ],
      "metadata": {
        "colab": {
          "base_uri": "https://localhost:8080/"
        },
        "id": "c59IOtTxv8xC",
        "outputId": "ec5f12e6-2ff8-4add-959b-56be550c45ae"
      },
      "execution_count": 4,
      "outputs": [
        {
          "output_type": "stream",
          "name": "stdout",
          "text": [
            "RMSE: 0.9445\n"
          ]
        },
        {
          "output_type": "execute_result",
          "data": {
            "text/plain": [
              "0.9444615703614132"
            ]
          },
          "metadata": {},
          "execution_count": 4
        }
      ]
    },
    {
      "cell_type": "markdown",
      "source": [
        "### Train on a whole trainset and the predict() method"
      ],
      "metadata": {
        "id": "MW6rHNw7xInv"
      }
    },
    {
      "cell_type": "code",
      "source": [
        "from surprise import Dataset, KNNBasic\n",
        "\n",
        "data = Dataset.load_builtin(\"ml-100k\")\n",
        "\n",
        "trainset = data.build_full_trainset()\n",
        "\n",
        "algo = KNNBasic()\n",
        "algo.fit(trainset)"
      ],
      "metadata": {
        "colab": {
          "base_uri": "https://localhost:8080/"
        },
        "id": "rf9GT07yxBFU",
        "outputId": "3c89b72b-adc1-46e2-e84a-51eb02dc8cce"
      },
      "execution_count": 5,
      "outputs": [
        {
          "output_type": "stream",
          "name": "stdout",
          "text": [
            "Computing the msd similarity matrix...\n",
            "Done computing similarity matrix.\n"
          ]
        },
        {
          "output_type": "execute_result",
          "data": {
            "text/plain": [
              "<surprise.prediction_algorithms.knns.KNNBasic at 0x7e03922a4460>"
            ]
          },
          "metadata": {},
          "execution_count": 5
        }
      ]
    },
    {
      "cell_type": "code",
      "source": [
        "uid = str(196)\n",
        "iid = str(302)\n",
        "\n",
        "# true rating r_ui = 4\n",
        "pred = algo.predict(uid, iid, r_ui=4, verbose=True)"
      ],
      "metadata": {
        "colab": {
          "base_uri": "https://localhost:8080/"
        },
        "id": "zo4FchsJxWav",
        "outputId": "b5005e1d-1ae2-4638-dd5d-253a2c19661e"
      },
      "execution_count": 7,
      "outputs": [
        {
          "output_type": "stream",
          "name": "stdout",
          "text": [
            "user: 196        item: 302        r_ui = 4.00   est = 4.06   {'actual_k': 40, 'was_impossible': False}\n"
          ]
        }
      ]
    },
    {
      "cell_type": "code",
      "source": [
        "uid = str(-196)\n",
        "iid = str(-1231302)\n",
        "\n",
        "# true rating r_ui = 4\n",
        "pred = algo.predict(uid, iid, r_ui=4, verbose=True)"
      ],
      "metadata": {
        "colab": {
          "base_uri": "https://localhost:8080/"
        },
        "id": "GBOzZ-i0xjLu",
        "outputId": "cfb14629-e58c-4bec-b931-0a8352152ad3"
      },
      "execution_count": 9,
      "outputs": [
        {
          "output_type": "stream",
          "name": "stdout",
          "text": [
            "user: -196       item: -1231302   r_ui = 4.00   est = 3.53   {'was_impossible': True, 'reason': 'User and/or item is unknown.'}\n"
          ]
        }
      ]
    },
    {
      "cell_type": "markdown",
      "source": [
        "**We can see, was_impossible = True**"
      ],
      "metadata": {
        "id": "GI1uT3Enx8D0"
      }
    },
    {
      "cell_type": "code",
      "source": [
        "uid = str(2006)\n",
        "iid = str(-1231302)\n",
        "\n",
        "# true rating r_ui = 4\n",
        "pred = algo.predict(uid, iid, r_ui=4, verbose=True)"
      ],
      "metadata": {
        "colab": {
          "base_uri": "https://localhost:8080/"
        },
        "id": "KJEC2z4UxsFK",
        "outputId": "8e946165-f459-4180-fa38-ea2891356bc6"
      },
      "execution_count": 11,
      "outputs": [
        {
          "output_type": "stream",
          "name": "stdout",
          "text": [
            "user: 2006       item: -1231302   r_ui = 4.00   est = 3.53   {'was_impossible': True, 'reason': 'User and/or item is unknown.'}\n"
          ]
        }
      ]
    },
    {
      "cell_type": "markdown",
      "source": [
        "## Use a custom dataset"
      ],
      "metadata": {
        "id": "8GwZF30-yCE4"
      }
    },
    {
      "cell_type": "code",
      "source": [
        "import os\n",
        "import pandas as pd\n",
        "\n",
        "from surprise import BaselineOnly, Dataset, Reader\n",
        "from surprise.model_selection import cross_validate\n",
        "\n",
        "file_path = os.path.expanduser(\"~/.surprise_data/ml-100k/ml-100k/u.data\")"
      ],
      "metadata": {
        "id": "b8mzlzdixxRW"
      },
      "execution_count": 12,
      "outputs": []
    },
    {
      "cell_type": "code",
      "source": [
        "cols = [\"user\", \"item\", \"rating\", \"timestamp\"]\n",
        "data = pd.read_csv(file_path, sep=\"\\t\", names=cols, encoding=\"latin-1\")\n",
        "data.head()"
      ],
      "metadata": {
        "colab": {
          "base_uri": "https://localhost:8080/",
          "height": 206
        },
        "id": "eAK_kwaPyh4H",
        "outputId": "52424e26-4354-4d15-dceb-0c41a0b113e9"
      },
      "execution_count": 15,
      "outputs": [
        {
          "output_type": "execute_result",
          "data": {
            "text/plain": [
              "   user  item  rating  timestamp\n",
              "0   196   242       3  881250949\n",
              "1   186   302       3  891717742\n",
              "2    22   377       1  878887116\n",
              "3   244    51       2  880606923\n",
              "4   166   346       1  886397596"
            ],
            "text/html": [
              "\n",
              "  <div id=\"df-3a943e93-3518-4571-a5c6-a68aef0678bf\" class=\"colab-df-container\">\n",
              "    <div>\n",
              "<style scoped>\n",
              "    .dataframe tbody tr th:only-of-type {\n",
              "        vertical-align: middle;\n",
              "    }\n",
              "\n",
              "    .dataframe tbody tr th {\n",
              "        vertical-align: top;\n",
              "    }\n",
              "\n",
              "    .dataframe thead th {\n",
              "        text-align: right;\n",
              "    }\n",
              "</style>\n",
              "<table border=\"1\" class=\"dataframe\">\n",
              "  <thead>\n",
              "    <tr style=\"text-align: right;\">\n",
              "      <th></th>\n",
              "      <th>user</th>\n",
              "      <th>item</th>\n",
              "      <th>rating</th>\n",
              "      <th>timestamp</th>\n",
              "    </tr>\n",
              "  </thead>\n",
              "  <tbody>\n",
              "    <tr>\n",
              "      <th>0</th>\n",
              "      <td>196</td>\n",
              "      <td>242</td>\n",
              "      <td>3</td>\n",
              "      <td>881250949</td>\n",
              "    </tr>\n",
              "    <tr>\n",
              "      <th>1</th>\n",
              "      <td>186</td>\n",
              "      <td>302</td>\n",
              "      <td>3</td>\n",
              "      <td>891717742</td>\n",
              "    </tr>\n",
              "    <tr>\n",
              "      <th>2</th>\n",
              "      <td>22</td>\n",
              "      <td>377</td>\n",
              "      <td>1</td>\n",
              "      <td>878887116</td>\n",
              "    </tr>\n",
              "    <tr>\n",
              "      <th>3</th>\n",
              "      <td>244</td>\n",
              "      <td>51</td>\n",
              "      <td>2</td>\n",
              "      <td>880606923</td>\n",
              "    </tr>\n",
              "    <tr>\n",
              "      <th>4</th>\n",
              "      <td>166</td>\n",
              "      <td>346</td>\n",
              "      <td>1</td>\n",
              "      <td>886397596</td>\n",
              "    </tr>\n",
              "  </tbody>\n",
              "</table>\n",
              "</div>\n",
              "    <div class=\"colab-df-buttons\">\n",
              "\n",
              "  <div class=\"colab-df-container\">\n",
              "    <button class=\"colab-df-convert\" onclick=\"convertToInteractive('df-3a943e93-3518-4571-a5c6-a68aef0678bf')\"\n",
              "            title=\"Convert this dataframe to an interactive table.\"\n",
              "            style=\"display:none;\">\n",
              "\n",
              "  <svg xmlns=\"http://www.w3.org/2000/svg\" height=\"24px\" viewBox=\"0 -960 960 960\">\n",
              "    <path d=\"M120-120v-720h720v720H120Zm60-500h600v-160H180v160Zm220 220h160v-160H400v160Zm0 220h160v-160H400v160ZM180-400h160v-160H180v160Zm440 0h160v-160H620v160ZM180-180h160v-160H180v160Zm440 0h160v-160H620v160Z\"/>\n",
              "  </svg>\n",
              "    </button>\n",
              "\n",
              "  <style>\n",
              "    .colab-df-container {\n",
              "      display:flex;\n",
              "      gap: 12px;\n",
              "    }\n",
              "\n",
              "    .colab-df-convert {\n",
              "      background-color: #E8F0FE;\n",
              "      border: none;\n",
              "      border-radius: 50%;\n",
              "      cursor: pointer;\n",
              "      display: none;\n",
              "      fill: #1967D2;\n",
              "      height: 32px;\n",
              "      padding: 0 0 0 0;\n",
              "      width: 32px;\n",
              "    }\n",
              "\n",
              "    .colab-df-convert:hover {\n",
              "      background-color: #E2EBFA;\n",
              "      box-shadow: 0px 1px 2px rgba(60, 64, 67, 0.3), 0px 1px 3px 1px rgba(60, 64, 67, 0.15);\n",
              "      fill: #174EA6;\n",
              "    }\n",
              "\n",
              "    .colab-df-buttons div {\n",
              "      margin-bottom: 4px;\n",
              "    }\n",
              "\n",
              "    [theme=dark] .colab-df-convert {\n",
              "      background-color: #3B4455;\n",
              "      fill: #D2E3FC;\n",
              "    }\n",
              "\n",
              "    [theme=dark] .colab-df-convert:hover {\n",
              "      background-color: #434B5C;\n",
              "      box-shadow: 0px 1px 3px 1px rgba(0, 0, 0, 0.15);\n",
              "      filter: drop-shadow(0px 1px 2px rgba(0, 0, 0, 0.3));\n",
              "      fill: #FFFFFF;\n",
              "    }\n",
              "  </style>\n",
              "\n",
              "    <script>\n",
              "      const buttonEl =\n",
              "        document.querySelector('#df-3a943e93-3518-4571-a5c6-a68aef0678bf button.colab-df-convert');\n",
              "      buttonEl.style.display =\n",
              "        google.colab.kernel.accessAllowed ? 'block' : 'none';\n",
              "\n",
              "      async function convertToInteractive(key) {\n",
              "        const element = document.querySelector('#df-3a943e93-3518-4571-a5c6-a68aef0678bf');\n",
              "        const dataTable =\n",
              "          await google.colab.kernel.invokeFunction('convertToInteractive',\n",
              "                                                    [key], {});\n",
              "        if (!dataTable) return;\n",
              "\n",
              "        const docLinkHtml = 'Like what you see? Visit the ' +\n",
              "          '<a target=\"_blank\" href=https://colab.research.google.com/notebooks/data_table.ipynb>data table notebook</a>'\n",
              "          + ' to learn more about interactive tables.';\n",
              "        element.innerHTML = '';\n",
              "        dataTable['output_type'] = 'display_data';\n",
              "        await google.colab.output.renderOutput(dataTable, element);\n",
              "        const docLink = document.createElement('div');\n",
              "        docLink.innerHTML = docLinkHtml;\n",
              "        element.appendChild(docLink);\n",
              "      }\n",
              "    </script>\n",
              "  </div>\n",
              "\n",
              "\n",
              "<div id=\"df-0d383f4d-f360-4dc3-a69e-018a5d4310e4\">\n",
              "  <button class=\"colab-df-quickchart\" onclick=\"quickchart('df-0d383f4d-f360-4dc3-a69e-018a5d4310e4')\"\n",
              "            title=\"Suggest charts\"\n",
              "            style=\"display:none;\">\n",
              "\n",
              "<svg xmlns=\"http://www.w3.org/2000/svg\" height=\"24px\"viewBox=\"0 0 24 24\"\n",
              "     width=\"24px\">\n",
              "    <g>\n",
              "        <path d=\"M19 3H5c-1.1 0-2 .9-2 2v14c0 1.1.9 2 2 2h14c1.1 0 2-.9 2-2V5c0-1.1-.9-2-2-2zM9 17H7v-7h2v7zm4 0h-2V7h2v10zm4 0h-2v-4h2v4z\"/>\n",
              "    </g>\n",
              "</svg>\n",
              "  </button>\n",
              "\n",
              "<style>\n",
              "  .colab-df-quickchart {\n",
              "      --bg-color: #E8F0FE;\n",
              "      --fill-color: #1967D2;\n",
              "      --hover-bg-color: #E2EBFA;\n",
              "      --hover-fill-color: #174EA6;\n",
              "      --disabled-fill-color: #AAA;\n",
              "      --disabled-bg-color: #DDD;\n",
              "  }\n",
              "\n",
              "  [theme=dark] .colab-df-quickchart {\n",
              "      --bg-color: #3B4455;\n",
              "      --fill-color: #D2E3FC;\n",
              "      --hover-bg-color: #434B5C;\n",
              "      --hover-fill-color: #FFFFFF;\n",
              "      --disabled-bg-color: #3B4455;\n",
              "      --disabled-fill-color: #666;\n",
              "  }\n",
              "\n",
              "  .colab-df-quickchart {\n",
              "    background-color: var(--bg-color);\n",
              "    border: none;\n",
              "    border-radius: 50%;\n",
              "    cursor: pointer;\n",
              "    display: none;\n",
              "    fill: var(--fill-color);\n",
              "    height: 32px;\n",
              "    padding: 0;\n",
              "    width: 32px;\n",
              "  }\n",
              "\n",
              "  .colab-df-quickchart:hover {\n",
              "    background-color: var(--hover-bg-color);\n",
              "    box-shadow: 0 1px 2px rgba(60, 64, 67, 0.3), 0 1px 3px 1px rgba(60, 64, 67, 0.15);\n",
              "    fill: var(--button-hover-fill-color);\n",
              "  }\n",
              "\n",
              "  .colab-df-quickchart-complete:disabled,\n",
              "  .colab-df-quickchart-complete:disabled:hover {\n",
              "    background-color: var(--disabled-bg-color);\n",
              "    fill: var(--disabled-fill-color);\n",
              "    box-shadow: none;\n",
              "  }\n",
              "\n",
              "  .colab-df-spinner {\n",
              "    border: 2px solid var(--fill-color);\n",
              "    border-color: transparent;\n",
              "    border-bottom-color: var(--fill-color);\n",
              "    animation:\n",
              "      spin 1s steps(1) infinite;\n",
              "  }\n",
              "\n",
              "  @keyframes spin {\n",
              "    0% {\n",
              "      border-color: transparent;\n",
              "      border-bottom-color: var(--fill-color);\n",
              "      border-left-color: var(--fill-color);\n",
              "    }\n",
              "    20% {\n",
              "      border-color: transparent;\n",
              "      border-left-color: var(--fill-color);\n",
              "      border-top-color: var(--fill-color);\n",
              "    }\n",
              "    30% {\n",
              "      border-color: transparent;\n",
              "      border-left-color: var(--fill-color);\n",
              "      border-top-color: var(--fill-color);\n",
              "      border-right-color: var(--fill-color);\n",
              "    }\n",
              "    40% {\n",
              "      border-color: transparent;\n",
              "      border-right-color: var(--fill-color);\n",
              "      border-top-color: var(--fill-color);\n",
              "    }\n",
              "    60% {\n",
              "      border-color: transparent;\n",
              "      border-right-color: var(--fill-color);\n",
              "    }\n",
              "    80% {\n",
              "      border-color: transparent;\n",
              "      border-right-color: var(--fill-color);\n",
              "      border-bottom-color: var(--fill-color);\n",
              "    }\n",
              "    90% {\n",
              "      border-color: transparent;\n",
              "      border-bottom-color: var(--fill-color);\n",
              "    }\n",
              "  }\n",
              "</style>\n",
              "\n",
              "  <script>\n",
              "    async function quickchart(key) {\n",
              "      const quickchartButtonEl =\n",
              "        document.querySelector('#' + key + ' button');\n",
              "      quickchartButtonEl.disabled = true;  // To prevent multiple clicks.\n",
              "      quickchartButtonEl.classList.add('colab-df-spinner');\n",
              "      try {\n",
              "        const charts = await google.colab.kernel.invokeFunction(\n",
              "            'suggestCharts', [key], {});\n",
              "      } catch (error) {\n",
              "        console.error('Error during call to suggestCharts:', error);\n",
              "      }\n",
              "      quickchartButtonEl.classList.remove('colab-df-spinner');\n",
              "      quickchartButtonEl.classList.add('colab-df-quickchart-complete');\n",
              "    }\n",
              "    (() => {\n",
              "      let quickchartButtonEl =\n",
              "        document.querySelector('#df-0d383f4d-f360-4dc3-a69e-018a5d4310e4 button');\n",
              "      quickchartButtonEl.style.display =\n",
              "        google.colab.kernel.accessAllowed ? 'block' : 'none';\n",
              "    })();\n",
              "  </script>\n",
              "</div>\n",
              "    </div>\n",
              "  </div>\n"
            ],
            "application/vnd.google.colaboratory.intrinsic+json": {
              "type": "dataframe",
              "variable_name": "data",
              "summary": "{\n  \"name\": \"data\",\n  \"rows\": 100000,\n  \"fields\": [\n    {\n      \"column\": \"user\",\n      \"properties\": {\n        \"dtype\": \"number\",\n        \"std\": 266,\n        \"min\": 1,\n        \"max\": 943,\n        \"num_unique_values\": 943,\n        \"samples\": [\n          262,\n          136,\n          821\n        ],\n        \"semantic_type\": \"\",\n        \"description\": \"\"\n      }\n    },\n    {\n      \"column\": \"item\",\n      \"properties\": {\n        \"dtype\": \"number\",\n        \"std\": 330,\n        \"min\": 1,\n        \"max\": 1682,\n        \"num_unique_values\": 1682,\n        \"samples\": [\n          1557,\n          808,\n          1618\n        ],\n        \"semantic_type\": \"\",\n        \"description\": \"\"\n      }\n    },\n    {\n      \"column\": \"rating\",\n      \"properties\": {\n        \"dtype\": \"number\",\n        \"std\": 1,\n        \"min\": 1,\n        \"max\": 5,\n        \"num_unique_values\": 5,\n        \"samples\": [\n          1,\n          5,\n          2\n        ],\n        \"semantic_type\": \"\",\n        \"description\": \"\"\n      }\n    },\n    {\n      \"column\": \"timestamp\",\n      \"properties\": {\n        \"dtype\": \"number\",\n        \"std\": 5343856,\n        \"min\": 874724710,\n        \"max\": 893286638,\n        \"num_unique_values\": 49282,\n        \"samples\": [\n          889728713,\n          888443306,\n          880605158\n        ],\n        \"semantic_type\": \"\",\n        \"description\": \"\"\n      }\n    }\n  ]\n}"
            }
          },
          "metadata": {},
          "execution_count": 15
        }
      ]
    },
    {
      "cell_type": "code",
      "source": [
        "reader = Reader(line_format=\"user item rating timestamp\", sep=\"\\t\")\n",
        "data = Dataset.load_from_file(file_path, reader=reader)\n",
        "\n",
        "cross_validate(BaselineOnly(), data, verbose=True)"
      ],
      "metadata": {
        "colab": {
          "base_uri": "https://localhost:8080/"
        },
        "id": "07H2ZIcjy1Q3",
        "outputId": "6594616a-f33a-4b82-c6a3-cb4b564399c1"
      },
      "execution_count": 16,
      "outputs": [
        {
          "output_type": "stream",
          "name": "stdout",
          "text": [
            "Estimating biases using als...\n",
            "Estimating biases using als...\n",
            "Estimating biases using als...\n",
            "Estimating biases using als...\n",
            "Estimating biases using als...\n",
            "Evaluating RMSE, MAE of algorithm BaselineOnly on 5 split(s).\n",
            "\n",
            "                  Fold 1  Fold 2  Fold 3  Fold 4  Fold 5  Mean    Std     \n",
            "RMSE (testset)    0.9477  0.9424  0.9354  0.9468  0.9479  0.9440  0.0048  \n",
            "MAE (testset)     0.7512  0.7449  0.7418  0.7509  0.7526  0.7483  0.0042  \n",
            "Fit time          0.69    0.56    0.59    0.61    0.63    0.62    0.04    \n",
            "Test time         0.28    0.16    0.38    0.10    0.32    0.25    0.10    \n"
          ]
        },
        {
          "output_type": "execute_result",
          "data": {
            "text/plain": [
              "{'test_rmse': array([0.9476636 , 0.94238246, 0.93537848, 0.94682546, 0.94791891]),\n",
              " 'test_mae': array([0.75124447, 0.74491042, 0.74176415, 0.75091924, 0.75260362]),\n",
              " 'fit_time': (0.6945106983184814,\n",
              "  0.5618622303009033,\n",
              "  0.5929772853851318,\n",
              "  0.6106135845184326,\n",
              "  0.6271908283233643),\n",
              " 'test_time': (0.2828989028930664,\n",
              "  0.1559293270111084,\n",
              "  0.37778806686401367,\n",
              "  0.09732294082641602,\n",
              "  0.3231945037841797)}"
            ]
          },
          "metadata": {},
          "execution_count": 16
        }
      ]
    },
    {
      "cell_type": "markdown",
      "source": [
        "#### Load data from pandas dataframe"
      ],
      "metadata": {
        "id": "5KMOmGuPzahr"
      }
    },
    {
      "cell_type": "code",
      "source": [
        "import pandas as pd\n",
        "\n",
        "from surprise import Dataset, NormalPredictor, Reader\n",
        "from surprise.model_selection import cross_validate\n",
        "\n",
        "ratings_dict = {\n",
        "    \"itemID\": [1, 1, 1, 2, 2],\n",
        "    \"userID\": [9, 32, 2, 45, \"user_foo\"],\n",
        "    \"rating\": [3, 2, 4, 3, 1],\n",
        "}\n",
        "\n",
        "df = pd.DataFrame(ratings_dict)\n",
        "\n",
        "reader = Reader(rating_scale=(1, 5))\n",
        "\n",
        "data = Dataset.load_from_df(df[[\"userID\", \"itemID\", \"rating\"]], reader)\n",
        "\n",
        "cross_validate(NormalPredictor(), data, cv=2)"
      ],
      "metadata": {
        "colab": {
          "base_uri": "https://localhost:8080/"
        },
        "id": "qXOQc8J3zQ1c",
        "outputId": "7b3dabe5-013f-47f7-b61e-84d0fe14d01c"
      },
      "execution_count": 17,
      "outputs": [
        {
          "output_type": "execute_result",
          "data": {
            "text/plain": [
              "{'test_rmse': array([1.21742141, 2.39911629]),\n",
              " 'test_mae': array([1.14781311, 1.99429149]),\n",
              " 'fit_time': (0.10336112976074219, 7.319450378417969e-05),\n",
              " 'test_time': (0.00022745132446289062, 3.62396240234375e-05)}"
            ]
          },
          "metadata": {},
          "execution_count": 17
        }
      ]
    },
    {
      "cell_type": "markdown",
      "source": [
        "### Use cross-validation iterators"
      ],
      "metadata": {
        "id": "LQurQ8I30Ae6"
      }
    },
    {
      "cell_type": "code",
      "source": [
        "from surprise import accuracy, Dataset, SVD\n",
        "from surprise.model_selection import KFold\n",
        "\n",
        "data = Dataset.load_builtin(\"ml-100k\")\n",
        "\n",
        "kf = KFold(n_splits = 3)\n",
        "\n",
        "algo = SVD()\n",
        "\n",
        "for trainset, testset in kf.split(data):\n",
        "  algo.fit(trainset)\n",
        "  predictions = algo.test(testset)\n",
        "  accuracy.rmse(predictions, verbose=True)"
      ],
      "metadata": {
        "colab": {
          "base_uri": "https://localhost:8080/"
        },
        "id": "PEsTJsDaz2gm",
        "outputId": "c8f673ff-2743-4d6b-c009-8d262bd8c846"
      },
      "execution_count": 18,
      "outputs": [
        {
          "output_type": "stream",
          "name": "stdout",
          "text": [
            "RMSE: 0.9430\n",
            "RMSE: 0.9460\n",
            "RMSE: 0.9464\n"
          ]
        }
      ]
    },
    {
      "cell_type": "markdown",
      "source": [
        "### Tune algorithm witht he grid search CV"
      ],
      "metadata": {
        "id": "Dz38eF1Z0c8v"
      }
    },
    {
      "cell_type": "code",
      "source": [
        "from surprise import Dataset, SVD\n",
        "from surprise.model_selection import GridSearchCV\n",
        "\n",
        "data = Dataset.load_builtin(\"ml-100k\")\n",
        "\n",
        "param_grid = {\"n_epochs\": [5, 10], \"lr_all\": [0.002, 0.005], \"reg_all\": [0.4, 0.6]}\n",
        "gs = GridSearchCV(SVD, param_grid, measures = [\"rmse\", \"mae\"], cv=3)\n",
        "\n",
        "gs.fit(data)\n",
        "\n",
        "print(gs.best_score[\"rmse\"])\n",
        "\n",
        "print(gs.best_params[\"rmse\"])"
      ],
      "metadata": {
        "colab": {
          "base_uri": "https://localhost:8080/"
        },
        "id": "wFvh0jEm0UB_",
        "outputId": "ba971726-abac-4363-9660-80d0463be861"
      },
      "execution_count": 19,
      "outputs": [
        {
          "output_type": "stream",
          "name": "stdout",
          "text": [
            "0.9636610748673853\n",
            "{'n_epochs': 10, 'lr_all': 0.005, 'reg_all': 0.4}\n"
          ]
        }
      ]
    },
    {
      "cell_type": "code",
      "source": [
        "# get the instance of the with the optimal set of parameters\n",
        "algo = gs.best_estimator[\"rmse\"]\n",
        "algo.fit(data.build_full_trainset())"
      ],
      "metadata": {
        "colab": {
          "base_uri": "https://localhost:8080/"
        },
        "id": "sv_SlKQl05Tv",
        "outputId": "80098ae7-be00-41bb-c613-dfbb3266459f"
      },
      "execution_count": 20,
      "outputs": [
        {
          "output_type": "execute_result",
          "data": {
            "text/plain": [
              "<surprise.prediction_algorithms.matrix_factorization.SVD at 0x7e03782ed570>"
            ]
          },
          "metadata": {},
          "execution_count": 20
        }
      ]
    },
    {
      "cell_type": "code",
      "source": [],
      "metadata": {
        "id": "7Yn3GPqc1KAB"
      },
      "execution_count": null,
      "outputs": []
    }
  ]
}