{
 "cells": [
  {
   "cell_type": "code",
   "execution_count": null,
   "id": "765f1358",
   "metadata": {},
   "outputs": [],
   "source": [
    "\n",
    "# coding: utf-8"
   ]
  },
  {
   "cell_type": "code",
   "execution_count": null,
   "id": "27d4876f",
   "metadata": {
    "lines_to_next_cell": 2
   },
   "outputs": [],
   "source": [
    "\n",
    "\n",
    "import pandas as pd\n",
    "import numpy as np\n",
    "from tqdm import tqdm\n",
    "from sklearn.utils import shuffle\n",
    "from sklearn.model_selection import train_test_split\n",
    "import deepctr\n",
    "from tensorflow.python.keras.optimizers import Adam,Adagrad"
   ]
  },
  {
   "cell_type": "code",
   "execution_count": null,
   "id": "e24e01b6",
   "metadata": {
    "lines_to_next_cell": 2
   },
   "outputs": [],
   "source": [
    "\n",
    "\n",
    "train = pd.read_pickle('../avazu/enc_train.pkl')\n",
    "val = pd.read_pickle('../avazu/enc_val.pkl')\n",
    "feature_count = pd.read_pickle('../avazu/feature_dic.pkl')\n",
    "target = ['click']\n",
    "#feature_count.pop('userID')"
   ]
  },
  {
   "cell_type": "code",
   "execution_count": null,
   "id": "a6f97275",
   "metadata": {
    "lines_to_next_cell": 2
   },
   "outputs": [],
   "source": [
    "\n",
    "\n",
    "sparse_feature_list = [deepctr.SingleFeat(name,dim) for name,dim in feature_count.items()]"
   ]
  },
  {
   "cell_type": "code",
   "execution_count": null,
   "id": "4e3bbae0",
   "metadata": {},
   "outputs": [],
   "source": [
    "\n",
    "\n",
    "\n",
    "from tensorflow.python.keras.optimizers import Adam,Adagrad\n",
    "from tensorflow.python.keras.callbacks import EarlyStopping\n",
    "\n",
    "model = deepctr.models.FNFM({'sparse':sparse_feature_list,'dense':[]},hidden_size=(256,256,),embedding_size=4,reduce_sum=False,include_linear=True,use_bn=True,space_optimized=True,pooling_method='concat')\n",
    "model.compile('adam','binary_crossentropy',metrics=['binary_crossentropy'],)\n",
    "\n",
    "\n",
    "TEST_BATCH_SIZE = 2**15\n",
    "\n",
    "count = -1\n",
    "hist = model.fit([train[feat.name] for feat in sparse_feature_list],train[target].values,batch_size=4096,epochs=10,initial_epoch=0,validation_data=([val[feat.name] for feat in sparse_feature_list],val[target].values),verbose=1)"
   ]
  }
 ],
 "metadata": {
  "jupytext": {
   "cell_metadata_filter": "-all",
   "main_language": "python",
   "notebook_metadata_filter": "-all"
  },
  "kernelspec": {
   "display_name": "trainee",
   "language": "python",
   "name": "python3"
  },
  "language_info": {
   "name": "python",
   "version": "3.9.19"
  }
 },
 "nbformat": 4,
 "nbformat_minor": 5
}
