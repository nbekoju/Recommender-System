{
 "cells": [
  {
   "cell_type": "markdown",
   "metadata": {},
   "source": [
    "### DeepCTR Estimator with TFRecord"
   ]
  },
  {
   "cell_type": "markdown",
   "metadata": {},
   "source": [
    "### Import Model"
   ]
  },
  {
   "cell_type": "code",
   "execution_count": 1,
   "metadata": {},
   "outputs": [],
   "source": [
    "import tensorflow as tf \n",
    "\n",
    "from tensorflow.python.ops.parsing_ops import FixedLenFeature\n",
    "from deepctr.estimator.inputs import input_fn_tfrecord\n",
    "from deepctr.estimator.models import DeepFMEstimator"
   ]
  },
  {
   "cell_type": "markdown",
   "metadata": {},
   "source": [
    "### Step 2 - Generate feature columns for linear part and dnn part"
   ]
  },
  {
   "cell_type": "code",
   "execution_count": 2,
   "metadata": {},
   "outputs": [],
   "source": [
    "sparse_features = ['C' + str(i) for i in range(1, 27)]\n",
    "dense_features = ['I' + str(i) for i in range(1, 14)]"
   ]
  },
  {
   "cell_type": "code",
   "execution_count": 3,
   "metadata": {},
   "outputs": [],
   "source": [
    "dnn_feature_columns = []\n",
    "linear_feature_columns = []\n",
    "\n",
    "for i, feat in enumerate(sparse_features):\n",
    "    dnn_feature_columns.append(tf.feature_column.embedding_column(\n",
    "        tf.feature_column.categorical_column_with_identity(feat, 1000), 4))\n",
    "    \n",
    "    linear_feature_columns.append(tf.feature_column.categorical_column_with_identity(feat, 1000))\n",
    "\n",
    "for feat in dense_features:\n",
    "    dnn_feature_columns.append(tf.feature_column.numeric_column(feat))\n",
    "    linear_feature_columns.append(tf.feature_column.numeric_column(feat))"
   ]
  },
  {
   "cell_type": "markdown",
   "metadata": {},
   "source": [
    "### Step 3: Generate the training samples with TFRecord format"
   ]
  },
  {
   "cell_type": "code",
   "execution_count": 16,
   "metadata": {},
   "outputs": [],
   "source": [
    "feature_description = {k: FixedLenFeature(dtype=tf.int64, shape=1) for k in sparse_features}\n",
    "feature_description.update(\n",
    "    {k: FixedLenFeature(dtype=tf.float32, shape=1) for k in dense_features})\n",
    "feature_description['label'] = FixedLenFeature(dtype=tf.float32, shape=1)"
   ]
  },
  {
   "cell_type": "code",
   "execution_count": 17,
   "metadata": {},
   "outputs": [
    {
     "data": {
      "text/plain": [
       "{'C1': FixedLenFeature(shape=1, dtype=tf.int64, default_value=None),\n",
       " 'C2': FixedLenFeature(shape=1, dtype=tf.int64, default_value=None),\n",
       " 'C3': FixedLenFeature(shape=1, dtype=tf.int64, default_value=None),\n",
       " 'C4': FixedLenFeature(shape=1, dtype=tf.int64, default_value=None),\n",
       " 'C5': FixedLenFeature(shape=1, dtype=tf.int64, default_value=None),\n",
       " 'C6': FixedLenFeature(shape=1, dtype=tf.int64, default_value=None),\n",
       " 'C7': FixedLenFeature(shape=1, dtype=tf.int64, default_value=None),\n",
       " 'C8': FixedLenFeature(shape=1, dtype=tf.int64, default_value=None),\n",
       " 'C9': FixedLenFeature(shape=1, dtype=tf.int64, default_value=None),\n",
       " 'C10': FixedLenFeature(shape=1, dtype=tf.int64, default_value=None),\n",
       " 'C11': FixedLenFeature(shape=1, dtype=tf.int64, default_value=None),\n",
       " 'C12': FixedLenFeature(shape=1, dtype=tf.int64, default_value=None),\n",
       " 'C13': FixedLenFeature(shape=1, dtype=tf.int64, default_value=None),\n",
       " 'C14': FixedLenFeature(shape=1, dtype=tf.int64, default_value=None),\n",
       " 'C15': FixedLenFeature(shape=1, dtype=tf.int64, default_value=None),\n",
       " 'C16': FixedLenFeature(shape=1, dtype=tf.int64, default_value=None),\n",
       " 'C17': FixedLenFeature(shape=1, dtype=tf.int64, default_value=None),\n",
       " 'C18': FixedLenFeature(shape=1, dtype=tf.int64, default_value=None),\n",
       " 'C19': FixedLenFeature(shape=1, dtype=tf.int64, default_value=None),\n",
       " 'C20': FixedLenFeature(shape=1, dtype=tf.int64, default_value=None),\n",
       " 'C21': FixedLenFeature(shape=1, dtype=tf.int64, default_value=None),\n",
       " 'C22': FixedLenFeature(shape=1, dtype=tf.int64, default_value=None),\n",
       " 'C23': FixedLenFeature(shape=1, dtype=tf.int64, default_value=None),\n",
       " 'C24': FixedLenFeature(shape=1, dtype=tf.int64, default_value=None),\n",
       " 'C25': FixedLenFeature(shape=1, dtype=tf.int64, default_value=None),\n",
       " 'C26': FixedLenFeature(shape=1, dtype=tf.int64, default_value=None),\n",
       " 'I1': FixedLenFeature(shape=1, dtype=tf.float32, default_value=None),\n",
       " 'I2': FixedLenFeature(shape=1, dtype=tf.float32, default_value=None),\n",
       " 'I3': FixedLenFeature(shape=1, dtype=tf.float32, default_value=None),\n",
       " 'I4': FixedLenFeature(shape=1, dtype=tf.float32, default_value=None),\n",
       " 'I5': FixedLenFeature(shape=1, dtype=tf.float32, default_value=None),\n",
       " 'I6': FixedLenFeature(shape=1, dtype=tf.float32, default_value=None),\n",
       " 'I7': FixedLenFeature(shape=1, dtype=tf.float32, default_value=None),\n",
       " 'I8': FixedLenFeature(shape=1, dtype=tf.float32, default_value=None),\n",
       " 'I9': FixedLenFeature(shape=1, dtype=tf.float32, default_value=None),\n",
       " 'I10': FixedLenFeature(shape=1, dtype=tf.float32, default_value=None),\n",
       " 'I11': FixedLenFeature(shape=1, dtype=tf.float32, default_value=None),\n",
       " 'I12': FixedLenFeature(shape=1, dtype=tf.float32, default_value=None),\n",
       " 'I13': FixedLenFeature(shape=1, dtype=tf.float32, default_value=None),\n",
       " 'label': FixedLenFeature(shape=1, dtype=tf.float32, default_value=None)}"
      ]
     },
     "execution_count": 17,
     "metadata": {},
     "output_type": "execute_result"
    }
   ],
   "source": [
    "feature_description"
   ]
  },
  {
   "cell_type": "code",
   "execution_count": 29,
   "metadata": {},
   "outputs": [],
   "source": [
    "train_model_input = input_fn_tfrecord('./criteo_sample.tr.tfrecords', feature_description, 'label', batch_size=256,\n",
    "                                      num_epochs=10, shuffle_factor=10)\n",
    "test_model_input = input_fn_tfrecord('./criteo_sample.te.tfrecords', feature_description, 'label',\n",
    "                                     batch_size=2 ** 14, num_epochs=1, shuffle_factor=0)\n"
   ]
  },
  {
   "cell_type": "code",
   "execution_count": 30,
   "metadata": {},
   "outputs": [
    {
     "data": {
      "text/plain": [
       "<function deepctr.estimator.inputs.input_fn_tfrecord.<locals>.input_fn()>"
      ]
     },
     "execution_count": 30,
     "metadata": {},
     "output_type": "execute_result"
    }
   ],
   "source": [
    "test_model_input"
   ]
  },
  {
   "cell_type": "code",
   "execution_count": 31,
   "metadata": {},
   "outputs": [
    {
     "name": "stdout",
     "output_type": "stream",
     "text": [
      "INFO:tensorflow:Using default config.\n",
      "WARNING:tensorflow:Using temporary folder as model directory: /tmp/tmpu5og33p1\n",
      "INFO:tensorflow:Using config: {'_model_dir': '/tmp/tmpu5og33p1', '_tf_random_seed': None, '_save_summary_steps': 100, '_save_checkpoints_steps': None, '_save_checkpoints_secs': 600, '_session_config': allow_soft_placement: true\n",
      "graph_options {\n",
      "  rewrite_options {\n",
      "    meta_optimizer_iterations: ONE\n",
      "  }\n",
      "}\n",
      ", '_keep_checkpoint_max': 5, '_keep_checkpoint_every_n_hours': 10000, '_log_step_count_steps': 100, '_train_distribute': None, '_device_fn': None, '_protocol': None, '_eval_distribute': None, '_experimental_distribute': None, '_experimental_max_worker_delay_secs': None, '_session_creation_timeout_secs': 7200, '_checkpoint_save_graph_def': True, '_service': None, '_cluster_spec': ClusterSpec({}), '_task_type': 'worker', '_task_id': 0, '_global_id_in_cluster': 0, '_master': '', '_evaluation_master': '', '_is_chief': True, '_num_ps_replicas': 0, '_num_worker_replicas': 1}\n",
      "INFO:tensorflow:Calling model_fn.\n",
      "INFO:tensorflow:Done calling model_fn.\n",
      "INFO:tensorflow:Create CheckpointSaverHook.\n",
      "INFO:tensorflow:Graph was finalized.\n",
      "INFO:tensorflow:Running local_init_op.\n",
      "INFO:tensorflow:Done running local_init_op.\n",
      "INFO:tensorflow:Calling checkpoint listeners before saving checkpoint 0...\n",
      "INFO:tensorflow:Saving checkpoints for 0 into /tmp/tmpu5og33p1/model.ckpt.\n",
      "INFO:tensorflow:Calling checkpoint listeners after saving checkpoint 0...\n",
      "INFO:tensorflow:loss = 1127.4752, step = 0\n",
      "INFO:tensorflow:Calling checkpoint listeners before saving checkpoint 7...\n",
      "INFO:tensorflow:Saving checkpoints for 7 into /tmp/tmpu5og33p1/model.ckpt.\n",
      "INFO:tensorflow:Calling checkpoint listeners after saving checkpoint 7...\n",
      "INFO:tensorflow:Loss for final step: 37.03649.\n",
      "INFO:tensorflow:Calling model_fn.\n",
      "INFO:tensorflow:Done calling model_fn.\n",
      "INFO:tensorflow:Starting evaluation at 2024-05-19T11:27:19\n",
      "INFO:tensorflow:Graph was finalized.\n",
      "INFO:tensorflow:Restoring parameters from /tmp/tmpu5og33p1/model.ckpt-7\n",
      "INFO:tensorflow:Running local_init_op.\n",
      "INFO:tensorflow:Done running local_init_op.\n",
      "INFO:tensorflow:Inference Time : 1.20118s\n",
      "INFO:tensorflow:Finished evaluation at 2024-05-19-11:27:20\n",
      "INFO:tensorflow:Saving dict for global step 7: AUC = 0.54761904, LogLoss = 3.0644367, global_step = 7, label/mean = 0.3, loss = 122.58151, prediction/mean = 0.40311354\n",
      "INFO:tensorflow:Saving 'checkpoint_path' summary for global step 7: /tmp/tmpu5og33p1/model.ckpt-7\n",
      "{'AUC': 0.54761904, 'LogLoss': 3.0644367, 'label/mean': 0.3, 'loss': 122.58151, 'prediction/mean': 0.40311354, 'global_step': 7}\n"
     ]
    }
   ],
   "source": [
    "model = DeepFMEstimator(linear_feature_columns, dnn_feature_columns, task='binary')\n",
    "\n",
    "model.train(train_model_input)\n",
    "eval_result = model.evaluate(test_model_input)\n",
    "\n",
    "print(eval_result)"
   ]
  },
  {
   "cell_type": "code",
   "execution_count": null,
   "metadata": {},
   "outputs": [],
   "source": []
  },
  {
   "cell_type": "code",
   "execution_count": null,
   "metadata": {},
   "outputs": [],
   "source": []
  }
 ],
 "metadata": {
  "kernelspec": {
   "display_name": "deepctr",
   "language": "python",
   "name": "python3"
  },
  "language_info": {
   "codemirror_mode": {
    "name": "ipython",
    "version": 3
   },
   "file_extension": ".py",
   "mimetype": "text/x-python",
   "name": "python",
   "nbconvert_exporter": "python",
   "pygments_lexer": "ipython3",
   "version": "3.7.12"
  }
 },
 "nbformat": 4,
 "nbformat_minor": 2
}
