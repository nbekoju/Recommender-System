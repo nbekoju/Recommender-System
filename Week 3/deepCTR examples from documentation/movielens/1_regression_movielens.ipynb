{
 "cells": [
  {
   "cell_type": "markdown",
   "metadata": {},
   "source": [
    "### Regression MovieLens\n",
    "\n",
    "This example shows how to use DeepFM to solve a simple binary regression task"
   ]
  },
  {
   "cell_type": "code",
   "execution_count": 28,
   "metadata": {},
   "outputs": [],
   "source": [
    "import numpy as np\n",
    "import pandas as pd\n",
    "\n",
    "from sklearn.metrics import mean_squared_error\n",
    "from sklearn.model_selection import train_test_split\n",
    "from sklearn.preprocessing import LabelEncoder\n",
    "\n",
    "from deepctr.models import DeepFM\n",
    "from deepctr.feature_column import SparseFeat, get_feature_names"
   ]
  },
  {
   "cell_type": "code",
   "execution_count": 2,
   "metadata": {},
   "outputs": [
    {
     "name": "stdout",
     "output_type": "stream",
     "text": [
      "<class 'pandas.core.frame.DataFrame'>\n",
      "RangeIndex: 200 entries, 0 to 199\n",
      "Data columns (total 10 columns):\n",
      " #   Column      Non-Null Count  Dtype \n",
      "---  ------      --------------  ----- \n",
      " 0   user_id     200 non-null    int64 \n",
      " 1   movie_id    200 non-null    int64 \n",
      " 2   rating      200 non-null    int64 \n",
      " 3   timestamp   200 non-null    int64 \n",
      " 4   title       200 non-null    object\n",
      " 5   genres      200 non-null    object\n",
      " 6   gender      200 non-null    object\n",
      " 7   age         200 non-null    int64 \n",
      " 8   occupation  200 non-null    int64 \n",
      " 9   zip         200 non-null    object\n",
      "dtypes: int64(6), object(4)\n",
      "memory usage: 15.8+ KB\n"
     ]
    },
    {
     "data": {
      "text/html": [
       "<div>\n",
       "<style scoped>\n",
       "    .dataframe tbody tr th:only-of-type {\n",
       "        vertical-align: middle;\n",
       "    }\n",
       "\n",
       "    .dataframe tbody tr th {\n",
       "        vertical-align: top;\n",
       "    }\n",
       "\n",
       "    .dataframe thead th {\n",
       "        text-align: right;\n",
       "    }\n",
       "</style>\n",
       "<table border=\"1\" class=\"dataframe\">\n",
       "  <thead>\n",
       "    <tr style=\"text-align: right;\">\n",
       "      <th></th>\n",
       "      <th>user_id</th>\n",
       "      <th>movie_id</th>\n",
       "      <th>rating</th>\n",
       "      <th>timestamp</th>\n",
       "      <th>title</th>\n",
       "      <th>genres</th>\n",
       "      <th>gender</th>\n",
       "      <th>age</th>\n",
       "      <th>occupation</th>\n",
       "      <th>zip</th>\n",
       "    </tr>\n",
       "  </thead>\n",
       "  <tbody>\n",
       "    <tr>\n",
       "      <th>0</th>\n",
       "      <td>3299</td>\n",
       "      <td>235</td>\n",
       "      <td>4</td>\n",
       "      <td>968035345</td>\n",
       "      <td>Ed Wood (1994)</td>\n",
       "      <td>Comedy|Drama</td>\n",
       "      <td>F</td>\n",
       "      <td>25</td>\n",
       "      <td>4</td>\n",
       "      <td>19119</td>\n",
       "    </tr>\n",
       "    <tr>\n",
       "      <th>1</th>\n",
       "      <td>3630</td>\n",
       "      <td>3256</td>\n",
       "      <td>3</td>\n",
       "      <td>966536874</td>\n",
       "      <td>Patriot Games (1992)</td>\n",
       "      <td>Action|Thriller</td>\n",
       "      <td>M</td>\n",
       "      <td>18</td>\n",
       "      <td>4</td>\n",
       "      <td>77005</td>\n",
       "    </tr>\n",
       "  </tbody>\n",
       "</table>\n",
       "</div>"
      ],
      "text/plain": [
       "   user_id  movie_id  rating  timestamp                 title  \\\n",
       "0     3299       235       4  968035345        Ed Wood (1994)   \n",
       "1     3630      3256       3  966536874  Patriot Games (1992)   \n",
       "\n",
       "            genres gender  age  occupation    zip  \n",
       "0     Comedy|Drama      F   25           4  19119  \n",
       "1  Action|Thriller      M   18           4  77005  "
      ]
     },
     "execution_count": 2,
     "metadata": {},
     "output_type": "execute_result"
    }
   ],
   "source": [
    "data = pd.read_csv(\"./movielens_sample.txt\")\n",
    "data.info()\n",
    "data.head(2)"
   ]
  },
  {
   "cell_type": "code",
   "execution_count": 3,
   "metadata": {},
   "outputs": [],
   "source": [
    "sparse_features = [\"movie_id\", \"user_id\", \"gender\", \"age\", \"occupation\", \"zip\"]\n",
    "target = [\"rating\"]"
   ]
  },
  {
   "cell_type": "code",
   "execution_count": 4,
   "metadata": {},
   "outputs": [],
   "source": [
    "# label encoding for sparse features and do simple transformation for dense features\n",
    "for feat in sparse_features:\n",
    "    lbe = LabelEncoder()\n",
    "    data[feat] = lbe.fit_transform(data[feat])\n",
    "\n",
    "fixlen_feature_columns = [SparseFeat(feat, data[feat].max() + 1, embedding_dim=4) for feat in sparse_features]\n",
    "linear_feature_columns = fixlen_feature_columns\n",
    "dnn_feature_columns = fixlen_feature_columns"
   ]
  },
  {
   "cell_type": "code",
   "execution_count": 5,
   "metadata": {},
   "outputs": [],
   "source": [
    "feature_names = get_feature_names(linear_feature_columns + dnn_feature_columns)"
   ]
  },
  {
   "cell_type": "code",
   "execution_count": 6,
   "metadata": {},
   "outputs": [],
   "source": [
    "# generate input data for model\n",
    "train, test = train_test_split(data, test_size=0.2, random_state=43)\n",
    "train_model_input = {name: train[name].values for name in feature_names}\n",
    "test_model_input = {name: test[name].values for name in feature_names}"
   ]
  },
  {
   "cell_type": "code",
   "execution_count": 11,
   "metadata": {},
   "outputs": [
    {
     "data": {
      "text/plain": [
       "array([ 99, 165, 153, 168,  19,  63,  90,  91, 142,  95, 137, 143, 114,\n",
       "        72,  71, 174,  40,  84, 130,  96,  76,  69,  54, 136,  35, 123,\n",
       "       158, 178,  23, 129, 122, 134,   5, 104,  55,  68, 115,   3,  86,\n",
       "        60, 157,  37, 166,  34, 107,  41, 170,   4,  66, 149, 152, 154,\n",
       "       167, 180, 169, 102,  27,  57, 163, 161, 160,   8,  27,  94, 151,\n",
       "        20,  45,  74, 121,  98, 128,  30, 108, 146, 126, 119, 124, 139,\n",
       "       177,  29, 110,  28,  64,  21,  85,  80, 125, 101, 170, 118,  52,\n",
       "        81, 149, 132,  13,  59,  32,  77,  43,  78, 127,   7,  16, 141,\n",
       "        87, 184,  88,  18,  39, 164,  66, 156, 100,  73,  89,   1, 111,\n",
       "        61, 120, 112,  92, 144, 181, 135,  44,  53, 140,  50,  26,   9,\n",
       "       185,  62, 150, 116, 159,  42,  10,  34, 112,  72,  22, 172,  14,\n",
       "        48, 182, 117,  15,  56,  51,  38,  35, 186, 155, 126, 109,  46,\n",
       "        67,  83,  79,   9])"
      ]
     },
     "execution_count": 11,
     "metadata": {},
     "output_type": "execute_result"
    }
   ],
   "source": [
    "train_model_input[\"movie_id\"]"
   ]
  },
  {
   "cell_type": "markdown",
   "metadata": {},
   "source": [
    "### Define model, train, predict and evaluate"
   ]
  },
  {
   "cell_type": "code",
   "execution_count": 12,
   "metadata": {},
   "outputs": [],
   "source": [
    "model = DeepFM(linear_feature_columns, dnn_feature_columns, task=\"regression\")\n",
    "model.compile(\"adam\", \"mse\", metrics =[\"mse\"])"
   ]
  },
  {
   "cell_type": "code",
   "execution_count": 13,
   "metadata": {},
   "outputs": [
    {
     "data": {
      "text/plain": [
       "(rating\n",
       " 4         51\n",
       " 5         41\n",
       " 3         40\n",
       " 2         19\n",
       " 1          9\n",
       " dtype: int64,\n",
       " numpy.ndarray)"
      ]
     },
     "execution_count": 13,
     "metadata": {},
     "output_type": "execute_result"
    }
   ],
   "source": [
    "train[target].value_counts(), type(train[target].values)"
   ]
  },
  {
   "cell_type": "code",
   "execution_count": 14,
   "metadata": {},
   "outputs": [
    {
     "name": "stdout",
     "output_type": "stream",
     "text": [
      "Epoch 1/40\n",
      "1/1 - 1s - loss: 14.0547 - mse: 14.0547 - val_loss: 15.1145 - val_mse: 15.1145\n",
      "Epoch 2/40\n",
      "1/1 - 0s - loss: 13.9345 - mse: 13.9345 - val_loss: 14.9793 - val_mse: 14.9793\n",
      "Epoch 3/40\n",
      "1/1 - 0s - loss: 13.7844 - mse: 13.7844 - val_loss: 14.8370 - val_mse: 14.8370\n",
      "Epoch 4/40\n",
      "1/1 - 0s - loss: 13.6265 - mse: 13.6265 - val_loss: 14.6828 - val_mse: 14.6828\n",
      "Epoch 5/40\n",
      "1/1 - 0s - loss: 13.4569 - mse: 13.4569 - val_loss: 14.5143 - val_mse: 14.5143\n",
      "Epoch 6/40\n",
      "1/1 - 0s - loss: 13.2739 - mse: 13.2739 - val_loss: 14.3296 - val_mse: 14.3296\n",
      "Epoch 7/40\n",
      "1/1 - 0s - loss: 13.0747 - mse: 13.0747 - val_loss: 14.1263 - val_mse: 14.1263\n",
      "Epoch 8/40\n",
      "1/1 - 0s - loss: 12.8559 - mse: 12.8559 - val_loss: 13.9028 - val_mse: 13.9028\n",
      "Epoch 9/40\n",
      "1/1 - 0s - loss: 12.6152 - mse: 12.6152 - val_loss: 13.6561 - val_mse: 13.6561\n",
      "Epoch 10/40\n",
      "1/1 - 0s - loss: 12.3502 - mse: 12.3502 - val_loss: 13.3847 - val_mse: 13.3847\n",
      "Epoch 11/40\n",
      "1/1 - 0s - loss: 12.0580 - mse: 12.0580 - val_loss: 13.0858 - val_mse: 13.0858\n",
      "Epoch 12/40\n",
      "1/1 - 0s - loss: 11.7349 - mse: 11.7349 - val_loss: 12.7565 - val_mse: 12.7565\n",
      "Epoch 13/40\n",
      "1/1 - 0s - loss: 11.3787 - mse: 11.3787 - val_loss: 12.3947 - val_mse: 12.3947\n",
      "Epoch 14/40\n",
      "1/1 - 0s - loss: 10.9860 - mse: 10.9860 - val_loss: 11.9980 - val_mse: 11.9980\n",
      "Epoch 15/40\n",
      "1/1 - 0s - loss: 10.5539 - mse: 10.5539 - val_loss: 11.5636 - val_mse: 11.5636\n",
      "Epoch 16/40\n",
      "1/1 - 0s - loss: 10.0799 - mse: 10.0799 - val_loss: 11.0891 - val_mse: 11.0891\n",
      "Epoch 17/40\n",
      "1/1 - 0s - loss: 9.5616 - mse: 9.5616 - val_loss: 10.5726 - val_mse: 10.5726\n",
      "Epoch 18/40\n",
      "1/1 - 0s - loss: 8.9973 - mse: 8.9973 - val_loss: 10.0125 - val_mse: 10.0125\n",
      "Epoch 19/40\n",
      "1/1 - 0s - loss: 8.3860 - mse: 8.3860 - val_loss: 9.4080 - val_mse: 9.4080\n",
      "Epoch 20/40\n",
      "1/1 - 0s - loss: 7.7288 - mse: 7.7288 - val_loss: 8.7596 - val_mse: 8.7596\n",
      "Epoch 21/40\n",
      "1/1 - 0s - loss: 7.0283 - mse: 7.0283 - val_loss: 8.0689 - val_mse: 8.0689\n",
      "Epoch 22/40\n",
      "1/1 - 0s - loss: 6.2897 - mse: 6.2897 - val_loss: 7.3402 - val_mse: 7.3402\n",
      "Epoch 23/40\n",
      "1/1 - 0s - loss: 5.5217 - mse: 5.5217 - val_loss: 6.5808 - val_mse: 6.5808\n",
      "Epoch 24/40\n",
      "1/1 - 0s - loss: 4.7371 - mse: 4.7371 - val_loss: 5.8010 - val_mse: 5.8010\n",
      "Epoch 25/40\n",
      "1/1 - 0s - loss: 3.9545 - mse: 3.9545 - val_loss: 5.0146 - val_mse: 5.0146\n",
      "Epoch 26/40\n",
      "1/1 - 0s - loss: 3.1982 - mse: 3.1982 - val_loss: 4.2413 - val_mse: 4.2413\n",
      "Epoch 27/40\n",
      "1/1 - 0s - loss: 2.5008 - mse: 2.5008 - val_loss: 3.5055 - val_mse: 3.5055\n",
      "Epoch 28/40\n",
      "1/1 - 0s - loss: 1.9023 - mse: 1.9023 - val_loss: 2.8379 - val_mse: 2.8379\n",
      "Epoch 29/40\n",
      "1/1 - 0s - loss: 1.4485 - mse: 1.4484 - val_loss: 2.2732 - val_mse: 2.2732\n",
      "Epoch 30/40\n",
      "1/1 - 0s - loss: 1.1846 - mse: 1.1846 - val_loss: 1.8440 - val_mse: 1.8440\n",
      "Epoch 31/40\n",
      "1/1 - 0s - loss: 1.1402 - mse: 1.1402 - val_loss: 1.5691 - val_mse: 1.5691\n",
      "Epoch 32/40\n",
      "1/1 - 0s - loss: 1.2989 - mse: 1.2989 - val_loss: 1.4320 - val_mse: 1.4320\n",
      "Epoch 33/40\n",
      "1/1 - 0s - loss: 1.5731 - mse: 1.5731 - val_loss: 1.3835 - val_mse: 1.3835\n",
      "Epoch 34/40\n",
      "1/1 - 0s - loss: 1.8262 - mse: 1.8261 - val_loss: 1.3690 - val_mse: 1.3689\n",
      "Epoch 35/40\n",
      "1/1 - 0s - loss: 1.9456 - mse: 1.9456 - val_loss: 1.3583 - val_mse: 1.3583\n",
      "Epoch 36/40\n",
      "1/1 - 0s - loss: 1.8955 - mse: 1.8955 - val_loss: 1.3508 - val_mse: 1.3508\n",
      "Epoch 37/40\n",
      "1/1 - 0s - loss: 1.7077 - mse: 1.7077 - val_loss: 1.3610 - val_mse: 1.3610\n",
      "Epoch 38/40\n",
      "1/1 - 0s - loss: 1.4459 - mse: 1.4459 - val_loss: 1.4051 - val_mse: 1.4051\n",
      "Epoch 39/40\n",
      "1/1 - 0s - loss: 1.1743 - mse: 1.1743 - val_loss: 1.4918 - val_mse: 1.4918\n",
      "Epoch 40/40\n",
      "1/1 - 0s - loss: 0.9405 - mse: 0.9405 - val_loss: 1.6204 - val_mse: 1.6203\n"
     ]
    }
   ],
   "source": [
    "EPOCHS = 40\n",
    "BATCH_SIZE = 256\n",
    "history = model.fit(train_model_input, train[target].values, batch_size=BATCH_SIZE, epochs=EPOCHS, verbose=2, validation_split=0.2)"
   ]
  },
  {
   "cell_type": "code",
   "execution_count": 15,
   "metadata": {},
   "outputs": [
    {
     "name": "stdout",
     "output_type": "stream",
     "text": [
      "test MSE 1.0966\n"
     ]
    }
   ],
   "source": [
    "pred_ans = model.predict(test_model_input, batch_size=256)\n",
    "print(\"test MSE\", round(mean_squared_error(\n",
    "        test[target].values, pred_ans), 4))"
   ]
  },
  {
   "cell_type": "code",
   "execution_count": 16,
   "metadata": {},
   "outputs": [
    {
     "data": {
      "text/plain": [
       "array([[1],\n",
       "       [5],\n",
       "       [4],\n",
       "       [2],\n",
       "       [3],\n",
       "       [4],\n",
       "       [3],\n",
       "       [5],\n",
       "       [3],\n",
       "       [5],\n",
       "       [2],\n",
       "       [3],\n",
       "       [4],\n",
       "       [3],\n",
       "       [3],\n",
       "       [4],\n",
       "       [4],\n",
       "       [5],\n",
       "       [3],\n",
       "       [4],\n",
       "       [4],\n",
       "       [4],\n",
       "       [5],\n",
       "       [2],\n",
       "       [4],\n",
       "       [3],\n",
       "       [4],\n",
       "       [4],\n",
       "       [3],\n",
       "       [3],\n",
       "       [5],\n",
       "       [4],\n",
       "       [4],\n",
       "       [3],\n",
       "       [3],\n",
       "       [3],\n",
       "       [2],\n",
       "       [5],\n",
       "       [4],\n",
       "       [3]])"
      ]
     },
     "execution_count": 16,
     "metadata": {},
     "output_type": "execute_result"
    }
   ],
   "source": [
    "test[target].values"
   ]
  },
  {
   "cell_type": "code",
   "execution_count": 17,
   "metadata": {},
   "outputs": [
    {
     "data": {
      "text/plain": [
       "array([[3.1099322],\n",
       "       [3.293174 ],\n",
       "       [3.1470604],\n",
       "       [3.0889032],\n",
       "       [3.0627327],\n",
       "       [3.6745555],\n",
       "       [3.0714886],\n",
       "       [3.1335905],\n",
       "       [3.107466 ],\n",
       "       [3.041648 ],\n",
       "       [3.5644834],\n",
       "       [3.1263747],\n",
       "       [3.1588342],\n",
       "       [3.1307755],\n",
       "       [3.161245 ],\n",
       "       [3.0845685],\n",
       "       [3.126396 ],\n",
       "       [3.2899983],\n",
       "       [3.1144679],\n",
       "       [3.1307263],\n",
       "       [3.0716665],\n",
       "       [3.292767 ],\n",
       "       [3.0904503],\n",
       "       [3.1498594],\n",
       "       [3.095505 ],\n",
       "       [3.114734 ],\n",
       "       [3.5120618],\n",
       "       [3.152401 ],\n",
       "       [3.1779606],\n",
       "       [3.0037158],\n",
       "       [3.1277378],\n",
       "       [3.0639546],\n",
       "       [3.0986927],\n",
       "       [3.0636587],\n",
       "       [3.0628386],\n",
       "       [3.626166 ],\n",
       "       [3.0572824],\n",
       "       [3.0656147],\n",
       "       [3.869737 ],\n",
       "       [3.114643 ]], dtype=float32)"
      ]
     },
     "execution_count": 17,
     "metadata": {},
     "output_type": "execute_result"
    }
   ],
   "source": [
    "pred_ans"
   ]
  },
  {
   "cell_type": "code",
   "execution_count": 18,
   "metadata": {},
   "outputs": [
    {
     "data": {
      "image/png": "[encoded data removed]",
      "text/plain": [
       "<Figure size 720x432 with 1 Axes>"
      ]
     },
     "metadata": {
      "needs_background": "light"
     },
     "output_type": "display_data"
    }
   ],
   "source": [
    "import matplotlib.pyplot as plt\n",
    "# Extract loss and validation loss values\n",
    "def plot_history(history, train_metric: str, val_metric: str):\n",
    "    history_dict = history.history\n",
    "\n",
    "    loss = history_dict[train_metric]\n",
    "    val_loss = history_dict[val_metric]\n",
    "    # Create an array with epoch numbers\n",
    "    epochs = range(1, len(loss) + 1)\n",
    "\n",
    "    # Plotting the training and validation loss\n",
    "    plt.figure(figsize=(10, 6))\n",
    "    plt.plot(epochs, loss, 'bo-', label=train_metric)\n",
    "    plt.plot(epochs, val_loss, 'ro-', label=val_metric)\n",
    "    plt.title(f'{train_metric} vs {val_metric}')\n",
    "    plt.xlabel('Epochs')\n",
    "    plt.ylabel('Loss')\n",
    "    plt.legend()\n",
    "    plt.show()\n",
    "\n",
    "plot_history(history, \"mse\", \"val_mse\")"
   ]
  },
  {
   "cell_type": "markdown",
   "metadata": {},
   "source": [
    "### Model Inference"
   ]
  },
  {
   "cell_type": "code",
   "execution_count": 24,
   "metadata": {},
   "outputs": [
    {
     "data": {
      "text/plain": [
       "user_id                  107\n",
       "movie_id                  12\n",
       "rating                     4\n",
       "timestamp          968035345\n",
       "title         Ed Wood (1994)\n",
       "genres          Comedy|Drama\n",
       "gender                     0\n",
       "age                        2\n",
       "occupation                 4\n",
       "zip                       35\n",
       "Name: 0, dtype: object"
      ]
     },
     "execution_count": 24,
     "metadata": {},
     "output_type": "execute_result"
    }
   ],
   "source": [
    "sample_data = data.iloc[0]\n",
    "sample_data"
   ]
  },
  {
   "cell_type": "code",
   "execution_count": 31,
   "metadata": {},
   "outputs": [
    {
     "data": {
      "text/plain": [
       "{'movie_id': array([12]),\n",
       " 'user_id': array([107]),\n",
       " 'gender': array([0]),\n",
       " 'age': array([2]),\n",
       " 'occupation': array([4]),\n",
       " 'zip': array([35])}"
      ]
     },
     "execution_count": 31,
     "metadata": {},
     "output_type": "execute_result"
    }
   ],
   "source": [
    "inference_model_input = {feat: np.array([sample_data[feat]]) for feat in feature_names}\n",
    "inference_model_input"
   ]
  },
  {
   "cell_type": "code",
   "execution_count": 32,
   "metadata": {},
   "outputs": [
    {
     "data": {
      "text/plain": [
       "array([[3.071666]], dtype=float32)"
      ]
     },
     "execution_count": 32,
     "metadata": {},
     "output_type": "execute_result"
    }
   ],
   "source": [
    "model.predict(inference_model_input)"
   ]
  },
  {
   "cell_type": "code",
   "execution_count": null,
   "metadata": {},
   "outputs": [],
   "source": []
  }
 ],
 "metadata": {
  "kernelspec": {
   "display_name": "deepctr",
   "language": "python",
   "name": "python3"
  },
  "language_info": {
   "codemirror_mode": {
    "name": "ipython",
    "version": 3
   },
   "file_extension": ".py",
   "mimetype": "text/x-python",
   "name": "python",
   "nbconvert_exporter": "python",
   "pygments_lexer": "ipython3",
   "version": "3.7.12"
  }
 },
 "nbformat": 4,
 "nbformat_minor": 2
}
