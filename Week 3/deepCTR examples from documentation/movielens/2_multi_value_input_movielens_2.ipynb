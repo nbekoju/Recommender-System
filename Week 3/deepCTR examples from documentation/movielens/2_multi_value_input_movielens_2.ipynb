{
 "cells": [
  {
   "cell_type": "code",
   "execution_count": 73,
   "metadata": {},
   "outputs": [],
   "source": [
    "import numpy as np\n",
    "import pandas as pd\n",
    "from sklearn.preprocessing import LabelEncoder\n",
    "from tensorflow.keras.preprocessing.sequence import pad_sequences\n",
    "\n",
    "from deepctr.models import DeepFM\n",
    "from deepctr.feature_column import SparseFeat, VarLenSparseFeat, get_feature_names\n",
    "\n",
    "\n",
    "def split(x):\n",
    "    key_ans = x.split('|')\n",
    "    for key in key_ans:\n",
    "        if key not in key2index:\n",
    "            # Notice : input value 0 is a special \"padding\",so we do not use 0 to encode valid feature for sequence input\n",
    "            key2index[key] = len(key2index) + 1\n",
    "    return list(map(lambda x: key2index[x], key_ans))\n"
   ]
  },
  {
   "cell_type": "code",
   "execution_count": 74,
   "metadata": {},
   "outputs": [],
   "source": [
    "data = pd.read_csv(\"./movielens_sample.txt\")\n",
    "sparse_features = [\"movie_id\", \"user_id\",\n",
    "                    \"gender\", \"age\", \"occupation\", \"zip\", ]\n",
    "target = ['rating']\n",
    "\n",
    "# 1.Label Encoding for sparse features,and process sequence features\n",
    "for feat in sparse_features:\n",
    "    lbe = LabelEncoder()\n",
    "    data[feat] = lbe.fit_transform(data[feat])\n",
    "# preprocess the sequence feature\n",
    "\n",
    "key2index = {}\n",
    "genres_list = list(map(split, data['genres'].values))\n",
    "genres_length = np.array(list(map(len, genres_list)))\n",
    "max_len = max(genres_length)\n",
    "# Notice : padding=`post`\n",
    "genres_list = pad_sequences(genres_list, maxlen=max_len, padding='post', )\n",
    "\n",
    "# 2.count #unique features for each sparse field and generate feature config for sequence feature\n",
    "\n",
    "fixlen_feature_columns = [SparseFeat(feat, data[feat].max() + 1, embedding_dim=4)\n",
    "                            for feat in sparse_features]\n",
    "\n",
    "use_weighted_sequence = True\n",
    "if use_weighted_sequence:\n",
    "    varlen_feature_columns = [VarLenSparseFeat(SparseFeat('genres', vocabulary_size=len(\n",
    "        key2index) + 1, embedding_dim=4), maxlen=max_len, combiner='mean',\n",
    "                                                weight_name='genres_weight')]  # Notice : value 0 is for padding for sequence input feature\n",
    "else:\n",
    "    varlen_feature_columns = [VarLenSparseFeat(SparseFeat('genres', vocabulary_size=len(\n",
    "        key2index) + 1, embedding_dim=4), maxlen=max_len, combiner='mean',\n",
    "                                                weight_name=None)]  # Notice : value 0 is for padding for sequence input feature"
   ]
  },
  {
   "cell_type": "code",
   "execution_count": 75,
   "metadata": {},
   "outputs": [
    {
     "data": {
      "text/plain": [
       "['movie_id', 'user_id', 'gender', 'age', 'occupation', 'zip', 'genres']"
      ]
     },
     "execution_count": 75,
     "metadata": {},
     "output_type": "execute_result"
    }
   ],
   "source": [
    "linear_feature_columns = fixlen_feature_columns + varlen_feature_columns\n",
    "dnn_feature_columns = fixlen_feature_columns + varlen_feature_columns\n",
    "\n",
    "feature_names = get_feature_names(linear_feature_columns + dnn_feature_columns)\n",
    "if use_weighted_sequence:\n",
    "    feature_names.remove(\"genres_weight\")\n",
    "feature_names"
   ]
  },
  {
   "cell_type": "code",
   "execution_count": 76,
   "metadata": {},
   "outputs": [
    {
     "name": "stdout",
     "output_type": "stream",
     "text": [
      "Epoch 1/10\n",
      "1/1 - 2s - loss: 14.3003 - mse: 14.3003 - val_loss: 13.3990 - val_mse: 13.3990\n",
      "Epoch 2/10\n",
      "1/1 - 0s - loss: 14.1769 - mse: 14.1769 - val_loss: 13.2737 - val_mse: 13.2737\n",
      "Epoch 3/10\n",
      "1/1 - 0s - loss: 14.0260 - mse: 14.0260 - val_loss: 13.1432 - val_mse: 13.1432\n",
      "Epoch 4/10\n",
      "1/1 - 0s - loss: 13.8698 - mse: 13.8698 - val_loss: 13.0046 - val_mse: 13.0046\n",
      "Epoch 5/10\n",
      "1/1 - 0s - loss: 13.7045 - mse: 13.7045 - val_loss: 12.8545 - val_mse: 12.8545\n",
      "Epoch 6/10\n",
      "1/1 - 0s - loss: 13.5260 - mse: 13.5260 - val_loss: 12.6917 - val_mse: 12.6917\n",
      "Epoch 7/10\n",
      "1/1 - 0s - loss: 13.3321 - mse: 13.3321 - val_loss: 12.5148 - val_mse: 12.5148\n",
      "Epoch 8/10\n",
      "1/1 - 0s - loss: 13.1219 - mse: 13.1219 - val_loss: 12.3214 - val_mse: 12.3214\n",
      "Epoch 9/10\n",
      "1/1 - 0s - loss: 12.8932 - mse: 12.8932 - val_loss: 12.1095 - val_mse: 12.1095\n",
      "Epoch 10/10\n",
      "1/1 - 0s - loss: 12.6437 - mse: 12.6437 - val_loss: 11.8777 - val_mse: 11.8777\n"
     ]
    }
   ],
   "source": [
    "\n",
    "# 3.generate input data for model\n",
    "model_input = {name: data[name] for name in feature_names}  #\n",
    "model_input[\"genres\"] = genres_list\n",
    "model_input[\"genres_weight\"] = np.random.randn(data.shape[0], max_len, 1)\n",
    "\n",
    "# 4.Define Model,compile and train\n",
    "model = DeepFM(linear_feature_columns, dnn_feature_columns, task='regression')\n",
    "\n",
    "model.compile(\"adam\", \"mse\", metrics=['mse'], )\n",
    "history = model.fit(model_input, data[target].values,\n",
    "                    batch_size=256, epochs=10, verbose=2, validation_split=0.2, )"
   ]
  },
  {
   "cell_type": "markdown",
   "metadata": {},
   "source": [
    "### Model inference"
   ]
  },
  {
   "cell_type": "code",
   "execution_count": 77,
   "metadata": {},
   "outputs": [],
   "source": [
    "if use_weighted_sequence == False:\n",
    "    print(feature_names)\n",
    "    print()\n",
    "    sample_data = data.iloc[0]\n",
    "    sample_input_data = {feat: np.array([sample_data[feat]]) for feat in feature_names}\n",
    "    sample_input_data[\"genres\"] = np.array([genres_list[0]])\n",
    "    print(sample_input_data)\n",
    "    print()\n",
    "    print(model.predict(sample_input_data))"
   ]
  },
  {
   "cell_type": "code",
   "execution_count": 78,
   "metadata": {},
   "outputs": [],
   "source": [
    "sample_data = data.iloc[0]\n"
   ]
  },
  {
   "cell_type": "code",
   "execution_count": 79,
   "metadata": {},
   "outputs": [
    {
     "data": {
      "text/plain": [
       "array([[-1.19243571],\n",
       "       [ 2.50912772],\n",
       "       [-0.37220681],\n",
       "       [ 0.16265287],\n",
       "       [ 0.07435371]])"
      ]
     },
     "execution_count": 79,
     "metadata": {},
     "output_type": "execute_result"
    }
   ],
   "source": [
    "model_input[\"genres_weight\"][0]"
   ]
  },
  {
   "cell_type": "code",
   "execution_count": 80,
   "metadata": {},
   "outputs": [
    {
     "name": "stdout",
     "output_type": "stream",
     "text": [
      "['movie_id', 'user_id', 'gender', 'age', 'occupation', 'zip', 'genres']\n",
      "\n",
      "4\n",
      "\n",
      "{'movie_id': array([12]), 'user_id': array([107]), 'gender': array([0]), 'age': array([2]), 'occupation': array([4]), 'zip': array([35]), 'genres': array([[1, 2, 0, 0, 0]], dtype=int32), 'genres_weight': array([[[-1.19243571],\n",
      "        [ 2.50912772],\n",
      "        [-0.37220681],\n",
      "        [ 0.16265287],\n",
      "        [ 0.07435371]]])}\n",
      "\n",
      "[[0.27892944]]\n"
     ]
    }
   ],
   "source": [
    "if use_weighted_sequence == True:\n",
    "    print(feature_names)\n",
    "    print()\n",
    "    sample_data = data.iloc[0]\n",
    "    print(sample_data[\"rating\"])\n",
    "    print()\n",
    "    sample_input_data = {feat: np.array([sample_data[feat]]) for feat in feature_names}\n",
    "    sample_input_data[\"genres\"] = np.array([genres_list[0]])\n",
    "    sample_input_data[\"genres_weight\"] = np.array([model_input[\"genres_weight\"][0]])\n",
    "    # sample_input_data[\"genres_weight\"] = np.random.randn(1, max_len, 1)\n",
    "    print(sample_input_data)\n",
    "    print()\n",
    "    print(model.predict(sample_input_data))"
   ]
  },
  {
   "cell_type": "code",
   "execution_count": null,
   "metadata": {},
   "outputs": [],
   "source": []
  }
 ],
 "metadata": {
  "kernelspec": {
   "display_name": "deepctr",
   "language": "python",
   "name": "python3"
  },
  "language_info": {
   "codemirror_mode": {
    "name": "ipython",
    "version": 3
   },
   "file_extension": ".py",
   "mimetype": "text/x-python",
   "name": "python",
   "nbconvert_exporter": "python",
   "pygments_lexer": "ipython3",
   "version": "3.7.12"
  }
 },
 "nbformat": 4,
 "nbformat_minor": 2
}
