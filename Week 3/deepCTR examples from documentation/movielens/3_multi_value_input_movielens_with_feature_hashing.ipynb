{
 "cells": [
  {
   "cell_type": "code",
   "execution_count": 1,
   "metadata": {},
   "outputs": [],
   "source": [
    "import numpy as np\n",
    "import pandas as pd\n",
    "from tensorflow.keras.preprocessing.sequence import pad_sequences\n",
    "\n",
    "from deepctr.feature_column import SparseFeat, VarLenSparseFeat, get_feature_names\n",
    "from deepctr.models import DeepFM"
   ]
  },
  {
   "cell_type": "code",
   "execution_count": 2,
   "metadata": {},
   "outputs": [
    {
     "name": "stdout",
     "output_type": "stream",
     "text": [
      "<class 'pandas.core.frame.DataFrame'>\n",
      "RangeIndex: 200 entries, 0 to 199\n",
      "Data columns (total 10 columns):\n",
      " #   Column      Non-Null Count  Dtype \n",
      "---  ------      --------------  ----- \n",
      " 0   user_id     200 non-null    int64 \n",
      " 1   movie_id    200 non-null    int64 \n",
      " 2   rating      200 non-null    int64 \n",
      " 3   timestamp   200 non-null    int64 \n",
      " 4   title       200 non-null    object\n",
      " 5   genres      200 non-null    object\n",
      " 6   gender      200 non-null    object\n",
      " 7   age         200 non-null    int64 \n",
      " 8   occupation  200 non-null    int64 \n",
      " 9   zip         200 non-null    object\n",
      "dtypes: int64(6), object(4)\n",
      "memory usage: 15.8+ KB\n"
     ]
    },
    {
     "data": {
      "text/html": [
       "<div>\n",
       "<style scoped>\n",
       "    .dataframe tbody tr th:only-of-type {\n",
       "        vertical-align: middle;\n",
       "    }\n",
       "\n",
       "    .dataframe tbody tr th {\n",
       "        vertical-align: top;\n",
       "    }\n",
       "\n",
       "    .dataframe thead th {\n",
       "        text-align: right;\n",
       "    }\n",
       "</style>\n",
       "<table border=\"1\" class=\"dataframe\">\n",
       "  <thead>\n",
       "    <tr style=\"text-align: right;\">\n",
       "      <th></th>\n",
       "      <th>user_id</th>\n",
       "      <th>movie_id</th>\n",
       "      <th>rating</th>\n",
       "      <th>timestamp</th>\n",
       "      <th>title</th>\n",
       "      <th>genres</th>\n",
       "      <th>gender</th>\n",
       "      <th>age</th>\n",
       "      <th>occupation</th>\n",
       "      <th>zip</th>\n",
       "    </tr>\n",
       "  </thead>\n",
       "  <tbody>\n",
       "    <tr>\n",
       "      <th>0</th>\n",
       "      <td>3299</td>\n",
       "      <td>235</td>\n",
       "      <td>4</td>\n",
       "      <td>968035345</td>\n",
       "      <td>Ed Wood (1994)</td>\n",
       "      <td>Comedy|Drama</td>\n",
       "      <td>F</td>\n",
       "      <td>25</td>\n",
       "      <td>4</td>\n",
       "      <td>19119</td>\n",
       "    </tr>\n",
       "    <tr>\n",
       "      <th>1</th>\n",
       "      <td>3630</td>\n",
       "      <td>3256</td>\n",
       "      <td>3</td>\n",
       "      <td>966536874</td>\n",
       "      <td>Patriot Games (1992)</td>\n",
       "      <td>Action|Thriller</td>\n",
       "      <td>M</td>\n",
       "      <td>18</td>\n",
       "      <td>4</td>\n",
       "      <td>77005</td>\n",
       "    </tr>\n",
       "    <tr>\n",
       "      <th>2</th>\n",
       "      <td>517</td>\n",
       "      <td>105</td>\n",
       "      <td>4</td>\n",
       "      <td>976203603</td>\n",
       "      <td>Bridges of Madison County, The (1995)</td>\n",
       "      <td>Drama|Romance</td>\n",
       "      <td>F</td>\n",
       "      <td>25</td>\n",
       "      <td>14</td>\n",
       "      <td>55408</td>\n",
       "    </tr>\n",
       "    <tr>\n",
       "      <th>3</th>\n",
       "      <td>785</td>\n",
       "      <td>2115</td>\n",
       "      <td>3</td>\n",
       "      <td>975430389</td>\n",
       "      <td>Indiana Jones and the Temple of Doom (1984)</td>\n",
       "      <td>Action|Adventure</td>\n",
       "      <td>M</td>\n",
       "      <td>18</td>\n",
       "      <td>19</td>\n",
       "      <td>29307</td>\n",
       "    </tr>\n",
       "    <tr>\n",
       "      <th>4</th>\n",
       "      <td>5848</td>\n",
       "      <td>909</td>\n",
       "      <td>5</td>\n",
       "      <td>957782527</td>\n",
       "      <td>Apartment, The (1960)</td>\n",
       "      <td>Comedy|Drama</td>\n",
       "      <td>M</td>\n",
       "      <td>50</td>\n",
       "      <td>20</td>\n",
       "      <td>20009</td>\n",
       "    </tr>\n",
       "  </tbody>\n",
       "</table>\n",
       "</div>"
      ],
      "text/plain": [
       "   user_id  movie_id  rating  timestamp  \\\n",
       "0     3299       235       4  968035345   \n",
       "1     3630      3256       3  966536874   \n",
       "2      517       105       4  976203603   \n",
       "3      785      2115       3  975430389   \n",
       "4     5848       909       5  957782527   \n",
       "\n",
       "                                         title            genres gender  age  \\\n",
       "0                               Ed Wood (1994)      Comedy|Drama      F   25   \n",
       "1                         Patriot Games (1992)   Action|Thriller      M   18   \n",
       "2        Bridges of Madison County, The (1995)     Drama|Romance      F   25   \n",
       "3  Indiana Jones and the Temple of Doom (1984)  Action|Adventure      M   18   \n",
       "4                        Apartment, The (1960)      Comedy|Drama      M   50   \n",
       "\n",
       "   occupation    zip  \n",
       "0           4  19119  \n",
       "1           4  77005  \n",
       "2          14  55408  \n",
       "3          19  29307  \n",
       "4          20  20009  "
      ]
     },
     "execution_count": 2,
     "metadata": {},
     "output_type": "execute_result"
    }
   ],
   "source": [
    "data = pd.read_csv(\"./movielens_sample.txt\")\n",
    "data.info()\n",
    "data.head()"
   ]
  },
  {
   "cell_type": "code",
   "execution_count": 3,
   "metadata": {},
   "outputs": [],
   "source": [
    "sparse_features = [\"movie_id\", \"user_id\", \"gender\", \"age\", \"occupation\", \"zip\"]\n",
    "target = [\"rating\"]\n",
    "data[sparse_features] = data[sparse_features].astype(str)"
   ]
  },
  {
   "cell_type": "code",
   "execution_count": 4,
   "metadata": {},
   "outputs": [
    {
     "data": {
      "text/plain": [
       "[['Comedy', 'Drama'], ['Action', 'Thriller']]"
      ]
     },
     "execution_count": 4,
     "metadata": {},
     "output_type": "execute_result"
    }
   ],
   "source": [
    "# use hashing encoding on the fly for sparse features, \n",
    "# and proceed sequence feateures\n",
    "genres_list = list(map(lambda x: x.split('|'), data[\"genres\"].values))\n",
    "genres_length = np.array(list(map(len, genres_list)))\n",
    "max_len = max(genres_length)\n",
    "genres_list[:2]"
   ]
  },
  {
   "cell_type": "code",
   "execution_count": 5,
   "metadata": {},
   "outputs": [
    {
     "data": {
      "text/plain": [
       "array([['Comedy', 'Drama', '0', '0', '0'],\n",
       "       ['Action', 'Thriller', '0', '0', '0']], dtype='<U10')"
      ]
     },
     "execution_count": 5,
     "metadata": {},
     "output_type": "execute_result"
    }
   ],
   "source": [
    "genres_list = pad_sequences(genres_list, maxlen=max_len, padding=\"post\", dtype=object, value=0).astype(str)\n",
    "genres_list[:2]"
   ]
  },
  {
   "cell_type": "code",
   "execution_count": 6,
   "metadata": {},
   "outputs": [],
   "source": [
    "# set the hashing space for each sparse field\n",
    "# and generate feature config for sequence feature\n",
    "fixlen_feature_columns = [SparseFeat(feat, \n",
    "                                     data[feat].nunique() * 5, \n",
    "                                     embedding_dim=4, \n",
    "                                     use_hash=True, \n",
    "                                     dtype=\"string\") \n",
    "                            for feat in sparse_features]\n",
    "\n",
    "genre_sparse_feat = SparseFeat('genres', \n",
    "                                vocabulary_size=100,\n",
    "                                embedding_dim=4, \n",
    "                                use_hash=True, \n",
    "                                dtype='string')\n",
    "\n",
    "varlen_feature_columns = [VarLenSparseFeat(genre_sparse_feat, \n",
    "                                           maxlen=max_len, \n",
    "                                           combiner=\"mean\", )]"
   ]
  },
  {
   "cell_type": "code",
   "execution_count": 7,
   "metadata": {},
   "outputs": [
    {
     "data": {
      "text/plain": [
       "['movie_id', 'user_id', 'gender', 'age', 'occupation', 'zip', 'genres']"
      ]
     },
     "execution_count": 7,
     "metadata": {},
     "output_type": "execute_result"
    }
   ],
   "source": [
    "linear_feature_columns = fixlen_feature_columns + varlen_feature_columns\n",
    "dnn_feature_columns = fixlen_feature_columns + varlen_feature_columns\n",
    "feature_names = get_feature_names(linear_feature_columns + dnn_feature_columns)\n",
    "feature_names"
   ]
  },
  {
   "cell_type": "code",
   "execution_count": 8,
   "metadata": {},
   "outputs": [],
   "source": [
    "# generate input data for model\n",
    "model_input = {name: data[name] for name in feature_names}\n",
    "model_input[\"genres\"] = genres_list"
   ]
  },
  {
   "cell_type": "code",
   "execution_count": 15,
   "metadata": {},
   "outputs": [],
   "source": [
    "# define model, compile and train\n",
    "model = DeepFM(linear_feature_columns, dnn_feature_columns, task=\"regression\")\n",
    "model.compile(\"adam\", \"mse\", metrics = [\"mse\"])"
   ]
  },
  {
   "cell_type": "code",
   "execution_count": 16,
   "metadata": {},
   "outputs": [
    {
     "name": "stdout",
     "output_type": "stream",
     "text": [
      "Epoch 1/40\n",
      "1/1 - 2s - loss: 14.3003 - mse: 14.3003 - val_loss: 13.4076 - val_mse: 13.4076\n",
      "Epoch 2/40\n",
      "1/1 - 0s - loss: 14.1886 - mse: 14.1886 - val_loss: 13.2965 - val_mse: 13.2965\n",
      "Epoch 3/40\n",
      "1/1 - 0s - loss: 14.0572 - mse: 14.0572 - val_loss: 13.1711 - val_mse: 13.1711\n",
      "Epoch 4/40\n",
      "1/1 - 0s - loss: 13.9112 - mse: 13.9112 - val_loss: 13.0399 - val_mse: 13.0399\n",
      "Epoch 5/40\n",
      "1/1 - 0s - loss: 13.7581 - mse: 13.7581 - val_loss: 12.8996 - val_mse: 12.8996\n",
      "Epoch 6/40\n",
      "1/1 - 0s - loss: 13.5955 - mse: 13.5955 - val_loss: 12.7486 - val_mse: 12.7486\n",
      "Epoch 7/40\n",
      "1/1 - 0s - loss: 13.4211 - mse: 13.4211 - val_loss: 12.5850 - val_mse: 12.5850\n",
      "Epoch 8/40\n",
      "1/1 - 0s - loss: 13.2329 - mse: 13.2329 - val_loss: 12.4076 - val_mse: 12.4076\n",
      "Epoch 9/40\n",
      "1/1 - 0s - loss: 13.0293 - mse: 13.0293 - val_loss: 12.2146 - val_mse: 12.2146\n",
      "Epoch 10/40\n",
      "1/1 - 0s - loss: 12.8085 - mse: 12.8085 - val_loss: 12.0039 - val_mse: 12.0039\n",
      "Epoch 11/40\n",
      "1/1 - 0s - loss: 12.5679 - mse: 12.5679 - val_loss: 11.7734 - val_mse: 11.7734\n",
      "Epoch 12/40\n",
      "1/1 - 0s - loss: 12.3048 - mse: 12.3048 - val_loss: 11.5207 - val_mse: 11.5207\n",
      "Epoch 13/40\n",
      "1/1 - 0s - loss: 12.0172 - mse: 12.0172 - val_loss: 11.2443 - val_mse: 11.2443\n",
      "Epoch 14/40\n",
      "1/1 - 0s - loss: 11.7025 - mse: 11.7025 - val_loss: 10.9421 - val_mse: 10.9421\n",
      "Epoch 15/40\n",
      "1/1 - 0s - loss: 11.3583 - mse: 11.3583 - val_loss: 10.6118 - val_mse: 10.6118\n",
      "Epoch 16/40\n",
      "1/1 - 0s - loss: 10.9825 - mse: 10.9825 - val_loss: 10.2522 - val_mse: 10.2522\n",
      "Epoch 17/40\n",
      "1/1 - 0s - loss: 10.5732 - mse: 10.5732 - val_loss: 9.8610 - val_mse: 9.8610\n",
      "Epoch 18/40\n",
      "1/1 - 0s - loss: 10.1278 - mse: 10.1278 - val_loss: 9.4362 - val_mse: 9.4362\n",
      "Epoch 19/40\n",
      "1/1 - 0s - loss: 9.6439 - mse: 9.6439 - val_loss: 8.9768 - val_mse: 8.9767\n",
      "Epoch 20/40\n",
      "1/1 - 0s - loss: 9.1202 - mse: 9.1202 - val_loss: 8.4817 - val_mse: 8.4817\n",
      "Epoch 21/40\n",
      "1/1 - 0s - loss: 8.5562 - mse: 8.5562 - val_loss: 7.9508 - val_mse: 7.9508\n",
      "Epoch 22/40\n",
      "1/1 - 0s - loss: 7.9520 - mse: 7.9520 - val_loss: 7.3845 - val_mse: 7.3845\n",
      "Epoch 23/40\n",
      "1/1 - 0s - loss: 7.3093 - mse: 7.3093 - val_loss: 6.7849 - val_mse: 6.7849\n",
      "Epoch 24/40\n",
      "1/1 - 0s - loss: 6.6310 - mse: 6.6310 - val_loss: 6.1558 - val_mse: 6.1558\n",
      "Epoch 25/40\n",
      "1/1 - 0s - loss: 5.9232 - mse: 5.9232 - val_loss: 5.5032 - val_mse: 5.5032\n",
      "Epoch 26/40\n",
      "1/1 - 0s - loss: 5.1944 - mse: 5.1944 - val_loss: 4.8356 - val_mse: 4.8356\n",
      "Epoch 27/40\n",
      "1/1 - 0s - loss: 4.4571 - mse: 4.4571 - val_loss: 4.1650 - val_mse: 4.1650\n",
      "Epoch 28/40\n",
      "1/1 - 0s - loss: 3.7282 - mse: 3.7282 - val_loss: 3.5072 - val_mse: 3.5072\n",
      "Epoch 29/40\n",
      "1/1 - 0s - loss: 3.0299 - mse: 3.0299 - val_loss: 2.8823 - val_mse: 2.8823\n",
      "Epoch 30/40\n",
      "1/1 - 0s - loss: 2.3902 - mse: 2.3901 - val_loss: 2.3151 - val_mse: 2.3150\n",
      "Epoch 31/40\n",
      "1/1 - 0s - loss: 1.8425 - mse: 1.8425 - val_loss: 1.8340 - val_mse: 1.8339\n",
      "Epoch 32/40\n",
      "1/1 - 0s - loss: 1.4241 - mse: 1.4241 - val_loss: 1.4685 - val_mse: 1.4685\n",
      "Epoch 33/40\n",
      "1/1 - 0s - loss: 1.1712 - mse: 1.1712 - val_loss: 1.2424 - val_mse: 1.2424\n",
      "Epoch 34/40\n",
      "1/1 - 0s - loss: 1.1076 - mse: 1.1076 - val_loss: 1.1609 - val_mse: 1.1609\n",
      "Epoch 35/40\n",
      "1/1 - 0s - loss: 1.2246 - mse: 1.2246 - val_loss: 1.1948 - val_mse: 1.1948\n",
      "Epoch 36/40\n",
      "1/1 - 0s - loss: 1.4605 - mse: 1.4604 - val_loss: 1.2819 - val_mse: 1.2818\n",
      "Epoch 37/40\n",
      "1/1 - 0s - loss: 1.7091 - mse: 1.7091 - val_loss: 1.3552 - val_mse: 1.3551\n",
      "Epoch 38/40\n",
      "1/1 - 0s - loss: 1.8678 - mse: 1.8678 - val_loss: 1.3758 - val_mse: 1.3758\n",
      "Epoch 39/40\n",
      "1/1 - 0s - loss: 1.8846 - mse: 1.8846 - val_loss: 1.3416 - val_mse: 1.3415\n",
      "Epoch 40/40\n",
      "1/1 - 0s - loss: 1.7668 - mse: 1.7668 - val_loss: 1.2745 - val_mse: 1.2744\n"
     ]
    }
   ],
   "source": [
    "BATCH_SIZE = 256\n",
    "EPOCHS = 40\n",
    "history = model.fit(model_input, data[target].values,\n",
    "                        batch_size=BATCH_SIZE, epochs=EPOCHS, verbose=2, validation_split=0.2, )"
   ]
  },
  {
   "cell_type": "code",
   "execution_count": 17,
   "metadata": {},
   "outputs": [
    {
     "data": {
      "image/png": "[encoded data removed]",
      "text/plain": [
       "<Figure size 720x432 with 1 Axes>"
      ]
     },
     "metadata": {
      "needs_background": "light"
     },
     "output_type": "display_data"
    }
   ],
   "source": [
    "import matplotlib.pyplot as plt\n",
    "# Extract loss and validation loss values\n",
    "def plot_history(history, train_metric: str, val_metric: str):\n",
    "    history_dict = history.history\n",
    "\n",
    "    loss = history_dict[train_metric]\n",
    "    val_loss = history_dict[val_metric]\n",
    "    # Create an array with epoch numbers\n",
    "    epochs = range(1, len(loss) + 1)\n",
    "\n",
    "    # Plotting the training and validation loss\n",
    "    plt.figure(figsize=(10, 6))\n",
    "    plt.plot(epochs, loss, 'bo-', label=train_metric)\n",
    "    plt.plot(epochs, val_loss, 'ro-', label=val_metric)\n",
    "    plt.title(f'{train_metric} vs {val_metric}')\n",
    "    plt.xlabel('Epochs')\n",
    "    plt.ylabel('Loss')\n",
    "    plt.legend()\n",
    "    plt.show()\n",
    "\n",
    "plot_history(history, \"mse\", \"val_mse\")"
   ]
  },
  {
   "cell_type": "code",
   "execution_count": null,
   "metadata": {},
   "outputs": [],
   "source": []
  }
 ],
 "metadata": {
  "kernelspec": {
   "display_name": "deepctr",
   "language": "python",
   "name": "python3"
  },
  "language_info": {
   "codemirror_mode": {
    "name": "ipython",
    "version": 3
   },
   "file_extension": ".py",
   "mimetype": "text/x-python",
   "name": "python",
   "nbconvert_exporter": "python",
   "pygments_lexer": "ipython3",
   "version": "3.7.12"
  }
 },
 "nbformat": 4,
 "nbformat_minor": 2
}
