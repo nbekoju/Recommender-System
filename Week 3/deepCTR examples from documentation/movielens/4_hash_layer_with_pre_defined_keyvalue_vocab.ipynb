{
 "cells": [
  {
   "cell_type": "code",
   "execution_count": 1,
   "metadata": {},
   "outputs": [],
   "source": [
    "import numpy as np\n",
    "import pandas as pd\n",
    "import tensorflow as tf\n",
    "from tensorflow.keras.preprocessing.sequence import pad_sequences\n",
    "\n",
    "from deepctr.feature_column import SparseFeat, VarLenSparseFeat, get_feature_names\n",
    "from deepctr.models import DeepFM\n"
   ]
  },
  {
   "cell_type": "code",
   "execution_count": 2,
   "metadata": {},
   "outputs": [
    {
     "name": "stdout",
     "output_type": "stream",
     "text": [
      "<class 'pandas.core.frame.DataFrame'>\n",
      "RangeIndex: 200 entries, 0 to 199\n",
      "Data columns (total 10 columns):\n",
      " #   Column      Non-Null Count  Dtype \n",
      "---  ------      --------------  ----- \n",
      " 0   user_id     200 non-null    object\n",
      " 1   movie_id    200 non-null    object\n",
      " 2   rating      200 non-null    int64 \n",
      " 3   timestamp   200 non-null    int64 \n",
      " 4   title       200 non-null    object\n",
      " 5   genres      200 non-null    object\n",
      " 6   gender      200 non-null    object\n",
      " 7   age         200 non-null    object\n",
      " 8   occupation  200 non-null    object\n",
      " 9   zip         200 non-null    object\n",
      "dtypes: int64(2), object(8)\n",
      "memory usage: 15.8+ KB\n"
     ]
    },
    {
     "data": {
      "text/html": [
       "<div>\n",
       "<style scoped>\n",
       "    .dataframe tbody tr th:only-of-type {\n",
       "        vertical-align: middle;\n",
       "    }\n",
       "\n",
       "    .dataframe tbody tr th {\n",
       "        vertical-align: top;\n",
       "    }\n",
       "\n",
       "    .dataframe thead th {\n",
       "        text-align: right;\n",
       "    }\n",
       "</style>\n",
       "<table border=\"1\" class=\"dataframe\">\n",
       "  <thead>\n",
       "    <tr style=\"text-align: right;\">\n",
       "      <th></th>\n",
       "      <th>user_id</th>\n",
       "      <th>movie_id</th>\n",
       "      <th>rating</th>\n",
       "      <th>timestamp</th>\n",
       "      <th>title</th>\n",
       "      <th>genres</th>\n",
       "      <th>gender</th>\n",
       "      <th>age</th>\n",
       "      <th>occupation</th>\n",
       "      <th>zip</th>\n",
       "    </tr>\n",
       "  </thead>\n",
       "  <tbody>\n",
       "    <tr>\n",
       "      <th>0</th>\n",
       "      <td>3299</td>\n",
       "      <td>235</td>\n",
       "      <td>4</td>\n",
       "      <td>968035345</td>\n",
       "      <td>Ed Wood (1994)</td>\n",
       "      <td>Comedy|Drama</td>\n",
       "      <td>F</td>\n",
       "      <td>25</td>\n",
       "      <td>4</td>\n",
       "      <td>19119</td>\n",
       "    </tr>\n",
       "    <tr>\n",
       "      <th>1</th>\n",
       "      <td>3630</td>\n",
       "      <td>3256</td>\n",
       "      <td>3</td>\n",
       "      <td>966536874</td>\n",
       "      <td>Patriot Games (1992)</td>\n",
       "      <td>Action|Thriller</td>\n",
       "      <td>M</td>\n",
       "      <td>18</td>\n",
       "      <td>4</td>\n",
       "      <td>77005</td>\n",
       "    </tr>\n",
       "    <tr>\n",
       "      <th>2</th>\n",
       "      <td>517</td>\n",
       "      <td>105</td>\n",
       "      <td>4</td>\n",
       "      <td>976203603</td>\n",
       "      <td>Bridges of Madison County, The (1995)</td>\n",
       "      <td>Drama|Romance</td>\n",
       "      <td>F</td>\n",
       "      <td>25</td>\n",
       "      <td>14</td>\n",
       "      <td>55408</td>\n",
       "    </tr>\n",
       "    <tr>\n",
       "      <th>3</th>\n",
       "      <td>785</td>\n",
       "      <td>2115</td>\n",
       "      <td>3</td>\n",
       "      <td>975430389</td>\n",
       "      <td>Indiana Jones and the Temple of Doom (1984)</td>\n",
       "      <td>Action|Adventure</td>\n",
       "      <td>M</td>\n",
       "      <td>18</td>\n",
       "      <td>19</td>\n",
       "      <td>29307</td>\n",
       "    </tr>\n",
       "    <tr>\n",
       "      <th>4</th>\n",
       "      <td>5848</td>\n",
       "      <td>909</td>\n",
       "      <td>5</td>\n",
       "      <td>957782527</td>\n",
       "      <td>Apartment, The (1960)</td>\n",
       "      <td>Comedy|Drama</td>\n",
       "      <td>M</td>\n",
       "      <td>50</td>\n",
       "      <td>20</td>\n",
       "      <td>20009</td>\n",
       "    </tr>\n",
       "  </tbody>\n",
       "</table>\n",
       "</div>"
      ],
      "text/plain": [
       "  user_id movie_id  rating  timestamp  \\\n",
       "0    3299      235       4  968035345   \n",
       "1    3630     3256       3  966536874   \n",
       "2     517      105       4  976203603   \n",
       "3     785     2115       3  975430389   \n",
       "4    5848      909       5  957782527   \n",
       "\n",
       "                                         title            genres gender age  \\\n",
       "0                               Ed Wood (1994)      Comedy|Drama      F  25   \n",
       "1                         Patriot Games (1992)   Action|Thriller      M  18   \n",
       "2        Bridges of Madison County, The (1995)     Drama|Romance      F  25   \n",
       "3  Indiana Jones and the Temple of Doom (1984)  Action|Adventure      M  18   \n",
       "4                        Apartment, The (1960)      Comedy|Drama      M  50   \n",
       "\n",
       "  occupation    zip  \n",
       "0          4  19119  \n",
       "1          4  77005  \n",
       "2         14  55408  \n",
       "3         19  29307  \n",
       "4         20  20009  "
      ]
     },
     "execution_count": 2,
     "metadata": {},
     "output_type": "execute_result"
    }
   ],
   "source": [
    "data = pd.read_csv(\"./movielens_sample.txt\")\n",
    "sparse_features = [\"movie_id\", \"user_id\", \"gender\", \"age\", \"occupation\", \"zip\"]\n",
    "data[sparse_features] = data[sparse_features].astype(str)\n",
    "target = [\"rating\"]\n",
    "data.info()\n",
    "data.head()"
   ]
  },
  {
   "cell_type": "code",
   "execution_count": 8,
   "metadata": {},
   "outputs": [
    {
     "data": {
      "text/plain": [
       "1      6\n",
       "18    36\n",
       "25    72\n",
       "35    36\n",
       "45    13\n",
       "50    25\n",
       "56    12\n",
       "Name: age, dtype: int64"
      ]
     },
     "execution_count": 8,
     "metadata": {},
     "output_type": "execute_result"
    }
   ],
   "source": [
    "# this is used as key in movilens_age_vocabulary.csv\n",
    "data[\"age\"].value_counts().sort_index()"
   ]
  },
  {
   "cell_type": "code",
   "execution_count": 9,
   "metadata": {},
   "outputs": [
    {
     "data": {
      "text/plain": [
       "[['Comedy', 'Drama'], ['Action', 'Thriller']]"
      ]
     },
     "execution_count": 9,
     "metadata": {},
     "output_type": "execute_result"
    }
   ],
   "source": [
    "# use hashing encoding on the fly for sparse features, \n",
    "# and process sequence features\n",
    "genres_list = list(map(lambda x: x.split('|'), data[\"genres\"].values))\n",
    "genres_length = np.array(list(map(len, genres_list)))\n",
    "max_len = max(genres_length)\n",
    "genres_list[:2]"
   ]
  },
  {
   "cell_type": "code",
   "execution_count": 10,
   "metadata": {},
   "outputs": [
    {
     "data": {
      "text/plain": [
       "array([['Comedy', 'Drama', '0', '0', '0'],\n",
       "       ['Action', 'Thriller', '0', '0', '0']], dtype='<U10')"
      ]
     },
     "execution_count": 10,
     "metadata": {},
     "output_type": "execute_result"
    }
   ],
   "source": [
    "genres_list = pad_sequences(genres_list, maxlen=max_len, padding=\"post\", dtype=object, value=0).astype(str)\n",
    "genres_list[:2]"
   ]
  },
  {
   "cell_type": "code",
   "execution_count": 11,
   "metadata": {},
   "outputs": [
    {
     "data": {
      "text/plain": [
       "['movie_id', 'user_id', 'gender', 'age', 'occupation', 'zip', 'genres']"
      ]
     },
     "execution_count": 11,
     "metadata": {},
     "output_type": "execute_result"
    }
   ],
   "source": [
    "# set hashing space for each sparse field \n",
    "# and generate feature config for sequence feature\n",
    "fixlen_feature_columns = [SparseFeat(feat, data[feat].nunique() * 5, embedding_dim=4, use_hash=True,\n",
    "                                         vocabulary_path='./movielens_age_vocabulary.csv' if feat == 'age' else None,\n",
    "                                         dtype='string')\n",
    "                              for feat in sparse_features]\n",
    "varlen_feature_columns = [\n",
    "    VarLenSparseFeat(SparseFeat('genres', vocabulary_size=100, embedding_dim=4,\n",
    "                                use_hash=True, dtype=\"string\"),\n",
    "                        maxlen=max_len, combiner='mean',\n",
    "                        )]  # Notice : value 0 is for padding for sequence input feature\n",
    "linear_feature_columns = fixlen_feature_columns + varlen_feature_columns\n",
    "dnn_feature_columns = fixlen_feature_columns + varlen_feature_columns\n",
    "feature_names = get_feature_names(linear_feature_columns + dnn_feature_columns)\n",
    "feature_names"
   ]
  },
  {
   "cell_type": "code",
   "execution_count": 12,
   "metadata": {},
   "outputs": [],
   "source": [
    "# generate input data for model\n",
    "model_input = {name: data[name] for name in feature_names}\n",
    "model_input[\"genres\"] = genres_list"
   ]
  },
  {
   "cell_type": "code",
   "execution_count": 15,
   "metadata": {},
   "outputs": [],
   "source": [
    "# define model, compile, and train\n",
    "model = DeepFM(linear_feature_columns, dnn_feature_columns, task='regression')\n",
    "model.compile(\"adam\", \"mse\", metrics=['mse'], )"
   ]
  },
  {
   "cell_type": "code",
   "execution_count": 16,
   "metadata": {},
   "outputs": [
    {
     "name": "stdout",
     "output_type": "stream",
     "text": [
      "Epoch 1/40\n",
      "1/1 - 1s - loss: 14.3000 - mse: 14.3000 - val_loss: 13.3896 - val_mse: 13.3896\n",
      "Epoch 2/40\n",
      "1/1 - 0s - loss: 14.1693 - mse: 14.1693 - val_loss: 13.2580 - val_mse: 13.2580\n",
      "Epoch 3/40\n",
      "1/1 - 0s - loss: 14.0149 - mse: 14.0149 - val_loss: 13.1133 - val_mse: 13.1133\n",
      "Epoch 4/40\n",
      "1/1 - 0s - loss: 13.8466 - mse: 13.8466 - val_loss: 12.9561 - val_mse: 12.9561\n",
      "Epoch 5/40\n",
      "1/1 - 0s - loss: 13.6645 - mse: 13.6645 - val_loss: 12.7852 - val_mse: 12.7852\n",
      "Epoch 6/40\n",
      "1/1 - 0s - loss: 13.4668 - mse: 13.4668 - val_loss: 12.5982 - val_mse: 12.5982\n",
      "Epoch 7/40\n",
      "1/1 - 0s - loss: 13.2508 - mse: 13.2508 - val_loss: 12.3937 - val_mse: 12.3937\n",
      "Epoch 8/40\n",
      "1/1 - 0s - loss: 13.0139 - mse: 13.0139 - val_loss: 12.1697 - val_mse: 12.1697\n",
      "Epoch 9/40\n",
      "1/1 - 0s - loss: 12.7549 - mse: 12.7549 - val_loss: 11.9233 - val_mse: 11.9233\n",
      "Epoch 10/40\n",
      "1/1 - 0s - loss: 12.4712 - mse: 12.4712 - val_loss: 11.6528 - val_mse: 11.6528\n",
      "Epoch 11/40\n",
      "1/1 - 0s - loss: 12.1601 - mse: 12.1601 - val_loss: 11.3560 - val_mse: 11.3560\n",
      "Epoch 12/40\n",
      "1/1 - 0s - loss: 11.8188 - mse: 11.8188 - val_loss: 11.0314 - val_mse: 11.0314\n",
      "Epoch 13/40\n",
      "1/1 - 0s - loss: 11.4450 - mse: 11.4450 - val_loss: 10.6764 - val_mse: 10.6764\n",
      "Epoch 14/40\n",
      "1/1 - 0s - loss: 11.0358 - mse: 11.0358 - val_loss: 10.2889 - val_mse: 10.2889\n",
      "Epoch 15/40\n",
      "1/1 - 0s - loss: 10.5890 - mse: 10.5889 - val_loss: 9.8671 - val_mse: 9.8671\n",
      "Epoch 16/40\n",
      "1/1 - 0s - loss: 10.1020 - mse: 10.1020 - val_loss: 9.4096 - val_mse: 9.4096\n",
      "Epoch 17/40\n",
      "1/1 - 0s - loss: 9.5732 - mse: 9.5732 - val_loss: 8.9153 - val_mse: 8.9153\n",
      "Epoch 18/40\n",
      "1/1 - 0s - loss: 9.0017 - mse: 9.0017 - val_loss: 8.3843 - val_mse: 8.3843\n",
      "Epoch 19/40\n",
      "1/1 - 0s - loss: 8.3880 - mse: 8.3880 - val_loss: 7.8163 - val_mse: 7.8163\n",
      "Epoch 20/40\n",
      "1/1 - 0s - loss: 7.7337 - mse: 7.7337 - val_loss: 7.2127 - val_mse: 7.2127\n",
      "Epoch 21/40\n",
      "1/1 - 0s - loss: 7.0410 - mse: 7.0410 - val_loss: 6.5762 - val_mse: 6.5762\n",
      "Epoch 22/40\n",
      "1/1 - 0s - loss: 6.3152 - mse: 6.3152 - val_loss: 5.9119 - val_mse: 5.9119\n",
      "Epoch 23/40\n",
      "1/1 - 0s - loss: 5.5642 - mse: 5.5642 - val_loss: 5.2275 - val_mse: 5.2275\n",
      "Epoch 24/40\n",
      "1/1 - 0s - loss: 4.7998 - mse: 4.7998 - val_loss: 4.5342 - val_mse: 4.5342\n",
      "Epoch 25/40\n",
      "1/1 - 0s - loss: 4.0379 - mse: 4.0379 - val_loss: 3.8467 - val_mse: 3.8466\n",
      "Epoch 26/40\n",
      "1/1 - 0s - loss: 3.2999 - mse: 3.2999 - val_loss: 3.1842 - val_mse: 3.1842\n",
      "Epoch 27/40\n",
      "1/1 - 0s - loss: 2.6135 - mse: 2.6135 - val_loss: 2.5701 - val_mse: 2.5700\n",
      "Epoch 28/40\n",
      "1/1 - 0s - loss: 2.0123 - mse: 2.0123 - val_loss: 2.0340 - val_mse: 2.0340\n",
      "Epoch 29/40\n",
      "1/1 - 0s - loss: 1.5355 - mse: 1.5355 - val_loss: 1.6035 - val_mse: 1.6035\n",
      "Epoch 30/40\n",
      "1/1 - 0s - loss: 1.2201 - mse: 1.2201 - val_loss: 1.3088 - val_mse: 1.3088\n",
      "Epoch 31/40\n",
      "1/1 - 0s - loss: 1.0984 - mse: 1.0984 - val_loss: 1.1632 - val_mse: 1.1632\n",
      "Epoch 32/40\n",
      "1/1 - 0s - loss: 1.1727 - mse: 1.1727 - val_loss: 1.1495 - val_mse: 1.1495\n",
      "Epoch 33/40\n",
      "1/1 - 0s - loss: 1.3950 - mse: 1.3950 - val_loss: 1.2142 - val_mse: 1.2142\n",
      "Epoch 34/40\n",
      "1/1 - 0s - loss: 1.6641 - mse: 1.6641 - val_loss: 1.2881 - val_mse: 1.2881\n",
      "Epoch 35/40\n",
      "1/1 - 0s - loss: 1.8649 - mse: 1.8648 - val_loss: 1.3214 - val_mse: 1.3214\n",
      "Epoch 36/40\n",
      "1/1 - 0s - loss: 1.9245 - mse: 1.9244 - val_loss: 1.3018 - val_mse: 1.3018\n",
      "Epoch 37/40\n",
      "1/1 - 0s - loss: 1.8355 - mse: 1.8355 - val_loss: 1.2461 - val_mse: 1.2460\n",
      "Epoch 38/40\n",
      "1/1 - 0s - loss: 1.6378 - mse: 1.6378 - val_loss: 1.1823 - val_mse: 1.1823\n",
      "Epoch 39/40\n",
      "1/1 - 0s - loss: 1.3887 - mse: 1.3887 - val_loss: 1.1368 - val_mse: 1.1368\n",
      "Epoch 40/40\n",
      "1/1 - 0s - loss: 1.1415 - mse: 1.1415 - val_loss: 1.1265 - val_mse: 1.1265\n"
     ]
    }
   ],
   "source": [
    "BATCH_SIZE = 256\n",
    "EPOCHS = 40\n",
    "history = model.fit(model_input, data[target].values,\n",
    "                                batch_size=BATCH_SIZE, epochs=EPOCHS, verbose=2, validation_split=0.2, )"
   ]
  },
  {
   "cell_type": "code",
   "execution_count": 17,
   "metadata": {},
   "outputs": [
    {
     "data": {
      "image/png": "[encoded data removed]",
      "text/plain": [
       "<Figure size 720x432 with 1 Axes>"
      ]
     },
     "metadata": {
      "needs_background": "light"
     },
     "output_type": "display_data"
    }
   ],
   "source": [
    "import matplotlib.pyplot as plt\n",
    "# Extract loss and validation loss values\n",
    "def plot_history(history, train_metric: str, val_metric: str):\n",
    "    history_dict = history.history\n",
    "\n",
    "    loss = history_dict[train_metric]\n",
    "    val_loss = history_dict[val_metric]\n",
    "    # Create an array with epoch numbers\n",
    "    epochs = range(1, len(loss) + 1)\n",
    "\n",
    "    # Plotting the training and validation loss\n",
    "    plt.figure(figsize=(10, 6))\n",
    "    plt.plot(epochs, loss, 'bo-', label=train_metric)\n",
    "    plt.plot(epochs, val_loss, 'ro-', label=val_metric)\n",
    "    plt.title(f'{train_metric} vs {val_metric}')\n",
    "    plt.xlabel('Epochs')\n",
    "    plt.ylabel('Loss')\n",
    "    plt.legend()\n",
    "    plt.show()\n",
    "\n",
    "plot_history(history, \"mse\", \"val_mse\")"
   ]
  },
  {
   "cell_type": "code",
   "execution_count": null,
   "metadata": {},
   "outputs": [],
   "source": []
  }
 ],
 "metadata": {
  "kernelspec": {
   "display_name": "deepctr",
   "language": "python",
   "name": "python3"
  },
  "language_info": {
   "codemirror_mode": {
    "name": "ipython",
    "version": 3
   },
   "file_extension": ".py",
   "mimetype": "text/x-python",
   "name": "python",
   "nbconvert_exporter": "python",
   "pygments_lexer": "ipython3",
   "version": "3.7.12"
  }
 },
 "nbformat": 4,
 "nbformat_minor": 2
}
