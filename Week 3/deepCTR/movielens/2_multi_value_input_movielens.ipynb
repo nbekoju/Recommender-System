{
 "cells": [
  {
   "cell_type": "markdown",
   "metadata": {},
   "source": [
    "# Multi-Value Input: MovieLens\n",
    "\n",
    "This example shows how to use DeepFM with sequence(multi-value) feature."
   ]
  },
  {
   "cell_type": "code",
   "execution_count": null,
   "metadata": {},
   "outputs": [],
   "source": []
  },
  {
   "cell_type": "code",
   "execution_count": 2,
   "metadata": {},
   "outputs": [],
   "source": [
    "import numpy as np\n",
    "import pandas as pd\n",
    "from sklearn.preprocessing import LabelEncoder\n",
    "\n",
    "from tensorflow.keras.preprocessing.sequence import pad_sequences\n",
    "\n",
    "from deepctr.models import DeepFM \n",
    "from deepctr.feature_column import SparseFeat, VarLenSparseFeat, get_feature_names"
   ]
  },
  {
   "cell_type": "code",
   "execution_count": 5,
   "metadata": {},
   "outputs": [],
   "source": [
    "data = pd.read_csv(\"./movielens_sample.txt\")\n",
    "sparse_features = [\"movie_id\", \"user_id\",\n",
    "                       \"gender\", \"age\", \"occupation\", \"zip\", ]\n",
    "target = ['rating']"
   ]
  },
  {
   "cell_type": "code",
   "execution_count": 6,
   "metadata": {},
   "outputs": [],
   "source": [
    "for feat in sparse_features:\n",
    "    lbe = LabelEncoder()\n",
    "    data[feat] = lbe.fit_transform(data[feat])"
   ]
  },
  {
   "cell_type": "code",
   "execution_count": 8,
   "metadata": {},
   "outputs": [
    {
     "name": "stdout",
     "output_type": "stream",
     "text": [
      "<class 'pandas.core.frame.DataFrame'>\n",
      "RangeIndex: 200 entries, 0 to 199\n",
      "Data columns (total 10 columns):\n",
      " #   Column      Non-Null Count  Dtype \n",
      "---  ------      --------------  ----- \n",
      " 0   user_id     200 non-null    int64 \n",
      " 1   movie_id    200 non-null    int64 \n",
      " 2   rating      200 non-null    int64 \n",
      " 3   timestamp   200 non-null    int64 \n",
      " 4   title       200 non-null    object\n",
      " 5   genres      200 non-null    object\n",
      " 6   gender      200 non-null    int64 \n",
      " 7   age         200 non-null    int64 \n",
      " 8   occupation  200 non-null    int64 \n",
      " 9   zip         200 non-null    int64 \n",
      "dtypes: int64(8), object(2)\n",
      "memory usage: 15.8+ KB\n"
     ]
    },
    {
     "data": {
      "text/html": [
       "<div>\n",
       "<style scoped>\n",
       "    .dataframe tbody tr th:only-of-type {\n",
       "        vertical-align: middle;\n",
       "    }\n",
       "\n",
       "    .dataframe tbody tr th {\n",
       "        vertical-align: top;\n",
       "    }\n",
       "\n",
       "    .dataframe thead th {\n",
       "        text-align: right;\n",
       "    }\n",
       "</style>\n",
       "<table border=\"1\" class=\"dataframe\">\n",
       "  <thead>\n",
       "    <tr style=\"text-align: right;\">\n",
       "      <th></th>\n",
       "      <th>user_id</th>\n",
       "      <th>movie_id</th>\n",
       "      <th>rating</th>\n",
       "      <th>timestamp</th>\n",
       "      <th>title</th>\n",
       "      <th>genres</th>\n",
       "      <th>gender</th>\n",
       "      <th>age</th>\n",
       "      <th>occupation</th>\n",
       "      <th>zip</th>\n",
       "    </tr>\n",
       "  </thead>\n",
       "  <tbody>\n",
       "    <tr>\n",
       "      <th>0</th>\n",
       "      <td>107</td>\n",
       "      <td>12</td>\n",
       "      <td>4</td>\n",
       "      <td>968035345</td>\n",
       "      <td>Ed Wood (1994)</td>\n",
       "      <td>Comedy|Drama</td>\n",
       "      <td>0</td>\n",
       "      <td>2</td>\n",
       "      <td>4</td>\n",
       "      <td>35</td>\n",
       "    </tr>\n",
       "    <tr>\n",
       "      <th>1</th>\n",
       "      <td>123</td>\n",
       "      <td>169</td>\n",
       "      <td>3</td>\n",
       "      <td>966536874</td>\n",
       "      <td>Patriot Games (1992)</td>\n",
       "      <td>Action|Thriller</td>\n",
       "      <td>1</td>\n",
       "      <td>1</td>\n",
       "      <td>4</td>\n",
       "      <td>118</td>\n",
       "    </tr>\n",
       "    <tr>\n",
       "      <th>2</th>\n",
       "      <td>12</td>\n",
       "      <td>6</td>\n",
       "      <td>4</td>\n",
       "      <td>976203603</td>\n",
       "      <td>Bridges of Madison County, The (1995)</td>\n",
       "      <td>Drama|Romance</td>\n",
       "      <td>0</td>\n",
       "      <td>2</td>\n",
       "      <td>13</td>\n",
       "      <td>99</td>\n",
       "    </tr>\n",
       "    <tr>\n",
       "      <th>3</th>\n",
       "      <td>21</td>\n",
       "      <td>112</td>\n",
       "      <td>3</td>\n",
       "      <td>975430389</td>\n",
       "      <td>Indiana Jones and the Temple of Doom (1984)</td>\n",
       "      <td>Action|Adventure</td>\n",
       "      <td>1</td>\n",
       "      <td>1</td>\n",
       "      <td>18</td>\n",
       "      <td>55</td>\n",
       "    </tr>\n",
       "    <tr>\n",
       "      <th>4</th>\n",
       "      <td>187</td>\n",
       "      <td>45</td>\n",
       "      <td>5</td>\n",
       "      <td>957782527</td>\n",
       "      <td>Apartment, The (1960)</td>\n",
       "      <td>Comedy|Drama</td>\n",
       "      <td>1</td>\n",
       "      <td>5</td>\n",
       "      <td>19</td>\n",
       "      <td>41</td>\n",
       "    </tr>\n",
       "  </tbody>\n",
       "</table>\n",
       "</div>"
      ],
      "text/plain": [
       "   user_id  movie_id  rating  timestamp  ... gender age  occupation  zip\n",
       "0      107        12       4  968035345  ...      0   2           4   35\n",
       "1      123       169       3  966536874  ...      1   1           4  118\n",
       "2       12         6       4  976203603  ...      0   2          13   99\n",
       "3       21       112       3  975430389  ...      1   1          18   55\n",
       "4      187        45       5  957782527  ...      1   5          19   41\n",
       "\n",
       "[5 rows x 10 columns]"
      ]
     },
     "execution_count": 8,
     "metadata": {},
     "output_type": "execute_result"
    }
   ],
   "source": [
    "data.info()\n",
    "data.head()"
   ]
  },
  {
   "cell_type": "code",
   "execution_count": 9,
   "metadata": {},
   "outputs": [],
   "source": [
    "key2index = {}\n",
    "\n",
    "def split(x):\n",
    "    global key2index\n",
    "    key_ans = x.split('|')\n",
    "    for key in key_ans:\n",
    "        if key not in key2index:\n",
    "            key2index[key] = len(key2index) + 1\n",
    "    return list(map(lambda x: key2index[x], key_ans))"
   ]
  },
  {
   "cell_type": "code",
   "execution_count": 13,
   "metadata": {},
   "outputs": [
    {
     "data": {
      "text/plain": [
       "{'Comedy': 1,\n",
       " 'Drama': 2,\n",
       " 'Action': 3,\n",
       " 'Thriller': 4,\n",
       " 'Romance': 5,\n",
       " 'Adventure': 6,\n",
       " \"Children's\": 7,\n",
       " 'Western': 8,\n",
       " 'Horror': 9,\n",
       " 'Fantasy': 10,\n",
       " 'Sci-Fi': 11,\n",
       " 'Animation': 12,\n",
       " 'Crime': 13,\n",
       " 'Film-Noir': 14,\n",
       " 'Musical': 15,\n",
       " 'War': 16,\n",
       " 'Mystery': 17}"
      ]
     },
     "execution_count": 13,
     "metadata": {},
     "output_type": "execute_result"
    }
   ],
   "source": [
    "# preprocess the sequence feature\n",
    "genres_list = list(map(split, data[\"genres\"].values))\n",
    "key2index"
   ]
  },
  {
   "cell_type": "code",
   "execution_count": 18,
   "metadata": {},
   "outputs": [
    {
     "data": {
      "text/plain": [
       "(5, [[1, 2], [3, 4]])"
      ]
     },
     "execution_count": 18,
     "metadata": {},
     "output_type": "execute_result"
    }
   ],
   "source": [
    "genres_length = np.array(list(map(len, genres_list)))\n",
    "max_len = max(genres_length)\n",
    "max_len, genres_list[:2]"
   ]
  },
  {
   "cell_type": "code",
   "execution_count": 20,
   "metadata": {},
   "outputs": [
    {
     "data": {
      "text/plain": [
       "(numpy.ndarray,\n",
       " array([[1, 2, 0, 0, 0],\n",
       "        [3, 4, 0, 0, 0]], dtype=int32))"
      ]
     },
     "execution_count": 20,
     "metadata": {},
     "output_type": "execute_result"
    }
   ],
   "source": [
    "genres_list = pad_sequences(genres_list, maxlen=max_len, padding=\"post\")\n",
    "type(genres_list), genres_list[:2]"
   ]
  },
  {
   "cell_type": "code",
   "execution_count": 45,
   "metadata": {},
   "outputs": [],
   "source": [
    "# 2.count #unique features for each sparse field and generate feature config for sequence feature\n",
    "fixlen_feature_columns = [SparseFeat(feat, data[feat].max() + 1, embedding_dim=4) for feat in sparse_features]\n",
    "use_weighted_sequence = True \n",
    "if use_weighted_sequence:\n",
    "    varlen_feature_columns = [VarLenSparseFeat(SparseFeat('genres', \n",
    "                                                          vocabulary_size=len(key2index) + 1, \n",
    "                                                          embedding_dim=4), \n",
    "                                                maxlen=max_len, \n",
    "                                                combiner='mean',\n",
    "                                                weight_name='genres_weight')]  \n",
    "else:\n",
    "    varlen_feature_columns = [VarLenSparseFeat(SparseFeat('genres', \n",
    "                                                          vocabulary_size=len(key2index) + 1, \n",
    "                                                          embedding_dim=4), \n",
    "                                                maxlen=max_len, \n",
    "                                                combiner='mean',\n",
    "                                                weight_name=None)]  # Notice : value 0 is for padding for sequence input feature\n",
    "\n"
   ]
  },
  {
   "cell_type": "code",
   "execution_count": 46,
   "metadata": {},
   "outputs": [
    {
     "data": {
      "text/plain": [
       "[VarLenSparseFeat(sparsefeat=SparseFeat(name='genres', vocabulary_size=18, embedding_dim=4, use_hash=False, vocabulary_path=None, dtype='int32', embeddings_initializer=<tensorflow.python.keras.initializers.initializers_v1.RandomNormal object at 0x75e0c6fcd910>, embedding_name='genres', group_name='default_group', trainable=True), maxlen=5, combiner='mean', length_name=None, weight_name='genres_weight', weight_norm=True)]"
      ]
     },
     "execution_count": 46,
     "metadata": {},
     "output_type": "execute_result"
    }
   ],
   "source": [
    "varlen_feature_columns"
   ]
  },
  {
   "cell_type": "code",
   "execution_count": 47,
   "metadata": {},
   "outputs": [],
   "source": [
    "linear_feature_columns = fixlen_feature_columns + varlen_feature_columns\n",
    "dnn_feature_columns = fixlen_feature_columns + varlen_feature_columns"
   ]
  },
  {
   "cell_type": "code",
   "execution_count": 48,
   "metadata": {},
   "outputs": [
    {
     "data": {
      "text/plain": [
       "['movie_id', 'user_id', 'gender', 'age', 'occupation', 'zip', 'genres']"
      ]
     },
     "execution_count": 48,
     "metadata": {},
     "output_type": "execute_result"
    }
   ],
   "source": [
    "feature_names = get_feature_names(linear_feature_columns + dnn_feature_columns)\n",
    "if use_weighted_sequence:\n",
    "    feature_names.remove(\"genres_weight\")\n",
    "feature_names"
   ]
  },
  {
   "cell_type": "code",
   "execution_count": 49,
   "metadata": {},
   "outputs": [],
   "source": [
    "model_input = {name: data[name] for name in feature_names if name != \"genre_weights\"}\n",
    "model_input[\"genres\"] = genres_list\n",
    "model_input[\"genres_weight\"] = np.random.randn(data.shape[0], max_len, 1)"
   ]
  },
  {
   "cell_type": "code",
   "execution_count": 50,
   "metadata": {},
   "outputs": [
    {
     "data": {
      "text/plain": [
       "array([[ 0.99192751],\n",
       "       [ 0.81561859],\n",
       "       [-1.10052999],\n",
       "       [ 0.95307719],\n",
       "       [ 0.43333495]])"
      ]
     },
     "execution_count": 50,
     "metadata": {},
     "output_type": "execute_result"
    }
   ],
   "source": [
    "model_input[\"genres_weight\"][0]"
   ]
  },
  {
   "cell_type": "code",
   "execution_count": 51,
   "metadata": {},
   "outputs": [
    {
     "data": {
      "text/plain": [
       "[SparseFeat(name='movie_id', vocabulary_size=187, embedding_dim=4, use_hash=False, vocabulary_path=None, dtype='int32', embeddings_initializer=<tensorflow.python.keras.initializers.initializers_v1.RandomNormal object at 0x75e0ce86d790>, embedding_name='movie_id', group_name='default_group', trainable=True),\n",
       " SparseFeat(name='user_id', vocabulary_size=193, embedding_dim=4, use_hash=False, vocabulary_path=None, dtype='int32', embeddings_initializer=<tensorflow.python.keras.initializers.initializers_v1.RandomNormal object at 0x75e0ce86d450>, embedding_name='user_id', group_name='default_group', trainable=True),\n",
       " SparseFeat(name='gender', vocabulary_size=2, embedding_dim=4, use_hash=False, vocabulary_path=None, dtype='int32', embeddings_initializer=<tensorflow.python.keras.initializers.initializers_v1.RandomNormal object at 0x75e0ce86d250>, embedding_name='gender', group_name='default_group', trainable=True),\n",
       " SparseFeat(name='age', vocabulary_size=7, embedding_dim=4, use_hash=False, vocabulary_path=None, dtype='int32', embeddings_initializer=<tensorflow.python.keras.initializers.initializers_v1.RandomNormal object at 0x75e0ce86d150>, embedding_name='age', group_name='default_group', trainable=True),\n",
       " SparseFeat(name='occupation', vocabulary_size=20, embedding_dim=4, use_hash=False, vocabulary_path=None, dtype='int32', embeddings_initializer=<tensorflow.python.keras.initializers.initializers_v1.RandomNormal object at 0x75e0ce86d650>, embedding_name='occupation', group_name='default_group', trainable=True),\n",
       " SparseFeat(name='zip', vocabulary_size=188, embedding_dim=4, use_hash=False, vocabulary_path=None, dtype='int32', embeddings_initializer=<tensorflow.python.keras.initializers.initializers_v1.RandomNormal object at 0x75e0ce86dcd0>, embedding_name='zip', group_name='default_group', trainable=True),\n",
       " VarLenSparseFeat(sparsefeat=SparseFeat(name='genres', vocabulary_size=18, embedding_dim=4, use_hash=False, vocabulary_path=None, dtype='int32', embeddings_initializer=<tensorflow.python.keras.initializers.initializers_v1.RandomNormal object at 0x75e0c6fcd910>, embedding_name='genres', group_name='default_group', trainable=True), maxlen=5, combiner='mean', length_name=None, weight_name='genres_weight', weight_norm=True)]"
      ]
     },
     "execution_count": 51,
     "metadata": {},
     "output_type": "execute_result"
    }
   ],
   "source": [
    "linear_feature_columns"
   ]
  },
  {
   "cell_type": "code",
   "execution_count": 52,
   "metadata": {},
   "outputs": [],
   "source": [
    "model = DeepFM(linear_feature_columns, dnn_feature_columns, task='regression')\n",
    "model.compile(\"adam\", \"mse\", metrics=['mse'], )"
   ]
  },
  {
   "cell_type": "code",
   "execution_count": 53,
   "metadata": {},
   "outputs": [
    {
     "name": "stdout",
     "output_type": "stream",
     "text": [
      "Epoch 1/20\n",
      "5/5 - 1s - loss: 14.0843 - mse: 14.0843 - val_loss: 12.9107 - val_mse: 12.9107\n",
      "Epoch 2/20\n",
      "5/5 - 0s - loss: 13.2909 - mse: 13.2909 - val_loss: 11.9695 - val_mse: 11.9695\n",
      "Epoch 3/20\n",
      "5/5 - 0s - loss: 12.0642 - mse: 12.0642 - val_loss: 10.4414 - val_mse: 10.4414\n",
      "Epoch 4/20\n",
      "5/5 - 0s - loss: 9.9928 - mse: 9.9928 - val_loss: 8.0612 - val_mse: 8.0612\n",
      "Epoch 5/20\n",
      "5/5 - 0s - loss: 7.0885 - mse: 7.0885 - val_loss: 4.8179 - val_mse: 4.8179\n",
      "Epoch 6/20\n",
      "5/5 - 0s - loss: 3.5268 - mse: 3.5268 - val_loss: 1.7798 - val_mse: 1.7798\n",
      "Epoch 7/20\n",
      "5/5 - 0s - loss: 1.2569 - mse: 1.2569 - val_loss: 1.5849 - val_mse: 1.5849\n",
      "Epoch 8/20\n",
      "5/5 - 0s - loss: 2.0151 - mse: 2.0151 - val_loss: 1.5983 - val_mse: 1.5983\n",
      "Epoch 9/20\n",
      "5/5 - 0s - loss: 1.3446 - mse: 1.3446 - val_loss: 1.2428 - val_mse: 1.2428\n",
      "Epoch 10/20\n",
      "5/5 - 0s - loss: 0.9326 - mse: 0.9326 - val_loss: 1.4624 - val_mse: 1.4624\n",
      "Epoch 11/20\n",
      "5/5 - 0s - loss: 0.9790 - mse: 0.9790 - val_loss: 1.4623 - val_mse: 1.4623\n",
      "Epoch 12/20\n",
      "5/5 - 0s - loss: 0.7494 - mse: 0.7494 - val_loss: 1.2917 - val_mse: 1.2917\n",
      "Epoch 13/20\n",
      "5/5 - 0s - loss: 0.5708 - mse: 0.5708 - val_loss: 1.2261 - val_mse: 1.2261\n",
      "Epoch 14/20\n",
      "5/5 - 0s - loss: 0.4283 - mse: 0.4282 - val_loss: 1.2629 - val_mse: 1.2629\n",
      "Epoch 15/20\n",
      "5/5 - 0s - loss: 0.2398 - mse: 0.2397 - val_loss: 1.4123 - val_mse: 1.4123\n",
      "Epoch 16/20\n",
      "5/5 - 0s - loss: 0.1291 - mse: 0.1291 - val_loss: 1.5187 - val_mse: 1.5186\n",
      "Epoch 17/20\n",
      "5/5 - 0s - loss: 0.0636 - mse: 0.0636 - val_loss: 1.5265 - val_mse: 1.5265\n",
      "Epoch 18/20\n",
      "5/5 - 0s - loss: 0.0420 - mse: 0.0420 - val_loss: 1.5582 - val_mse: 1.5582\n",
      "Epoch 19/20\n",
      "5/5 - 0s - loss: 0.0389 - mse: 0.0389 - val_loss: 1.6400 - val_mse: 1.6400\n",
      "Epoch 20/20\n",
      "5/5 - 0s - loss: 0.0236 - mse: 0.0236 - val_loss: 1.5769 - val_mse: 1.5769\n"
     ]
    }
   ],
   "source": [
    "EPOCHS = 20\n",
    "BATCH_SIZE = 32\n",
    "history = model.fit(model_input, data[target].values, batch_size=BATCH_SIZE, epochs=EPOCHS, verbose=2, validation_split=0.2, )"
   ]
  },
  {
   "cell_type": "code",
   "execution_count": 54,
   "metadata": {},
   "outputs": [
    {
     "data": {
      "image/png": "[encoded data removed]",
      "text/plain": [
       "<Figure size 720x432 with 1 Axes>"
      ]
     },
     "metadata": {
      "needs_background": "light"
     },
     "output_type": "display_data"
    }
   ],
   "source": [
    "import matplotlib.pyplot as plt\n",
    "# Extract loss and validation loss values\n",
    "def plot_history(history, train_metric: str, val_metric: str):\n",
    "    history_dict = history.history\n",
    "\n",
    "    loss = history_dict[train_metric]\n",
    "    val_loss = history_dict[val_metric]\n",
    "    # Create an array with epoch numbers\n",
    "    epochs = range(1, len(loss) + 1)\n",
    "\n",
    "    # Plotting the training and validation loss\n",
    "    plt.figure(figsize=(10, 6))\n",
    "    plt.plot(epochs, loss, 'bo-', label=train_metric)\n",
    "    plt.plot(epochs, val_loss, 'ro-', label=val_metric)\n",
    "    plt.title(f'{train_metric} vs {val_metric}')\n",
    "    plt.xlabel('Epochs')\n",
    "    plt.ylabel('Loss')\n",
    "    plt.legend()\n",
    "    plt.show()\n",
    "\n",
    "plot_history(history, \"mse\", \"val_mse\")"
   ]
  },
  {
   "cell_type": "code",
   "execution_count": 56,
   "metadata": {},
   "outputs": [],
   "source": [
    "from sklearn.metrics import mean_squared_error"
   ]
  },
  {
   "cell_type": "code",
   "execution_count": 58,
   "metadata": {},
   "outputs": [
    {
     "name": "stdout",
     "output_type": "stream",
     "text": [
      "test MSE 0.3269\n"
     ]
    }
   ],
   "source": [
    "pred_ans = model.predict(model_input, batch_size=256)\n",
    "print(\"test MSE\", round(mean_squared_error(\n",
    "    data[target].values, pred_ans), 4))"
   ]
  },
  {
   "cell_type": "code",
   "execution_count": 61,
   "metadata": {},
   "outputs": [
    {
     "data": {
      "text/plain": [
       "(array([[4],\n",
       "        [3],\n",
       "        [4],\n",
       "        [3],\n",
       "        [5],\n",
       "        [1],\n",
       "        [5],\n",
       "        [5],\n",
       "        [5],\n",
       "        [3]]),\n",
       " array([[4.0376425],\n",
       "        [2.9441457],\n",
       "        [4.027002 ],\n",
       "        [2.938442 ],\n",
       "        [5.086524 ],\n",
       "        [1.5418841],\n",
       "        [5.084824 ],\n",
       "        [5.0851555],\n",
       "        [5.0788636],\n",
       "        [2.9272664]], dtype=float32))"
      ]
     },
     "execution_count": 61,
     "metadata": {},
     "output_type": "execute_result"
    }
   ],
   "source": [
    "data[target].values[:10], pred_ans[:10]"
   ]
  },
  {
   "cell_type": "code",
   "execution_count": null,
   "metadata": {},
   "outputs": [],
   "source": []
  }
 ],
 "metadata": {
  "kernelspec": {
   "display_name": "deepctr",
   "language": "python",
   "name": "python3"
  },
  "language_info": {
   "codemirror_mode": {
    "name": "ipython",
    "version": 3
   },
   "file_extension": ".py",
   "mimetype": "text/x-python",
   "name": "python",
   "nbconvert_exporter": "python",
   "pygments_lexer": "ipython3",
   "version": "3.7.12"
  }
 },
 "nbformat": 4,
 "nbformat_minor": 2
}
