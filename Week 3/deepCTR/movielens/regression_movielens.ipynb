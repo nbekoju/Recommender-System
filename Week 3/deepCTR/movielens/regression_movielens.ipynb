{
 "cells": [
  {
   "cell_type": "markdown",
   "metadata": {},
   "source": [
    "### Regression MovieLens\n",
    "\n",
    "This example shows how to use DeepFM to solve a simple binary regression task"
   ]
  },
  {
   "cell_type": "code",
   "execution_count": 1,
   "metadata": {},
   "outputs": [],
   "source": [
    "import pandas as pd\n",
    "\n",
    "from sklearn.metrics import mean_squared_error\n",
    "from sklearn.model_selection import train_test_split\n",
    "from sklearn.preprocessing import LabelEncoder\n",
    "\n",
    "from deepctr.models import DeepFM\n",
    "from deepctr.feature_column import SparseFeat, get_feature_names"
   ]
  },
  {
   "cell_type": "code",
   "execution_count": 4,
   "metadata": {},
   "outputs": [
    {
     "name": "stdout",
     "output_type": "stream",
     "text": [
      "<class 'pandas.core.frame.DataFrame'>\n",
      "RangeIndex: 200 entries, 0 to 199\n",
      "Data columns (total 10 columns):\n",
      " #   Column      Non-Null Count  Dtype \n",
      "---  ------      --------------  ----- \n",
      " 0   user_id     200 non-null    int64 \n",
      " 1   movie_id    200 non-null    int64 \n",
      " 2   rating      200 non-null    int64 \n",
      " 3   timestamp   200 non-null    int64 \n",
      " 4   title       200 non-null    object\n",
      " 5   genres      200 non-null    object\n",
      " 6   gender      200 non-null    object\n",
      " 7   age         200 non-null    int64 \n",
      " 8   occupation  200 non-null    int64 \n",
      " 9   zip         200 non-null    object\n",
      "dtypes: int64(6), object(4)\n",
      "memory usage: 15.8+ KB\n"
     ]
    },
    {
     "data": {
      "text/html": [
       "<div>\n",
       "<style scoped>\n",
       "    .dataframe tbody tr th:only-of-type {\n",
       "        vertical-align: middle;\n",
       "    }\n",
       "\n",
       "    .dataframe tbody tr th {\n",
       "        vertical-align: top;\n",
       "    }\n",
       "\n",
       "    .dataframe thead th {\n",
       "        text-align: right;\n",
       "    }\n",
       "</style>\n",
       "<table border=\"1\" class=\"dataframe\">\n",
       "  <thead>\n",
       "    <tr style=\"text-align: right;\">\n",
       "      <th></th>\n",
       "      <th>user_id</th>\n",
       "      <th>movie_id</th>\n",
       "      <th>rating</th>\n",
       "      <th>timestamp</th>\n",
       "      <th>title</th>\n",
       "      <th>genres</th>\n",
       "      <th>gender</th>\n",
       "      <th>age</th>\n",
       "      <th>occupation</th>\n",
       "      <th>zip</th>\n",
       "    </tr>\n",
       "  </thead>\n",
       "  <tbody>\n",
       "    <tr>\n",
       "      <th>0</th>\n",
       "      <td>3299</td>\n",
       "      <td>235</td>\n",
       "      <td>4</td>\n",
       "      <td>968035345</td>\n",
       "      <td>Ed Wood (1994)</td>\n",
       "      <td>Comedy|Drama</td>\n",
       "      <td>F</td>\n",
       "      <td>25</td>\n",
       "      <td>4</td>\n",
       "      <td>19119</td>\n",
       "    </tr>\n",
       "    <tr>\n",
       "      <th>1</th>\n",
       "      <td>3630</td>\n",
       "      <td>3256</td>\n",
       "      <td>3</td>\n",
       "      <td>966536874</td>\n",
       "      <td>Patriot Games (1992)</td>\n",
       "      <td>Action|Thriller</td>\n",
       "      <td>M</td>\n",
       "      <td>18</td>\n",
       "      <td>4</td>\n",
       "      <td>77005</td>\n",
       "    </tr>\n",
       "  </tbody>\n",
       "</table>\n",
       "</div>"
      ],
      "text/plain": [
       "   user_id  movie_id  rating  timestamp                 title  \\\n",
       "0     3299       235       4  968035345        Ed Wood (1994)   \n",
       "1     3630      3256       3  966536874  Patriot Games (1992)   \n",
       "\n",
       "            genres gender  age  occupation    zip  \n",
       "0     Comedy|Drama      F   25           4  19119  \n",
       "1  Action|Thriller      M   18           4  77005  "
      ]
     },
     "execution_count": 4,
     "metadata": {},
     "output_type": "execute_result"
    }
   ],
   "source": [
    "data = pd.read_csv(\"./movielens_sample.txt\")\n",
    "data.info()\n",
    "data.head(2)"
   ]
  },
  {
   "cell_type": "code",
   "execution_count": 5,
   "metadata": {},
   "outputs": [],
   "source": [
    "sparse_features = [\"movie_id\", \"user_id\", \"gender\", \"age\", \"occupation\", \"zip\"]\n",
    "target = [\"rating\"]"
   ]
  },
  {
   "cell_type": "code",
   "execution_count": 6,
   "metadata": {},
   "outputs": [],
   "source": [
    "# label encoding for sparse features and do simple transformation for dense features\n",
    "for feat in sparse_features:\n",
    "    lbe = LabelEncoder()\n",
    "    data[feat] = lbe.fit_transform(data[feat])\n",
    "\n",
    "fixlen_feature_columns = [SparseFeat(feat, data[feat].max() + 1, embedding_dim=4) for feat in sparse_features]\n",
    "linear_feature_columns = fixlen_feature_columns\n",
    "dnn_feature_columns = fixlen_feature_columns"
   ]
  },
  {
   "cell_type": "code",
   "execution_count": 7,
   "metadata": {},
   "outputs": [],
   "source": [
    "feature_names = get_feature_names(linear_feature_columns + dnn_feature_columns)"
   ]
  },
  {
   "cell_type": "code",
   "execution_count": 8,
   "metadata": {},
   "outputs": [],
   "source": [
    "# generate input data for model\n",
    "train, test = train_test_split(data, test_size=0.2, random_state=43)\n",
    "train_model_input = {name: train[name].values for name in feature_names}\n",
    "test_model_input = {name: test[name].values for name in feature_names}"
   ]
  },
  {
   "cell_type": "code",
   "execution_count": 10,
   "metadata": {},
   "outputs": [
    {
     "data": {
      "text/plain": [
       "array([ 99, 165, 153, 168,  19,  63,  90,  91, 142,  95, 137, 143, 114,\n",
       "        72,  71, 174,  40,  84, 130,  96,  76,  69,  54, 136,  35, 123,\n",
       "       158, 178,  23, 129, 122, 134,   5, 104,  55,  68, 115,   3,  86,\n",
       "        60, 157,  37, 166,  34, 107,  41, 170,   4,  66, 149, 152, 154,\n",
       "       167, 180, 169, 102,  27,  57, 163, 161, 160,   8,  27,  94, 151,\n",
       "        20,  45,  74, 121,  98, 128,  30, 108, 146, 126, 119, 124, 139,\n",
       "       177,  29, 110,  28,  64,  21,  85,  80, 125, 101, 170, 118,  52,\n",
       "        81, 149, 132,  13,  59,  32,  77,  43,  78, 127,   7,  16, 141,\n",
       "        87, 184,  88,  18,  39, 164,  66, 156, 100,  73,  89,   1, 111,\n",
       "        61, 120, 112,  92, 144, 181, 135,  44,  53, 140,  50,  26,   9,\n",
       "       185,  62, 150, 116, 159,  42,  10,  34, 112,  72,  22, 172,  14,\n",
       "        48, 182, 117,  15,  56,  51,  38,  35, 186, 155, 126, 109,  46,\n",
       "        67,  83,  79,   9])"
      ]
     },
     "execution_count": 10,
     "metadata": {},
     "output_type": "execute_result"
    }
   ],
   "source": [
    "train_model_input[\"movie_id\"]"
   ]
  },
  {
   "cell_type": "markdown",
   "metadata": {},
   "source": [
    "### Define model, train, predict and evaluate"
   ]
  },
  {
   "cell_type": "code",
   "execution_count": 31,
   "metadata": {},
   "outputs": [],
   "source": [
    "model = DeepFM(linear_feature_columns, dnn_feature_columns, task=\"regression\")\n",
    "model.compile(\"adam\", \"mse\", metrics =[\"mse\"])"
   ]
  },
  {
   "cell_type": "code",
   "execution_count": 32,
   "metadata": {},
   "outputs": [
    {
     "data": {
      "text/plain": [
       "(rating\n",
       " 4         51\n",
       " 5         41\n",
       " 3         40\n",
       " 2         19\n",
       " 1          9\n",
       " dtype: int64,\n",
       " numpy.ndarray)"
      ]
     },
     "execution_count": 32,
     "metadata": {},
     "output_type": "execute_result"
    }
   ],
   "source": [
    "train[target].value_counts(), type(train[target].values)"
   ]
  },
  {
   "cell_type": "code",
   "execution_count": 33,
   "metadata": {},
   "outputs": [
    {
     "name": "stdout",
     "output_type": "stream",
     "text": [
      "Epoch 1/40\n",
      "1/1 - 1s - loss: 14.0547 - mse: 14.0547 - val_loss: 15.0978 - val_mse: 15.0978\n",
      "Epoch 2/40\n",
      "1/1 - 0s - loss: 13.9185 - mse: 13.9185 - val_loss: 14.9558 - val_mse: 14.9558\n",
      "Epoch 3/40\n",
      "1/1 - 0s - loss: 13.7611 - mse: 13.7611 - val_loss: 14.7987 - val_mse: 14.7987\n",
      "Epoch 4/40\n",
      "1/1 - 0s - loss: 13.5880 - mse: 13.5880 - val_loss: 14.6266 - val_mse: 14.6266\n",
      "Epoch 5/40\n",
      "1/1 - 0s - loss: 13.3997 - mse: 13.3997 - val_loss: 14.4378 - val_mse: 14.4378\n",
      "Epoch 6/40\n",
      "1/1 - 0s - loss: 13.1934 - mse: 13.1934 - val_loss: 14.2293 - val_mse: 14.2293\n",
      "Epoch 7/40\n",
      "1/1 - 0s - loss: 12.9666 - mse: 12.9666 - val_loss: 13.9981 - val_mse: 13.9981\n",
      "Epoch 8/40\n",
      "1/1 - 0s - loss: 12.7160 - mse: 12.7160 - val_loss: 13.7417 - val_mse: 13.7417\n",
      "Epoch 9/40\n",
      "1/1 - 0s - loss: 12.4384 - mse: 12.4384 - val_loss: 13.4580 - val_mse: 13.4580\n",
      "Epoch 10/40\n",
      "1/1 - 0s - loss: 12.1312 - mse: 12.1312 - val_loss: 13.1443 - val_mse: 13.1443\n",
      "Epoch 11/40\n",
      "1/1 - 0s - loss: 11.7920 - mse: 11.7920 - val_loss: 12.7984 - val_mse: 12.7984\n",
      "Epoch 12/40\n",
      "1/1 - 0s - loss: 11.4177 - mse: 11.4177 - val_loss: 12.4183 - val_mse: 12.4183\n",
      "Epoch 13/40\n",
      "1/1 - 0s - loss: 11.0060 - mse: 11.0060 - val_loss: 12.0026 - val_mse: 12.0026\n",
      "Epoch 14/40\n",
      "1/1 - 0s - loss: 10.5541 - mse: 10.5541 - val_loss: 11.5501 - val_mse: 11.5501\n",
      "Epoch 15/40\n",
      "1/1 - 0s - loss: 10.0606 - mse: 10.0606 - val_loss: 11.0542 - val_mse: 11.0542\n",
      "Epoch 16/40\n",
      "1/1 - 0s - loss: 9.5232 - mse: 9.5232 - val_loss: 10.5145 - val_mse: 10.5145\n",
      "Epoch 17/40\n",
      "1/1 - 0s - loss: 8.9403 - mse: 8.9403 - val_loss: 9.9298 - val_mse: 9.9298\n",
      "Epoch 18/40\n",
      "1/1 - 0s - loss: 8.3116 - mse: 8.3116 - val_loss: 9.3006 - val_mse: 9.3006\n",
      "Epoch 19/40\n",
      "1/1 - 0s - loss: 7.6395 - mse: 7.6395 - val_loss: 8.6293 - val_mse: 8.6293\n",
      "Epoch 20/40\n",
      "1/1 - 0s - loss: 6.9270 - mse: 6.9270 - val_loss: 7.9190 - val_mse: 7.9189\n",
      "Epoch 21/40\n",
      "1/1 - 0s - loss: 6.1803 - mse: 6.1803 - val_loss: 7.1746 - val_mse: 7.1746\n",
      "Epoch 22/40\n",
      "1/1 - 0s - loss: 5.4086 - mse: 5.4086 - val_loss: 6.4034 - val_mse: 6.4034\n",
      "Epoch 23/40\n",
      "1/1 - 0s - loss: 4.6252 - mse: 4.6252 - val_loss: 5.6174 - val_mse: 5.6174\n",
      "Epoch 24/40\n",
      "1/1 - 0s - loss: 3.8493 - mse: 3.8493 - val_loss: 4.8316 - val_mse: 4.8315\n",
      "Epoch 25/40\n",
      "1/1 - 0s - loss: 3.1063 - mse: 3.1063 - val_loss: 4.0662 - val_mse: 4.0662\n",
      "Epoch 26/40\n",
      "1/1 - 0s - loss: 2.4283 - mse: 2.4282 - val_loss: 3.3470 - val_mse: 3.3470\n",
      "Epoch 27/40\n",
      "1/1 - 0s - loss: 1.8537 - mse: 1.8537 - val_loss: 2.7039 - val_mse: 2.7039\n",
      "Epoch 28/40\n",
      "1/1 - 0s - loss: 1.4254 - mse: 1.4254 - val_loss: 2.1700 - val_mse: 2.1699\n",
      "Epoch 29/40\n",
      "1/1 - 0s - loss: 1.1839 - mse: 1.1839 - val_loss: 1.7739 - val_mse: 1.7738\n",
      "Epoch 30/40\n",
      "1/1 - 0s - loss: 1.1533 - mse: 1.1533 - val_loss: 1.5278 - val_mse: 1.5278\n",
      "Epoch 31/40\n",
      "1/1 - 0s - loss: 1.3147 - mse: 1.3147 - val_loss: 1.4132 - val_mse: 1.4131\n",
      "Epoch 32/40\n",
      "1/1 - 0s - loss: 1.5856 - mse: 1.5856 - val_loss: 1.3798 - val_mse: 1.3797\n",
      "Epoch 33/40\n",
      "1/1 - 0s - loss: 1.8393 - mse: 1.8393 - val_loss: 1.3736 - val_mse: 1.3736\n",
      "Epoch 34/40\n",
      "1/1 - 0s - loss: 1.9688 - mse: 1.9688 - val_loss: 1.3644 - val_mse: 1.3644\n",
      "Epoch 35/40\n",
      "1/1 - 0s - loss: 1.9354 - mse: 1.9354 - val_loss: 1.3507 - val_mse: 1.3507\n",
      "Epoch 36/40\n",
      "1/1 - 0s - loss: 1.7647 - mse: 1.7646 - val_loss: 1.3475 - val_mse: 1.3475\n",
      "Epoch 37/40\n",
      "1/1 - 0s - loss: 1.5146 - mse: 1.5146 - val_loss: 1.3724 - val_mse: 1.3724\n",
      "Epoch 38/40\n",
      "1/1 - 0s - loss: 1.2464 - mse: 1.2464 - val_loss: 1.4369 - val_mse: 1.4369\n",
      "Epoch 39/40\n",
      "1/1 - 0s - loss: 1.0073 - mse: 1.0072 - val_loss: 1.5433 - val_mse: 1.5433\n",
      "Epoch 40/40\n",
      "1/1 - 0s - loss: 0.8244 - mse: 0.8244 - val_loss: 1.6851 - val_mse: 1.6851\n"
     ]
    }
   ],
   "source": [
    "EPOCHS = 40\n",
    "BATCH_SIZE = 256\n",
    "history = model.fit(train_model_input, train[target].values, batch_size=BATCH_SIZE, epochs=EPOCHS, verbose=2, validation_split=0.2)"
   ]
  },
  {
   "cell_type": "code",
   "execution_count": 34,
   "metadata": {},
   "outputs": [
    {
     "name": "stdout",
     "output_type": "stream",
     "text": [
      "test MSE 1.1349\n"
     ]
    }
   ],
   "source": [
    "pred_ans = model.predict(test_model_input, batch_size=256)\n",
    "print(\"test MSE\", round(mean_squared_error(\n",
    "        test[target].values, pred_ans), 4))"
   ]
  },
  {
   "cell_type": "code",
   "execution_count": 38,
   "metadata": {},
   "outputs": [
    {
     "data": {
      "text/plain": [
       "array([[1],\n",
       "       [5],\n",
       "       [4],\n",
       "       [2],\n",
       "       [3],\n",
       "       [4],\n",
       "       [3],\n",
       "       [5],\n",
       "       [3],\n",
       "       [5],\n",
       "       [2],\n",
       "       [3],\n",
       "       [4],\n",
       "       [3],\n",
       "       [3],\n",
       "       [4],\n",
       "       [4],\n",
       "       [5],\n",
       "       [3],\n",
       "       [4],\n",
       "       [4],\n",
       "       [4],\n",
       "       [5],\n",
       "       [2],\n",
       "       [4],\n",
       "       [3],\n",
       "       [4],\n",
       "       [4],\n",
       "       [3],\n",
       "       [3],\n",
       "       [5],\n",
       "       [4],\n",
       "       [4],\n",
       "       [3],\n",
       "       [3],\n",
       "       [3],\n",
       "       [2],\n",
       "       [5],\n",
       "       [4],\n",
       "       [3]])"
      ]
     },
     "execution_count": 38,
     "metadata": {},
     "output_type": "execute_result"
    }
   ],
   "source": [
    "test[target].values"
   ]
  },
  {
   "cell_type": "code",
   "execution_count": 36,
   "metadata": {},
   "outputs": [
    {
     "data": {
      "text/plain": [
       "array([[3.091903 ],\n",
       "       [3.2551947],\n",
       "       [3.1218376],\n",
       "       [3.0268307],\n",
       "       [2.9982347],\n",
       "       [3.6026037],\n",
       "       [3.0194309],\n",
       "       [3.1049426],\n",
       "       [3.0579717],\n",
       "       [2.985485 ],\n",
       "       [3.5306582],\n",
       "       [3.087148 ],\n",
       "       [3.1335251],\n",
       "       [3.0839965],\n",
       "       [3.1386285],\n",
       "       [3.0334926],\n",
       "       [3.087395 ],\n",
       "       [3.2018116],\n",
       "       [3.0740883],\n",
       "       [3.084114 ],\n",
       "       [2.9959223],\n",
       "       [3.261379 ],\n",
       "       [3.0279977],\n",
       "       [3.1127465],\n",
       "       [3.0426586],\n",
       "       [3.0715559],\n",
       "       [3.465236 ],\n",
       "       [3.1366584],\n",
       "       [3.1626902],\n",
       "       [2.9694452],\n",
       "       [3.0927267],\n",
       "       [3.0142696],\n",
       "       [3.0801709],\n",
       "       [3.0147743],\n",
       "       [2.9956615],\n",
       "       [3.550962 ],\n",
       "       [3.02079  ],\n",
       "       [3.0358372],\n",
       "       [3.7937279],\n",
       "       [3.074418 ]], dtype=float32)"
      ]
     },
     "execution_count": 36,
     "metadata": {},
     "output_type": "execute_result"
    }
   ],
   "source": [
    "pred_ans"
   ]
  },
  {
   "cell_type": "code",
   "execution_count": 35,
   "metadata": {},
   "outputs": [
    {
     "data": {
      "image/png": "[encoded data removed]",
      "text/plain": [
       "<Figure size 720x432 with 1 Axes>"
      ]
     },
     "metadata": {
      "needs_background": "light"
     },
     "output_type": "display_data"
    }
   ],
   "source": [
    "import matplotlib.pyplot as plt\n",
    "# Extract loss and validation loss values\n",
    "def plot_history(history, train_metric: str, val_metric: str):\n",
    "    history_dict = history.history\n",
    "\n",
    "    loss = history_dict[train_metric]\n",
    "    val_loss = history_dict[val_metric]\n",
    "    # Create an array with epoch numbers\n",
    "    epochs = range(1, len(loss) + 1)\n",
    "\n",
    "    # Plotting the training and validation loss\n",
    "    plt.figure(figsize=(10, 6))\n",
    "    plt.plot(epochs, loss, 'bo-', label=train_metric)\n",
    "    plt.plot(epochs, val_loss, 'ro-', label=val_metric)\n",
    "    plt.title(f'{train_metric} vs {val_metric}')\n",
    "    plt.xlabel('Epochs')\n",
    "    plt.ylabel('Loss')\n",
    "    plt.legend()\n",
    "    plt.show()\n",
    "\n",
    "plot_history(history, \"mse\", \"val_mse\")"
   ]
  },
  {
   "cell_type": "code",
   "execution_count": null,
   "metadata": {},
   "outputs": [],
   "source": []
  }
 ],
 "metadata": {
  "kernelspec": {
   "display_name": "deepctr",
   "language": "python",
   "name": "python3"
  },
  "language_info": {
   "codemirror_mode": {
    "name": "ipython",
    "version": 3
   },
   "file_extension": ".py",
   "mimetype": "text/x-python",
   "name": "python",
   "nbconvert_exporter": "python",
   "pygments_lexer": "ipython3",
   "version": "3.7.12"
  }
 },
 "nbformat": 4,
 "nbformat_minor": 2
}
