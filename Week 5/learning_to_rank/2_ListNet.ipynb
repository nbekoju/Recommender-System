{
  "nbformat": 4,
  "nbformat_minor": 0,
  "metadata": {
    "colab": {
      "provenance": []
    },
    "kernelspec": {
      "name": "python3",
      "display_name": "Python 3"
    },
    "language_info": {
      "name": "python"
    }
  },
  "cells": [
    {
      "cell_type": "code",
      "execution_count": 1,
      "metadata": {
        "id": "PaXlMH0mOPYz"
      },
      "outputs": [],
      "source": [
        "import random\n",
        "random.seed(1)\n",
        "\n",
        "import numpy as np\n",
        "np.random.seed(1)\n",
        "\n",
        "import itertools\n",
        "import matplotlib.pyplot as plt\n",
        "plt.style.use('ggplot')\n",
        "\n",
        "import tensorflow as tf"
      ]
    },
    {
      "cell_type": "markdown",
      "source": [
        "### pointwise, pairwise and listwise approach"
      ],
      "metadata": {
        "id": "bvD0HhIuPgj0"
      }
    },
    {
      "cell_type": "markdown",
      "source": [
        "The listwise approach addresses the ranking problem in a more straightforward way. Specifically, it takes ranking lists as instances in both learning and prediction. The group structure of ranking is maintained and ranking evaluation measures can be more directly incorporated into the loss functions in learning."
      ],
      "metadata": {
        "id": "4zteUW9HPpXG"
      }
    },
    {
      "cell_type": "markdown",
      "source": [
        "ListNet allows us to construct our ranking task in such a way that decreasing its loss values more directly impacts our “true” objective (for example, increasing Normalised Discounted Cumulative Gain or Mean Average Precision)."
      ],
      "metadata": {
        "id": "2snFITZxP6f-"
      }
    },
    {
      "cell_type": "markdown",
      "source": [
        "### Permutation Probability"
      ],
      "metadata": {
        "id": "Jy5TcXkjQVTF"
      }
    },
    {
      "cell_type": "code",
      "source": [
        "objects_to_rank = {\"dress\", \"shirt\", \"pants\"}\n",
        "\n",
        "all_permutations = list(itertools.permutations(objects_to_rank))\n",
        "for x in sorted(all_permutations):\n",
        "  print(x)"
      ],
      "metadata": {
        "colab": {
          "base_uri": "https://localhost:8080/"
        },
        "id": "LAUFtjXbOeDt",
        "outputId": "4098808c-53eb-48f4-cce6-1cafcd52a712"
      },
      "execution_count": 2,
      "outputs": [
        {
          "output_type": "stream",
          "name": "stdout",
          "text": [
            "('dress', 'pants', 'shirt')\n",
            "('dress', 'shirt', 'pants')\n",
            "('pants', 'dress', 'shirt')\n",
            "('pants', 'shirt', 'dress')\n",
            "('shirt', 'dress', 'pants')\n",
            "('shirt', 'pants', 'dress')\n"
          ]
        }
      ]
    },
    {
      "cell_type": "code",
      "source": [
        "scores_dict = {x: np.random.randn(1)[0] for x in [\"shirt\", \"pants\", \"dress\"]}\n",
        "\n",
        "print(scores_dict)"
      ],
      "metadata": {
        "colab": {
          "base_uri": "https://localhost:8080/"
        },
        "id": "VHeP5qniQlFn",
        "outputId": "4b20fa7f-1e1e-419d-f007-f3fd6bb36fa8"
      },
      "execution_count": 3,
      "outputs": [
        {
          "output_type": "stream",
          "name": "stdout",
          "text": [
            "{'shirt': 1.6243453636632417, 'pants': -0.6117564136500754, 'dress': -0.5281717522634557}\n"
          ]
        }
      ]
    },
    {
      "cell_type": "code",
      "source": [
        "pi = random.choice(all_permutations)\n",
        "print(pi)"
      ],
      "metadata": {
        "colab": {
          "base_uri": "https://localhost:8080/"
        },
        "id": "WyJ8sNU9Rw3U",
        "outputId": "2ca0e4d2-cd8a-49b3-dd85-00770306bd3a"
      },
      "execution_count": 4,
      "outputs": [
        {
          "output_type": "stream",
          "name": "stdout",
          "text": [
            "('pants', 'shirt', 'dress')\n"
          ]
        }
      ]
    },
    {
      "cell_type": "code",
      "source": [
        "obj_pos_1, obj_pos_2, obj_pos_3 = pi\n",
        "print(f\"object at position 1 is '{obj_pos_1}'\")\n",
        "print(f\"object at position 2 is '{obj_pos_2}'\")\n",
        "print(f\"object at position 3 is '{obj_pos_3}'\")\n"
      ],
      "metadata": {
        "colab": {
          "base_uri": "https://localhost:8080/"
        },
        "id": "8Ph81l2xR106",
        "outputId": "b64ab9e8-73a7-457e-8c1f-e29ac2c20bc0"
      },
      "execution_count": 5,
      "outputs": [
        {
          "output_type": "stream",
          "name": "stdout",
          "text": [
            "object at position 1 is 'pants'\n",
            "object at position 2 is 'shirt'\n",
            "object at position 3 is 'dress'\n"
          ]
        }
      ]
    },
    {
      "cell_type": "code",
      "source": [
        "score_obj_pos_1 = scores_dict[obj_pos_1]\n",
        "score_obj_pos_2 = scores_dict[obj_pos_2]\n",
        "score_obj_pos_3 = scores_dict[obj_pos_3]"
      ],
      "metadata": {
        "id": "UVnAf6RDR9vR"
      },
      "execution_count": 6,
      "outputs": []
    },
    {
      "cell_type": "code",
      "source": [
        "first_term_numerator = np.exp(score_obj_pos_1)\n",
        "first_term_denominator = np.exp(score_obj_pos_1) + np.exp(score_obj_pos_2) + np.exp(score_obj_pos_3)\n",
        "\n",
        "first_term = first_term_numerator / first_term_denominator\n",
        "\n",
        "print(f\"first term is {first_term}\")"
      ],
      "metadata": {
        "colab": {
          "base_uri": "https://localhost:8080/"
        },
        "id": "0LwdsDKZR_lA",
        "outputId": "d9bb66f8-a3d4-4c88-ae58-266d4a0c4ed5"
      },
      "execution_count": 7,
      "outputs": [
        {
          "output_type": "stream",
          "name": "stdout",
          "text": [
            "first term is 0.08738232042105001\n"
          ]
        }
      ]
    },
    {
      "cell_type": "code",
      "source": [
        "second_term_numerator = np.exp(score_obj_pos_2)\n",
        "second_term_denominator = np.exp(score_obj_pos_2) + np.exp(score_obj_pos_3)\n",
        "\n",
        "second_term = second_term_numerator / second_term_denominator\n",
        "\n",
        "print(f\"second term is {second_term}\")"
      ],
      "metadata": {
        "colab": {
          "base_uri": "https://localhost:8080/"
        },
        "id": "EfJyPvq0SKKv",
        "outputId": "4ae49e4a-ff4c-4ecf-bef5-60b360029ee8"
      },
      "execution_count": 8,
      "outputs": [
        {
          "output_type": "stream",
          "name": "stdout",
          "text": [
            "second term is 0.8959037576952953\n"
          ]
        }
      ]
    },
    {
      "cell_type": "code",
      "source": [
        "third_term = 1.0"
      ],
      "metadata": {
        "id": "tCYIh5-ZSMpY"
      },
      "execution_count": 9,
      "outputs": []
    },
    {
      "cell_type": "code",
      "source": [
        "prob_of_permutation = first_term * second_term * third_term\n",
        "\n",
        "print(f\"probability of permutation is {prob_of_permutation}\")"
      ],
      "metadata": {
        "colab": {
          "base_uri": "https://localhost:8080/"
        },
        "id": "TCT2dOuHSPAn",
        "outputId": "8af1e03b-49ed-4f0b-8fc2-5ca58b114ccd"
      },
      "execution_count": 10,
      "outputs": [
        {
          "output_type": "stream",
          "name": "stdout",
          "text": [
            "probability of permutation is 0.07828614922135305\n"
          ]
        }
      ]
    },
    {
      "cell_type": "markdown",
      "source": [
        "The scores sorted in descending order have the highest permutation probability.\n",
        "\n",
        "The scores sorted in ascending order have the lowest permutation probability."
      ],
      "metadata": {
        "id": "MbOOBkukSa4Q"
      }
    },
    {
      "cell_type": "markdown",
      "source": [
        "### Top One Probability"
      ],
      "metadata": {
        "id": "RZrcQQgDUBgF"
      }
    },
    {
      "cell_type": "code",
      "source": [
        "np.exp(scores_dict['shirt']) / sum(np.exp(list(scores_dict.values())))"
      ],
      "metadata": {
        "colab": {
          "base_uri": "https://localhost:8080/"
        },
        "id": "fJOHaWjlSQrd",
        "outputId": "e40270ef-0b84-42bd-b615-a05c434faa77"
      },
      "execution_count": 11,
      "outputs": [
        {
          "output_type": "execute_result",
          "data": {
            "text/plain": [
              "0.8176176084739423"
            ]
          },
          "metadata": {},
          "execution_count": 11
        }
      ]
    },
    {
      "cell_type": "markdown",
      "source": [
        "### Converting scores and relevance labels into the probability distribution"
      ],
      "metadata": {
        "id": "cWPbKyDvVmmD"
      }
    },
    {
      "cell_type": "code",
      "source": [
        "scores_dict"
      ],
      "metadata": {
        "colab": {
          "base_uri": "https://localhost:8080/"
        },
        "id": "eQiAY7R5V-Do",
        "outputId": "40568c78-91d9-4254-9e81-1e1dfa83a210"
      },
      "execution_count": 13,
      "outputs": [
        {
          "output_type": "execute_result",
          "data": {
            "text/plain": [
              "{'shirt': 1.6243453636632417,\n",
              " 'pants': -0.6117564136500754,\n",
              " 'dress': -0.5281717522634557}"
            ]
          },
          "metadata": {},
          "execution_count": 13
        }
      ]
    },
    {
      "cell_type": "code",
      "source": [
        "ordered_scores = np.array([scores_dict[x] for x in scores_dict.keys()]).astype(np.float32)\n",
        "predicted_prob_dist = tf.nn.softmax(ordered_scores)\n",
        "\n",
        "print(predicted_prob_dist)"
      ],
      "metadata": {
        "colab": {
          "base_uri": "https://localhost:8080/"
        },
        "id": "zw8biGdUVgQ1",
        "outputId": "7f32f960-f010-429f-c50c-b363dd8eb993"
      },
      "execution_count": 15,
      "outputs": [
        {
          "output_type": "stream",
          "name": "stdout",
          "text": [
            "tf.Tensor([0.8176176  0.08738231 0.09500005], shape=(3,), dtype=float32)\n"
          ]
        }
      ]
    },
    {
      "cell_type": "code",
      "source": [
        "raw_relevance_grades = tf.constant([3.0, 1.0, 0.0], dtype=tf.float32)\n",
        "true_prob_dist = tf.nn.softmax(raw_relevance_grades)\n",
        "\n",
        "print(true_prob_dist)"
      ],
      "metadata": {
        "colab": {
          "base_uri": "https://localhost:8080/"
        },
        "id": "SInYRhLGXTbe",
        "outputId": "dfafa8c3-a9f4-4b8b-86b0-a7835e818340"
      },
      "execution_count": 17,
      "outputs": [
        {
          "output_type": "stream",
          "name": "stdout",
          "text": [
            "tf.Tensor([0.8437947  0.11419519 0.04201007], shape=(3,), dtype=float32)\n"
          ]
        }
      ]
    },
    {
      "cell_type": "markdown",
      "source": [
        "### KL-Divergence\n",
        "\n",
        "If we have two separate probability distributions\n",
        "P\n",
        "(\n",
        "X\n",
        ")\n",
        " and\n",
        "Q\n",
        "(\n",
        "X\n",
        ")\n",
        " over the same random variable\n",
        "X\n",
        ", we can measure how diﬀerent these two distributions are using the Kullback-Leibler (KL) divergence.\n",
        "\n",
        "The KL divergence is\n",
        "0\n",
        " if and only if\n",
        "P\n",
        " and\n",
        "Q\n",
        " are the same distribution in the case of discrete variables."
      ],
      "metadata": {
        "id": "gGA31viWW30w"
      }
    },
    {
      "cell_type": "code",
      "source": [
        "sum(true_prob_dist * np.log(true_prob_dist / predicted_prob_dist))"
      ],
      "metadata": {
        "colab": {
          "base_uri": "https://localhost:8080/"
        },
        "id": "HZ8y2Y4ZXPBz",
        "outputId": "3e6e9217-6fcb-4a6a-9d72-6cac0d64f591"
      },
      "execution_count": 18,
      "outputs": [
        {
          "output_type": "execute_result",
          "data": {
            "text/plain": [
              "<tf.Tensor: shape=(), dtype=float32, numpy=0.022873335>"
            ]
          },
          "metadata": {},
          "execution_count": 18
        }
      ]
    },
    {
      "cell_type": "code",
      "source": [
        "sum(true_prob_dist * np.log(true_prob_dist / true_prob_dist))\n"
      ],
      "metadata": {
        "colab": {
          "base_uri": "https://localhost:8080/"
        },
        "id": "Z3ji9ZOpXcdo",
        "outputId": "a2c2cb21-76c2-48c2-b16e-56c297859bac"
      },
      "execution_count": 19,
      "outputs": [
        {
          "output_type": "execute_result",
          "data": {
            "text/plain": [
              "<tf.Tensor: shape=(), dtype=float32, numpy=0.0>"
            ]
          },
          "metadata": {},
          "execution_count": 19
        }
      ]
    },
    {
      "cell_type": "markdown",
      "source": [
        "### Neural Network"
      ],
      "metadata": {
        "id": "ZfGoT5OrYWIK"
      }
    },
    {
      "cell_type": "code",
      "source": [
        "query_1 = \"dog\"\n",
        "\n",
        "bing_search_results = [\n",
        "    \"Dog - Wikipedia\",\n",
        "    \"Adopting a dog or puppy | RSPCA Australia\",\n",
        "    \"dog | History, Domestication, Physical Traits, & Breeds\",\n",
        "    \"New South Wales | Dogs & Puppies | Gumtree Australia Free\",\n",
        "    \"dog - Wiktionary\"\n",
        "]"
      ],
      "metadata": {
        "id": "3XaIe082XlEi"
      },
      "execution_count": 20,
      "outputs": []
    },
    {
      "cell_type": "code",
      "source": [
        "query_2 = \"what is a dog\"\n",
        "\n",
        "google_search_results = [\n",
        "    \"Dog - Wikipedia\",\n",
        "    \"Dog - Simple English Wikipedia, the free encyclopedia\",\n",
        "    \"Dog | National Geographic\",\n",
        "    \"dog | History, Domestication, Physical Traits, & Breeds\",\n",
        "    \"What is a Dog | Facts About Dogs | DK Find Out\"\n",
        "]"
      ],
      "metadata": {
        "id": "E0aZMB2eYZA5"
      },
      "execution_count": 21,
      "outputs": []
    },
    {
      "cell_type": "code",
      "source": [
        "relevance_grades = tf.constant([\n",
        "    [3.0, 2.0, 2.0, 2.0, 1.0],\n",
        "    [3.0, 3.0, 1.0, 1.0, 0.0]\n",
        "])"
      ],
      "metadata": {
        "id": "_EJC6iicYanU"
      },
      "execution_count": 22,
      "outputs": []
    },
    {
      "cell_type": "code",
      "source": [
        "combined_texts = [query_1, *bing_search_results, *google_search_results]\n",
        "\n",
        "tokenizer = tf.keras.preprocessing.text.Tokenizer()\n",
        "tokenizer.fit_on_texts(combined_texts)\n",
        "\n",
        "vocab_size = max(tokenizer.index_word) + 1\n",
        "print(vocab_size)"
      ],
      "metadata": {
        "colab": {
          "base_uri": "https://localhost:8080/"
        },
        "id": "F0iG_aaLYhN-",
        "outputId": "877d72eb-9da5-4867-e579-afabb45cdff5"
      },
      "execution_count": 23,
      "outputs": [
        {
          "output_type": "stream",
          "name": "stdout",
          "text": [
            "35\n"
          ]
        }
      ]
    },
    {
      "cell_type": "code",
      "source": [
        "for idx, word in tokenizer.index_word.items():\n",
        "  print(f\"index {idx} - {word}\")"
      ],
      "metadata": {
        "colab": {
          "base_uri": "https://localhost:8080/"
        },
        "id": "qjYk0hbbZIGx",
        "outputId": "0a39c83f-c888-439e-806f-cc52e7e665da"
      },
      "execution_count": 24,
      "outputs": [
        {
          "output_type": "stream",
          "name": "stdout",
          "text": [
            "index 1 - dog\n",
            "index 2 - wikipedia\n",
            "index 3 - a\n",
            "index 4 - australia\n",
            "index 5 - history\n",
            "index 6 - domestication\n",
            "index 7 - physical\n",
            "index 8 - traits\n",
            "index 9 - breeds\n",
            "index 10 - dogs\n",
            "index 11 - free\n",
            "index 12 - adopting\n",
            "index 13 - or\n",
            "index 14 - puppy\n",
            "index 15 - rspca\n",
            "index 16 - new\n",
            "index 17 - south\n",
            "index 18 - wales\n",
            "index 19 - puppies\n",
            "index 20 - gumtree\n",
            "index 21 - wiktionary\n",
            "index 22 - simple\n",
            "index 23 - english\n",
            "index 24 - the\n",
            "index 25 - encyclopedia\n",
            "index 26 - national\n",
            "index 27 - geographic\n",
            "index 28 - what\n",
            "index 29 - is\n",
            "index 30 - facts\n",
            "index 31 - about\n",
            "index 32 - dk\n",
            "index 33 - find\n",
            "index 34 - out\n"
          ]
        }
      ]
    },
    {
      "cell_type": "code",
      "source": [
        "EMBEDDING_DIMS = 2\n",
        "embeddings = np.random.randn(vocab_size, EMBEDDING_DIMS).astype(np.float32)\n",
        "print(embeddings)"
      ],
      "metadata": {
        "colab": {
          "base_uri": "https://localhost:8080/"
        },
        "id": "OHgXZxTuZOW7",
        "outputId": "9b95ce7e-9d3f-421a-e32e-6691767c698c"
      },
      "execution_count": 25,
      "outputs": [
        {
          "output_type": "stream",
          "name": "stdout",
          "text": [
            "[[-1.0729686   0.86540765]\n",
            " [-2.3015387   1.7448118 ]\n",
            " [-0.7612069   0.3190391 ]\n",
            " [-0.24937038  1.4621079 ]\n",
            " [-2.0601406  -0.3224172 ]\n",
            " [-0.38405436  1.1337694 ]\n",
            " [-1.0998913  -0.1724282 ]\n",
            " [-0.8778584   0.04221375]\n",
            " [ 0.58281523 -1.1006192 ]\n",
            " [ 1.1447237   0.9015907 ]\n",
            " [ 0.50249434  0.90085596]\n",
            " [-0.68372786 -0.12289023]\n",
            " [-0.93576944 -0.26788807]\n",
            " [ 0.53035545 -0.69166076]\n",
            " [-0.39675352 -0.6871727 ]\n",
            " [-0.84520566 -0.6712461 ]\n",
            " [-0.0126646  -1.1173104 ]\n",
            " [ 0.2344157   1.6598022 ]\n",
            " [ 0.74204415 -0.19183555]\n",
            " [-0.887629   -0.7471583 ]\n",
            " [ 1.6924546   0.05080776]\n",
            " [-0.6369957   0.19091548]\n",
            " [ 2.1002553   0.12015896]\n",
            " [ 0.6172031   0.30017033]\n",
            " [-0.35224986 -1.1425182 ]\n",
            " [-0.34934273 -0.20889424]\n",
            " [ 0.5866232   0.8389834 ]\n",
            " [ 0.9311021   0.2855873 ]\n",
            " [ 0.8851412  -0.7543979 ]\n",
            " [ 1.2528682   0.5129298 ]\n",
            " [-0.29809284  0.48851815]\n",
            " [-0.07557172  1.1316293 ]\n",
            " [ 1.5198169   2.1855755 ]\n",
            " [-1.3964963  -1.4441139 ]\n",
            " [-0.5044659   0.16003707]]\n"
          ]
        }
      ]
    },
    {
      "cell_type": "code",
      "source": [
        "query_1_embedding_index = tokenizer.texts_to_sequences([query_1])\n",
        "query_1_embeddings = np.array([embeddings[x] for x in query_1_embedding_index])\n",
        "\n",
        "print(query_1_embeddings)"
      ],
      "metadata": {
        "colab": {
          "base_uri": "https://localhost:8080/"
        },
        "id": "OB3SJa3JZWxu",
        "outputId": "990b72bc-5a18-4c51-f310-133fde62c4e9"
      },
      "execution_count": 27,
      "outputs": [
        {
          "output_type": "stream",
          "name": "stdout",
          "text": [
            "[[[-2.3015387  1.7448118]]]\n"
          ]
        }
      ]
    },
    {
      "cell_type": "code",
      "source": [
        "query_2_embedding_indices = tokenizer.texts_to_sequences([query_2])\n",
        "query_2_embeddings = np.array([embeddings[x] for x in query_2_embedding_indices])\n",
        "\n",
        "print(query_2_embeddings)"
      ],
      "metadata": {
        "colab": {
          "base_uri": "https://localhost:8080/"
        },
        "id": "EShd0gSmZxXB",
        "outputId": "d47b36f6-e251-46a4-a5ad-2f69aa923e22"
      },
      "execution_count": 30,
      "outputs": [
        {
          "output_type": "stream",
          "name": "stdout",
          "text": [
            "[[[ 0.8851412  -0.7543979 ]\n",
            "  [ 1.2528682   0.5129298 ]\n",
            "  [-0.24937038  1.4621079 ]\n",
            "  [-2.3015387   1.7448118 ]]]\n"
          ]
        }
      ]
    },
    {
      "cell_type": "code",
      "source": [
        "query_2_embedding_indices"
      ],
      "metadata": {
        "colab": {
          "base_uri": "https://localhost:8080/"
        },
        "id": "oVY3Ra5jZ3Td",
        "outputId": "110ca688-3db7-416d-82b6-9546981b1a6f"
      },
      "execution_count": 31,
      "outputs": [
        {
          "output_type": "execute_result",
          "data": {
            "text/plain": [
              "[[28, 29, 3, 1]]"
            ]
          },
          "metadata": {},
          "execution_count": 31
        }
      ]
    },
    {
      "cell_type": "code",
      "source": [
        "query_2_embeddings_avg = tf.reduce_mean(query_2_embeddings, axis=1, keepdims=True).numpy()\n",
        "print(query_2_embeddings_avg)"
      ],
      "metadata": {
        "colab": {
          "base_uri": "https://localhost:8080/"
        },
        "id": "4YkNmaf8Z_ca",
        "outputId": "78764c38-3d52-4bec-d14d-8b32fc6e64ab"
      },
      "execution_count": 32,
      "outputs": [
        {
          "output_type": "stream",
          "name": "stdout",
          "text": [
            "[[[-0.10322493  0.74136287]]]\n"
          ]
        }
      ]
    },
    {
      "cell_type": "code",
      "source": [
        "query_embeddings = np.row_stack([query_1_embeddings, query_2_embeddings_avg])\n",
        "print(query_embeddings.shape)"
      ],
      "metadata": {
        "colab": {
          "base_uri": "https://localhost:8080/"
        },
        "id": "2Yy-xlhdaG4A",
        "outputId": "3478372b-66f6-4d54-d0c4-2da31e29639d"
      },
      "execution_count": 33,
      "outputs": [
        {
          "output_type": "stream",
          "name": "stdout",
          "text": [
            "(2, 1, 2)\n"
          ]
        }
      ]
    },
    {
      "cell_type": "code",
      "source": [
        "docs_sequences = []\n",
        "for docs_list in [bing_search_results, google_search_results]:\n",
        "    docs_sequences.append(tokenizer.texts_to_sequences(docs_list))\n",
        "\n",
        "docs_embeddings = []\n",
        "for docs_set in docs_sequences:\n",
        "    this_docs_set = []\n",
        "    for doc in docs_set:\n",
        "        this_doc_embeddings = np.array([embeddings[idx] for idx in doc])\n",
        "        this_docs_set.append(this_doc_embeddings)\n",
        "    docs_embeddings.append(this_docs_set)"
      ],
      "metadata": {
        "id": "qfRHaVWRaO-v"
      },
      "execution_count": 34,
      "outputs": []
    },
    {
      "cell_type": "code",
      "source": [
        "for embeddings in docs_embeddings[0]:\n",
        "    print()\n",
        "    print(embeddings)"
      ],
      "metadata": {
        "colab": {
          "base_uri": "https://localhost:8080/"
        },
        "id": "8Fb2eKpuaVNX",
        "outputId": "e2d5a7fc-3bfb-4b07-93ee-d544043eca1a"
      },
      "execution_count": 35,
      "outputs": [
        {
          "output_type": "stream",
          "name": "stdout",
          "text": [
            "\n",
            "[[-2.3015387  1.7448118]\n",
            " [-0.7612069  0.3190391]]\n",
            "\n",
            "[[-0.93576944 -0.26788807]\n",
            " [-0.24937038  1.4621079 ]\n",
            " [-2.3015387   1.7448118 ]\n",
            " [ 0.53035545 -0.69166076]\n",
            " [-0.39675352 -0.6871727 ]\n",
            " [-0.84520566 -0.6712461 ]\n",
            " [-2.0601406  -0.3224172 ]]\n",
            "\n",
            "[[-2.3015387   1.7448118 ]\n",
            " [-0.38405436  1.1337694 ]\n",
            " [-1.0998913  -0.1724282 ]\n",
            " [-0.8778584   0.04221375]\n",
            " [ 0.58281523 -1.1006192 ]\n",
            " [ 1.1447237   0.9015907 ]]\n",
            "\n",
            "[[-0.0126646  -1.1173104 ]\n",
            " [ 0.2344157   1.6598022 ]\n",
            " [ 0.74204415 -0.19183555]\n",
            " [ 0.50249434  0.90085596]\n",
            " [-0.887629   -0.7471583 ]\n",
            " [ 1.6924546   0.05080776]\n",
            " [-2.0601406  -0.3224172 ]\n",
            " [-0.68372786 -0.12289023]]\n",
            "\n",
            "[[-2.3015387   1.7448118 ]\n",
            " [-0.6369957   0.19091548]]\n"
          ]
        }
      ]
    },
    {
      "cell_type": "code",
      "source": [
        "for embeddings in docs_embeddings[1]:\n",
        "    print()\n",
        "    print(embeddings)"
      ],
      "metadata": {
        "colab": {
          "base_uri": "https://localhost:8080/"
        },
        "id": "-0Yd-kq3aXuC",
        "outputId": "c114e34c-19f0-42a5-f159-bc92d28a419b"
      },
      "execution_count": 36,
      "outputs": [
        {
          "output_type": "stream",
          "name": "stdout",
          "text": [
            "\n",
            "[[-2.3015387  1.7448118]\n",
            " [-0.7612069  0.3190391]]\n",
            "\n",
            "[[-2.3015387   1.7448118 ]\n",
            " [ 2.1002553   0.12015896]\n",
            " [ 0.6172031   0.30017033]\n",
            " [-0.7612069   0.3190391 ]\n",
            " [-0.35224986 -1.1425182 ]\n",
            " [-0.68372786 -0.12289023]\n",
            " [-0.34934273 -0.20889424]]\n",
            "\n",
            "[[-2.3015387  1.7448118]\n",
            " [ 0.5866232  0.8389834]\n",
            " [ 0.9311021  0.2855873]]\n",
            "\n",
            "[[-2.3015387   1.7448118 ]\n",
            " [-0.38405436  1.1337694 ]\n",
            " [-1.0998913  -0.1724282 ]\n",
            " [-0.8778584   0.04221375]\n",
            " [ 0.58281523 -1.1006192 ]\n",
            " [ 1.1447237   0.9015907 ]]\n",
            "\n",
            "[[ 0.8851412  -0.7543979 ]\n",
            " [ 1.2528682   0.5129298 ]\n",
            " [-0.24937038  1.4621079 ]\n",
            " [-2.3015387   1.7448118 ]\n",
            " [-0.29809284  0.48851815]\n",
            " [-0.07557172  1.1316293 ]\n",
            " [ 0.50249434  0.90085596]\n",
            " [ 1.5198169   2.1855755 ]\n",
            " [-1.3964963  -1.4441139 ]\n",
            " [-0.5044659   0.16003707]]\n"
          ]
        }
      ]
    },
    {
      "cell_type": "code",
      "source": [
        "docs_averaged_embeddings = []\n",
        "for docs_set in docs_embeddings:\n",
        "    this_docs_set = []\n",
        "    for doc in docs_set:\n",
        "        this_docs_set.append(tf.reduce_mean(doc, axis=0, keepdims=True))\n",
        "    concatenated_docs_set = tf.concat(this_docs_set, axis=0).numpy()\n",
        "    docs_averaged_embeddings.append(concatenated_docs_set)\n",
        "\n",
        "docs_averaged_embeddings = np.array(docs_averaged_embeddings)"
      ],
      "metadata": {
        "id": "BqlkU3j-aa0z"
      },
      "execution_count": 37,
      "outputs": []
    },
    {
      "cell_type": "code",
      "source": [
        "print(docs_averaged_embeddings.shape)"
      ],
      "metadata": {
        "colab": {
          "base_uri": "https://localhost:8080/"
        },
        "id": "nRVGKYQLak5X",
        "outputId": "367d1f0b-9e9f-4235-e725-698454162749"
      },
      "execution_count": 38,
      "outputs": [
        {
          "output_type": "stream",
          "name": "stdout",
          "text": [
            "(2, 5, 2)\n"
          ]
        }
      ]
    },
    {
      "cell_type": "code",
      "source": [
        "NUM_DOCS_PER_QUERY = 5\n",
        "\n",
        "expanded_queries = tf.gather(query_embeddings, [0 for x in range(NUM_DOCS_PER_QUERY)], axis=1).numpy()\n",
        "\n",
        "print(expanded_queries)"
      ],
      "metadata": {
        "colab": {
          "base_uri": "https://localhost:8080/"
        },
        "id": "JRO__wK1anR_",
        "outputId": "46973837-4c1d-42b7-b155-7f6662b6b560"
      },
      "execution_count": 39,
      "outputs": [
        {
          "output_type": "stream",
          "name": "stdout",
          "text": [
            "[[[-2.3015387   1.7448118 ]\n",
            "  [-2.3015387   1.7448118 ]\n",
            "  [-2.3015387   1.7448118 ]\n",
            "  [-2.3015387   1.7448118 ]\n",
            "  [-2.3015387   1.7448118 ]]\n",
            "\n",
            " [[-0.10322493  0.74136287]\n",
            "  [-0.10322493  0.74136287]\n",
            "  [-0.10322493  0.74136287]\n",
            "  [-0.10322493  0.74136287]\n",
            "  [-0.10322493  0.74136287]]]\n"
          ]
        }
      ]
    },
    {
      "cell_type": "code",
      "source": [
        "expanded_batch = np.concatenate([expanded_queries, docs_averaged_embeddings], axis=-1)\n",
        "\n",
        "print(expanded_batch)"
      ],
      "metadata": {
        "colab": {
          "base_uri": "https://localhost:8080/"
        },
        "id": "qz78la2Ra6p1",
        "outputId": "c2e536d0-7133-417f-878a-9711c9484403"
      },
      "execution_count": 40,
      "outputs": [
        {
          "output_type": "stream",
          "name": "stdout",
          "text": [
            "[[[-2.3015387   1.7448118  -1.5313728   1.0319254 ]\n",
            "  [-2.3015387   1.7448118  -0.89406043  0.08093353]\n",
            "  [-2.3015387   1.7448118  -0.4893006   0.42488968]\n",
            "  [-2.3015387   1.7448118  -0.05909418  0.01373178]\n",
            "  [-2.3015387   1.7448118  -1.4692671   0.9678636 ]]\n",
            "\n",
            " [[-0.10322493  0.74136287 -1.5313728   1.0319254 ]\n",
            "  [-0.10322493  0.74136287 -0.24722967  0.14426823]\n",
            "  [-0.10322493  0.74136287 -0.26127115  0.9564608 ]\n",
            "  [-0.10322493  0.74136287 -0.4893006   0.42488968]\n",
            "  [-0.10322493  0.74136287 -0.06652153  0.6387954 ]]]\n"
          ]
        }
      ]
    },
    {
      "cell_type": "code",
      "source": [
        "expanded_batch.shape"
      ],
      "metadata": {
        "colab": {
          "base_uri": "https://localhost:8080/"
        },
        "id": "tyLzsr2qbWWe",
        "outputId": "19618dd1-9f4a-418d-9c68-450ad1040cb0"
      },
      "execution_count": 42,
      "outputs": [
        {
          "output_type": "execute_result",
          "data": {
            "text/plain": [
              "(2, 5, 4)"
            ]
          },
          "metadata": {},
          "execution_count": 42
        }
      ]
    },
    {
      "cell_type": "markdown",
      "source": [
        "### The hidden layers"
      ],
      "metadata": {
        "id": "QIe36b4ObGp_"
      }
    },
    {
      "cell_type": "code",
      "source": [
        "dense_1 = tf.keras.layers.Dense(units=3, activation=\"relu\")\n",
        "dense_1_out = dense_1(expanded_batch)\n",
        "\n",
        "print(dense_1_out)"
      ],
      "metadata": {
        "colab": {
          "base_uri": "https://localhost:8080/"
        },
        "id": "TYjXfRIra_gK",
        "outputId": "37be01e6-e5bd-43cb-9d84-2632f207a420"
      },
      "execution_count": 41,
      "outputs": [
        {
          "output_type": "stream",
          "name": "stdout",
          "text": [
            "tf.Tensor(\n",
            "[[[0.24037245 0.         0.        ]\n",
            "  [0.21703063 0.         0.        ]\n",
            "  [0.         0.         0.        ]\n",
            "  [0.         0.         0.        ]\n",
            "  [0.22968955 0.         0.        ]]\n",
            "\n",
            " [[0.49399328 0.         1.0092198 ]\n",
            "  [0.14470261 0.         0.11269107]\n",
            "  [0.         0.         0.63391995]\n",
            "  [0.17725326 0.         0.35389432]\n",
            "  [0.         0.         0.38129956]]], shape=(2, 5, 3), dtype=float32)\n"
          ]
        }
      ]
    },
    {
      "cell_type": "code",
      "source": [
        "scores = tf.keras.layers.Dense(units=1, activation=\"linear\")\n",
        "scores_out = scores(dense_1_out)\n",
        "print(scores_out)"
      ],
      "metadata": {
        "colab": {
          "base_uri": "https://localhost:8080/"
        },
        "id": "UGvHpSCYbRS4",
        "outputId": "e8d90203-9d84-4b6d-e389-f5b21048f328"
      },
      "execution_count": 43,
      "outputs": [
        {
          "output_type": "stream",
          "name": "stdout",
          "text": [
            "tf.Tensor(\n",
            "[[[ 0.00143875]\n",
            "  [ 0.00129904]\n",
            "  [ 0.        ]\n",
            "  [ 0.        ]\n",
            "  [ 0.00137481]]\n",
            "\n",
            " [[-1.2233244 ]\n",
            "  [-0.13606238]\n",
            "  [-0.7702625 ]\n",
            "  [-0.4289484 ]\n",
            "  [-0.46330887]]], shape=(2, 5, 1), dtype=float32)\n"
          ]
        }
      ]
    },
    {
      "cell_type": "markdown",
      "source": [
        "### Calculate the KL Divergence in the context of our expanded batch"
      ],
      "metadata": {
        "id": "zlCOHtrAbkxq"
      }
    },
    {
      "cell_type": "code",
      "source": [
        "scores_for_softmax = tf.squeeze(scores_out, axis=-1)\n",
        "scores_for_softmax.shape"
      ],
      "metadata": {
        "colab": {
          "base_uri": "https://localhost:8080/"
        },
        "id": "SN8J546vbgi2",
        "outputId": "8fca2d7a-292a-4975-ee99-76b700c26b54"
      },
      "execution_count": 44,
      "outputs": [
        {
          "output_type": "execute_result",
          "data": {
            "text/plain": [
              "TensorShape([2, 5])"
            ]
          },
          "metadata": {},
          "execution_count": 44
        }
      ]
    },
    {
      "cell_type": "code",
      "source": [
        "scores_prob_dist = tf.nn.softmax(scores_for_softmax, axis=-1)\n",
        "print(scores_prob_dist)"
      ],
      "metadata": {
        "colab": {
          "base_uri": "https://localhost:8080/"
        },
        "id": "Zk2-u4fYbvs2",
        "outputId": "43d1a2b1-98ff-424c-9fbb-4454fb47b232"
      },
      "execution_count": 45,
      "outputs": [
        {
          "output_type": "stream",
          "name": "stdout",
          "text": [
            "tf.Tensor(\n",
            "[[0.20012324 0.20009528 0.19983551 0.19983551 0.20011044]\n",
            " [0.10110576 0.29989403 0.15905167 0.22375308 0.21619542]], shape=(2, 5), dtype=float32)\n"
          ]
        }
      ]
    },
    {
      "cell_type": "code",
      "source": [
        "relevance_grades_prob_dist = tf.nn.softmax(relevance_grades, axis=-1)\n",
        "print(relevance_grades_prob_dist)"
      ],
      "metadata": {
        "colab": {
          "base_uri": "https://localhost:8080/"
        },
        "id": "f376lGogb4pj",
        "outputId": "dd6e7844-518e-4d0a-d886-875ac4b44cd2"
      },
      "execution_count": 46,
      "outputs": [
        {
          "output_type": "stream",
          "name": "stdout",
          "text": [
            "tf.Tensor(\n",
            "[[0.44663328 0.1643072  0.1643072  0.1643072  0.06044524]\n",
            " [0.4309495  0.4309495  0.05832267 0.05832267 0.02145571]], shape=(2, 5), dtype=float32)\n"
          ]
        }
      ]
    },
    {
      "cell_type": "code",
      "source": [
        "loss = tf.keras.losses.KLDivergence()\n",
        "batch_loss = loss(relevance_grades_prob_dist, scores_prob_dist)\n",
        "print(batch_loss)"
      ],
      "metadata": {
        "colab": {
          "base_uri": "https://localhost:8080/"
        },
        "id": "0K9t_u4-cATk",
        "outputId": "8add652d-4782-44ed-dac3-73f34d04193e"
      },
      "execution_count": 47,
      "outputs": [
        {
          "output_type": "stream",
          "name": "stdout",
          "text": [
            "tf.Tensor(0.3920213, shape=(), dtype=float32)\n"
          ]
        }
      ]
    },
    {
      "cell_type": "code",
      "source": [
        "per_example_loss = tf.reduce_sum(\n",
        "    relevance_grades_prob_dist * tf.math.log(relevance_grades_prob_dist / scores_prob_dist),\n",
        "    axis=-1\n",
        ")\n",
        "\n",
        "print(per_example_loss)"
      ],
      "metadata": {
        "colab": {
          "base_uri": "https://localhost:8080/"
        },
        "id": "cjfpof0qcMVu",
        "outputId": "8f30ed58-f85e-4ea3-f9cf-20308e623300"
      },
      "execution_count": 48,
      "outputs": [
        {
          "output_type": "stream",
          "name": "stdout",
          "text": [
            "tf.Tensor([0.1894922  0.59455043], shape=(2,), dtype=float32)\n"
          ]
        }
      ]
    },
    {
      "cell_type": "code",
      "source": [
        "batch_loss = tf.reduce_mean(per_example_loss)\n",
        "\n",
        "print(batch_loss)"
      ],
      "metadata": {
        "colab": {
          "base_uri": "https://localhost:8080/"
        },
        "id": "JAo5WfvJcRU3",
        "outputId": "33c0f66a-6bf5-4fed-f979-2cb9e2496ab4"
      },
      "execution_count": 49,
      "outputs": [
        {
          "output_type": "stream",
          "name": "stdout",
          "text": [
            "tf.Tensor(0.3920213, shape=(), dtype=float32)\n"
          ]
        }
      ]
    },
    {
      "cell_type": "markdown",
      "source": [
        "### Toy ListNet Implemenation"
      ],
      "metadata": {
        "id": "iAbbol_PeC5-"
      }
    },
    {
      "cell_type": "code",
      "source": [
        "NUM_DOCS_PER_QUERY = 5\n",
        "EMBEDDING_DIMS = 2"
      ],
      "metadata": {
        "id": "iMaUoeDxcUVe"
      },
      "execution_count": 50,
      "outputs": []
    },
    {
      "cell_type": "code",
      "source": [
        "class ExpandBatchLayer(tf.keras.layers.Layer):\n",
        "  def __init__(self, **kwargs):\n",
        "    super(ExpandBatchLayer, self).__init__(**kwargs)\n",
        "\n",
        "  def call(self, input):\n",
        "    queries, docs = input\n",
        "    batch, num_docs, embedding_dims = tf.unstack(tf.shape(docs))\n",
        "    expanded_queries = tf.gather(queries, tf.zeros([num_docs], tf.int32), axis=1)\n",
        "    return tf.concat([expanded_queries, docs], axis=-1)"
      ],
      "metadata": {
        "id": "8tGQDU4PeIMR"
      },
      "execution_count": 52,
      "outputs": []
    },
    {
      "cell_type": "code",
      "source": [
        "query_input = tf.keras.layers.Input(shape=(1, EMBEDDING_DIMS, ), dtype=tf.float32, name='query')\n",
        "docs_input = tf.keras.layers.Input(shape=(NUM_DOCS_PER_QUERY, EMBEDDING_DIMS, ), dtype=tf.float32,\n",
        "                name='docs')\n",
        "\n",
        "expand_batch = ExpandBatchLayer(name='expand_batch')\n",
        "dense_1 = tf.keras.layers.Dense(units=3, activation='linear', name='dense_1')\n",
        "dense_out = tf.keras.layers.Dense(units=1, activation='linear', name='scores')\n",
        "scores_prob_dist = tf.keras.layers.Dense(units=NUM_DOCS_PER_QUERY, activation='softmax',\n",
        "                      name='scores_prob_dist')\n",
        "\n",
        "expanded_batch = expand_batch([query_input, docs_input])\n",
        "dense_1_out = dense_1(expanded_batch)\n",
        "scores = tf.keras.layers.Flatten()(dense_out(dense_1_out))\n",
        "model_out = scores_prob_dist(scores)\n",
        "\n",
        "model = tf.keras.models.Model(inputs=[query_input, docs_input], outputs=[model_out])\n",
        "\n",
        "model.compile(optimizer=tf.keras.optimizers.SGD(learning_rate=0.03, momentum=0.9),\n",
        "              loss=tf.keras.losses.KLDivergence())"
      ],
      "metadata": {
        "id": "7dc9rn3zegvB"
      },
      "execution_count": 53,
      "outputs": []
    },
    {
      "cell_type": "code",
      "source": [
        "hist = model.fit(\n",
        "    [query_embeddings, docs_averaged_embeddings],\n",
        "    relevance_grades_prob_dist,\n",
        "    epochs=50,\n",
        "    verbose=False\n",
        ")"
      ],
      "metadata": {
        "id": "oi-q6mEye8FU"
      },
      "execution_count": 54,
      "outputs": []
    },
    {
      "cell_type": "code",
      "source": [
        "hist.history"
      ],
      "metadata": {
        "colab": {
          "base_uri": "https://localhost:8080/"
        },
        "id": "HneQbVzQfLGL",
        "outputId": "50a7ba2b-7cde-4921-a451-5754b5fa3148"
      },
      "execution_count": 56,
      "outputs": [
        {
          "output_type": "execute_result",
          "data": {
            "text/plain": [
              "{'loss': [1.046555519104004,\n",
              "  0.7101724147796631,\n",
              "  0.4600779414176941,\n",
              "  0.4645574688911438,\n",
              "  0.5008984804153442,\n",
              "  0.4324790835380554,\n",
              "  0.3036092519760132,\n",
              "  0.19578395783901215,\n",
              "  0.1308339387178421,\n",
              "  0.09736201912164688,\n",
              "  0.08334185183048248,\n",
              "  0.08069726079702377,\n",
              "  0.08295682817697525,\n",
              "  0.08468672633171082,\n",
              "  0.08280783146619797,\n",
              "  0.07745455950498581,\n",
              "  0.07087121903896332,\n",
              "  0.06532793492078781,\n",
              "  0.06185048818588257,\n",
              "  0.060242798179388046,\n",
              "  0.05971231311559677,\n",
              "  0.05942176654934883,\n",
              "  0.05875733867287636,\n",
              "  0.05738326907157898,\n",
              "  0.055197738111019135,\n",
              "  0.05226438492536545,\n",
              "  0.0487525537610054,\n",
              "  0.04489313066005707,\n",
              "  0.04094618558883667,\n",
              "  0.037172019481658936,\n",
              "  0.033803798258304596,\n",
              "  0.031016428023576736,\n",
              "  0.02889849618077278,\n",
              "  0.02743447944521904,\n",
              "  0.026504896581172943,\n",
              "  0.02591295912861824,\n",
              "  0.025432752445340157,\n",
              "  0.02486734837293625,\n",
              "  0.024095414206385612,\n",
              "  0.02309158444404602,\n",
              "  0.02191227301955223,\n",
              "  0.02065913751721382,\n",
              "  0.019433975219726562,\n",
              "  0.018304964527487755,\n",
              "  0.017292482778429985,\n",
              "  0.016374673694372177,\n",
              "  0.015505768358707428,\n",
              "  0.014636727049946785,\n",
              "  0.013733606785535812,\n",
              "  0.012785752303898335]}"
            ]
          },
          "metadata": {},
          "execution_count": 56
        }
      ]
    },
    {
      "cell_type": "code",
      "source": [
        "plt.figure(figsize=(10, 6))\n",
        "plt.plot(hist.history['loss'], label='Training Loss')\n",
        "plt.xlabel('Epoch')\n",
        "plt.ylabel('Loss')\n",
        "plt.title('Training Loss Over Epochs')\n",
        "plt.legend()\n",
        "plt.grid(True)\n",
        "plt.show()"
      ],
      "metadata": {
        "colab": {
          "base_uri": "https://localhost:8080/",
          "height": 539
        },
        "id": "_wVqaWsTfoRR",
        "outputId": "03c5d489-9035-40c1-f125-7850750b7e71"
      },
      "execution_count": 57,
      "outputs": [
        {
          "output_type": "display_data",
          "data": {
            "text/plain": [
              "<Figure size 1000x600 with 1 Axes>"
            ],
            "image/png": "[encoded data removed]"
          },
          "metadata": {}
        }
      ]
    },
    {
      "cell_type": "code",
      "source": [],
      "metadata": {
        "id": "fXEshYjufOww"
      },
      "execution_count": null,
      "outputs": []
    }
  ]
}
