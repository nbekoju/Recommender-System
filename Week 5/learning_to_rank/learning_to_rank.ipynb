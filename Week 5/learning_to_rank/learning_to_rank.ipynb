{
  "nbformat": 4,
  "nbformat_minor": 0,
  "metadata": {
    "colab": {
      "provenance": []
    },
    "kernelspec": {
      "name": "python3",
      "display_name": "Python 3"
    },
    "language_info": {
      "name": "python"
    }
  },
  "cells": [
    {
      "cell_type": "code",
      "execution_count": 6,
      "metadata": {
        "id": "NXBi_vinJ18g"
      },
      "outputs": [],
      "source": [
        "import random\n",
        "random.seed(1)\n",
        "\n",
        "import numpy as np\n",
        "np.random.seed(1)\n",
        "\n",
        "import itertools\n",
        "import matplotlib.pyplot as plt\n",
        "plt.style.use('ggplot')\n",
        "\n",
        "import tensorflow as tf"
      ]
    },
    {
      "cell_type": "markdown",
      "source": [
        "## Input Data"
      ],
      "metadata": {
        "id": "ZH2gjQy_a9c0"
      }
    },
    {
      "cell_type": "code",
      "source": [
        "query_1 = \"dog\"\n",
        "\n",
        "bing_search_results = [\n",
        "    \"Dog - Wikipedia\",\n",
        "    \"Adopting a dog or puppy | RSPCA Australia\",\n",
        "    \"dog | History, Domestication, Physical Traits, & Breeds\",\n",
        "    \"New South Wales | Dogs & Puppies | Gumtree Australia Free\",\n",
        "    \"dog - Wiktionary\"\n",
        "]"
      ],
      "metadata": {
        "id": "y1QoE35aKLxS"
      },
      "execution_count": 7,
      "outputs": []
    },
    {
      "cell_type": "code",
      "source": [
        "query_2 = \"what is a dog\"\n",
        "\n",
        "google_search_results = [\n",
        "    \"Dog - Wikipedia\",\n",
        "    \"Dog - Simple English Wikipedia, the free encyclopedia\",\n",
        "    \"Dog | National Geographic\",\n",
        "    \"dog | History, Domestication, Physical Traits, & Breeds\",\n",
        "    \"What is a Dog | Facts About Dogs | DK Find Out\"\n",
        "]"
      ],
      "metadata": {
        "id": "2pWUtj12KNxs"
      },
      "execution_count": 8,
      "outputs": []
    },
    {
      "cell_type": "code",
      "source": [
        "relevance_grades = tf.constant([\n",
        "    [3.0, 2.0, 2.0, 2.0, 1.0],\n",
        "    [3.0, 3.0, 1.0, 1.0, 0.0]\n",
        "])"
      ],
      "metadata": {
        "id": "klvUa3IvKO-I"
      },
      "execution_count": 9,
      "outputs": []
    },
    {
      "cell_type": "markdown",
      "source": [
        "## Tokenization and Word Embedding"
      ],
      "metadata": {
        "id": "XIJxphkKbAjW"
      }
    },
    {
      "cell_type": "code",
      "source": [
        "combined_texts = [query_1, *bing_search_results, query_2, *google_search_results]\n",
        "\n",
        "tokeniser = tf.keras.preprocessing.text.Tokenizer()\n",
        "tokeniser.fit_on_texts(combined_texts)\n",
        "\n",
        "# we add one here to account for the padding word\n",
        "vocab_size = max(tokeniser.index_word) + 1\n",
        "print(vocab_size)"
      ],
      "metadata": {
        "colab": {
          "base_uri": "https://localhost:8080/"
        },
        "id": "gaGPFTcgKRys",
        "outputId": "12ce292e-06c9-4bd6-f688-76924b34d4c8"
      },
      "execution_count": 10,
      "outputs": [
        {
          "output_type": "stream",
          "name": "stdout",
          "text": [
            "35\n"
          ]
        }
      ]
    },
    {
      "cell_type": "code",
      "source": [
        "for idx, word in tokeniser.index_word.items():\n",
        "    print(f\"index {idx} - {word}\")"
      ],
      "metadata": {
        "colab": {
          "base_uri": "https://localhost:8080/"
        },
        "id": "ZGaF0AHBKjRj",
        "outputId": "f7fad7d5-6acc-4d45-be47-7c7b5a952684"
      },
      "execution_count": 11,
      "outputs": [
        {
          "output_type": "stream",
          "name": "stdout",
          "text": [
            "index 1 - dog\n",
            "index 2 - wikipedia\n",
            "index 3 - a\n",
            "index 4 - australia\n",
            "index 5 - history\n",
            "index 6 - domestication\n",
            "index 7 - physical\n",
            "index 8 - traits\n",
            "index 9 - breeds\n",
            "index 10 - dogs\n",
            "index 11 - free\n",
            "index 12 - what\n",
            "index 13 - is\n",
            "index 14 - adopting\n",
            "index 15 - or\n",
            "index 16 - puppy\n",
            "index 17 - rspca\n",
            "index 18 - new\n",
            "index 19 - south\n",
            "index 20 - wales\n",
            "index 21 - puppies\n",
            "index 22 - gumtree\n",
            "index 23 - wiktionary\n",
            "index 24 - simple\n",
            "index 25 - english\n",
            "index 26 - the\n",
            "index 27 - encyclopedia\n",
            "index 28 - national\n",
            "index 29 - geographic\n",
            "index 30 - facts\n",
            "index 31 - about\n",
            "index 32 - dk\n",
            "index 33 - find\n",
            "index 34 - out\n"
          ]
        }
      ]
    },
    {
      "cell_type": "code",
      "source": [
        "EMBEDDING_DIMS = 2\n",
        "embeddings = np.random.randn(vocab_size, EMBEDDING_DIMS).astype(np.float32)\n",
        "print(embeddings)"
      ],
      "metadata": {
        "colab": {
          "base_uri": "https://localhost:8080/"
        },
        "id": "LHNdMG4-ZvTO",
        "outputId": "93a787a9-b9a0-492a-8d1a-a78780ae5413"
      },
      "execution_count": 12,
      "outputs": [
        {
          "output_type": "stream",
          "name": "stdout",
          "text": [
            "[[ 1.6243454  -0.6117564 ]\n",
            " [-0.5281718  -1.0729686 ]\n",
            " [ 0.86540765 -2.3015387 ]\n",
            " [ 1.7448118  -0.7612069 ]\n",
            " [ 0.3190391  -0.24937038]\n",
            " [ 1.4621079  -2.0601406 ]\n",
            " [-0.3224172  -0.38405436]\n",
            " [ 1.1337694  -1.0998913 ]\n",
            " [-0.1724282  -0.8778584 ]\n",
            " [ 0.04221375  0.58281523]\n",
            " [-1.1006192   1.1447237 ]\n",
            " [ 0.9015907   0.50249434]\n",
            " [ 0.90085596 -0.68372786]\n",
            " [-0.12289023 -0.93576944]\n",
            " [-0.26788807  0.53035545]\n",
            " [-0.69166076 -0.39675352]\n",
            " [-0.6871727  -0.84520566]\n",
            " [-0.6712461  -0.0126646 ]\n",
            " [-1.1173104   0.2344157 ]\n",
            " [ 1.6598022   0.74204415]\n",
            " [-0.19183555 -0.887629  ]\n",
            " [-0.7471583   1.6924546 ]\n",
            " [ 0.05080776 -0.6369957 ]\n",
            " [ 0.19091548  2.1002553 ]\n",
            " [ 0.12015896  0.6172031 ]\n",
            " [ 0.30017033 -0.35224986]\n",
            " [-1.1425182  -0.34934273]\n",
            " [-0.20889424  0.5866232 ]\n",
            " [ 0.8389834   0.9311021 ]\n",
            " [ 0.2855873   0.8851412 ]\n",
            " [-0.7543979   1.2528682 ]\n",
            " [ 0.5129298  -0.29809284]\n",
            " [ 0.48851815 -0.07557172]\n",
            " [ 1.1316293   1.5198169 ]\n",
            " [ 2.1855755  -1.3964963 ]]\n"
          ]
        }
      ]
    },
    {
      "cell_type": "code",
      "source": [
        "tokeniser.texts_to_sequences([query_1])"
      ],
      "metadata": {
        "colab": {
          "base_uri": "https://localhost:8080/"
        },
        "id": "EZ6Ivuy8aF3D",
        "outputId": "fa01b8c4-a91a-457f-bd51-e983ecc8b706"
      },
      "execution_count": 13,
      "outputs": [
        {
          "output_type": "execute_result",
          "data": {
            "text/plain": [
              "[[1]]"
            ]
          },
          "metadata": {},
          "execution_count": 13
        }
      ]
    },
    {
      "cell_type": "code",
      "source": [
        "query_1_embedding_index = tokeniser.texts_to_sequences([query_1])\n",
        "query_1_embeddings = np.array([embeddings[x] for x in query_1_embedding_index])\n",
        "print(query_1_embeddings)"
      ],
      "metadata": {
        "colab": {
          "base_uri": "https://localhost:8080/"
        },
        "id": "PGPb40Z0Z6vZ",
        "outputId": "c61a71f6-4b1d-496f-ce64-9f58358e2d65"
      },
      "execution_count": 14,
      "outputs": [
        {
          "output_type": "stream",
          "name": "stdout",
          "text": [
            "[[[-0.5281718 -1.0729686]]]\n"
          ]
        }
      ]
    },
    {
      "cell_type": "code",
      "source": [
        "query_2_embedding_indices = tokeniser.texts_to_sequences([query_2])\n",
        "query_2_embeddings = np.array([embeddings[x] for x in query_2_embedding_indices])\n",
        "\n",
        "print(query_2_embeddings)"
      ],
      "metadata": {
        "colab": {
          "base_uri": "https://localhost:8080/"
        },
        "id": "OWNYfurWaxHD",
        "outputId": "d44530cf-e87e-4b14-80f4-628c5ca76936"
      },
      "execution_count": 15,
      "outputs": [
        {
          "output_type": "stream",
          "name": "stdout",
          "text": [
            "[[[ 0.90085596 -0.68372786]\n",
            "  [-0.12289023 -0.93576944]\n",
            "  [ 1.7448118  -0.7612069 ]\n",
            "  [-0.5281718  -1.0729686 ]]]\n"
          ]
        }
      ]
    },
    {
      "cell_type": "code",
      "source": [
        "query_2_embeddings_avg = tf.reduce_mean(query_2_embeddings, axis=1, keepdims=True).numpy()\n",
        "\n",
        "print(query_2_embeddings_avg)"
      ],
      "metadata": {
        "colab": {
          "base_uri": "https://localhost:8080/"
        },
        "id": "00ReXiQ_a4xm",
        "outputId": "d85c9d8b-eedf-46b4-9bff-081f755939f3"
      },
      "execution_count": 16,
      "outputs": [
        {
          "output_type": "stream",
          "name": "stdout",
          "text": [
            "[[[ 0.49865144 -0.8634182 ]]]\n"
          ]
        }
      ]
    },
    {
      "cell_type": "code",
      "source": [
        "query_embeddings = np.row_stack([query_1_embeddings, query_2_embeddings_avg])\n",
        "print(query_embeddings.shape)"
      ],
      "metadata": {
        "colab": {
          "base_uri": "https://localhost:8080/"
        },
        "id": "hDdPY5Yga7P7",
        "outputId": "aaf7e2f7-313c-4244-e6da-5d915d951294"
      },
      "execution_count": 17,
      "outputs": [
        {
          "output_type": "stream",
          "name": "stdout",
          "text": [
            "(2, 1, 2)\n"
          ]
        }
      ]
    },
    {
      "cell_type": "code",
      "source": [
        "docs_sequences = []\n",
        "for docs_list in [bing_search_results, google_search_results]:\n",
        "    docs_sequences.append(tokeniser.texts_to_sequences(docs_list))"
      ],
      "metadata": {
        "id": "93Q5Qk4ObIgJ"
      },
      "execution_count": 19,
      "outputs": []
    },
    {
      "cell_type": "code",
      "source": [
        "docs_sequences"
      ],
      "metadata": {
        "colab": {
          "base_uri": "https://localhost:8080/"
        },
        "id": "E8bUiIC5bipF",
        "outputId": "327bd034-f48b-472d-8cad-1733b0212907"
      },
      "execution_count": 20,
      "outputs": [
        {
          "output_type": "execute_result",
          "data": {
            "text/plain": [
              "[[[1, 2],\n",
              "  [14, 3, 1, 15, 16, 17, 4],\n",
              "  [1, 5, 6, 7, 8, 9],\n",
              "  [18, 19, 20, 10, 21, 22, 4, 11],\n",
              "  [1, 23]],\n",
              " [[1, 2],\n",
              "  [1, 24, 25, 2, 26, 11, 27],\n",
              "  [1, 28, 29],\n",
              "  [1, 5, 6, 7, 8, 9],\n",
              "  [12, 13, 3, 1, 30, 31, 10, 32, 33, 34]]]"
            ]
          },
          "metadata": {},
          "execution_count": 20
        }
      ]
    },
    {
      "cell_type": "code",
      "source": [
        "docs_embeddings = []\n",
        "for docs_set in docs_sequences:\n",
        "    this_docs_set = []\n",
        "    for doc in docs_set:\n",
        "        this_doc_embeddings = np.array([embeddings[idx] for idx in doc])\n",
        "        this_docs_set.append(this_doc_embeddings)\n",
        "    docs_embeddings.append(this_docs_set)"
      ],
      "metadata": {
        "id": "wWwTY-l-bhGo"
      },
      "execution_count": 22,
      "outputs": []
    },
    {
      "cell_type": "code",
      "source": [
        "# embedding of bing search result\n",
        "for embeddings in docs_embeddings[0]:\n",
        "    print()\n",
        "    print(embeddings)"
      ],
      "metadata": {
        "colab": {
          "base_uri": "https://localhost:8080/"
        },
        "id": "eflTJxx0buQz",
        "outputId": "1b052a83-a865-4d9b-e26c-7bff6b177cd8"
      },
      "execution_count": 23,
      "outputs": [
        {
          "output_type": "stream",
          "name": "stdout",
          "text": [
            "\n",
            "[[-0.5281718  -1.0729686 ]\n",
            " [ 0.86540765 -2.3015387 ]]\n",
            "\n",
            "[[-0.26788807  0.53035545]\n",
            " [ 1.7448118  -0.7612069 ]\n",
            " [-0.5281718  -1.0729686 ]\n",
            " [-0.69166076 -0.39675352]\n",
            " [-0.6871727  -0.84520566]\n",
            " [-0.6712461  -0.0126646 ]\n",
            " [ 0.3190391  -0.24937038]]\n",
            "\n",
            "[[-0.5281718  -1.0729686 ]\n",
            " [ 1.4621079  -2.0601406 ]\n",
            " [-0.3224172  -0.38405436]\n",
            " [ 1.1337694  -1.0998913 ]\n",
            " [-0.1724282  -0.8778584 ]\n",
            " [ 0.04221375  0.58281523]]\n",
            "\n",
            "[[-1.1173104   0.2344157 ]\n",
            " [ 1.6598022   0.74204415]\n",
            " [-0.19183555 -0.887629  ]\n",
            " [-1.1006192   1.1447237 ]\n",
            " [-0.7471583   1.6924546 ]\n",
            " [ 0.05080776 -0.6369957 ]\n",
            " [ 0.3190391  -0.24937038]\n",
            " [ 0.9015907   0.50249434]]\n",
            "\n",
            "[[-0.5281718  -1.0729686 ]\n",
            " [ 0.19091548  2.1002553 ]]\n"
          ]
        }
      ]
    },
    {
      "cell_type": "code",
      "source": [
        "# embedding of google search result\n",
        "for embeddings in docs_embeddings[1]:\n",
        "    print()\n",
        "    print(embeddings)"
      ],
      "metadata": {
        "colab": {
          "base_uri": "https://localhost:8080/"
        },
        "id": "LEb7x5ecbrF5",
        "outputId": "00866aac-0b7b-4ffe-de7d-66595ea8c657"
      },
      "execution_count": 24,
      "outputs": [
        {
          "output_type": "stream",
          "name": "stdout",
          "text": [
            "\n",
            "[[-0.5281718  -1.0729686 ]\n",
            " [ 0.86540765 -2.3015387 ]]\n",
            "\n",
            "[[-0.5281718  -1.0729686 ]\n",
            " [ 0.12015896  0.6172031 ]\n",
            " [ 0.30017033 -0.35224986]\n",
            " [ 0.86540765 -2.3015387 ]\n",
            " [-1.1425182  -0.34934273]\n",
            " [ 0.9015907   0.50249434]\n",
            " [-0.20889424  0.5866232 ]]\n",
            "\n",
            "[[-0.5281718 -1.0729686]\n",
            " [ 0.8389834  0.9311021]\n",
            " [ 0.2855873  0.8851412]]\n",
            "\n",
            "[[-0.5281718  -1.0729686 ]\n",
            " [ 1.4621079  -2.0601406 ]\n",
            " [-0.3224172  -0.38405436]\n",
            " [ 1.1337694  -1.0998913 ]\n",
            " [-0.1724282  -0.8778584 ]\n",
            " [ 0.04221375  0.58281523]]\n",
            "\n",
            "[[ 0.90085596 -0.68372786]\n",
            " [-0.12289023 -0.93576944]\n",
            " [ 1.7448118  -0.7612069 ]\n",
            " [-0.5281718  -1.0729686 ]\n",
            " [-0.7543979   1.2528682 ]\n",
            " [ 0.5129298  -0.29809284]\n",
            " [-1.1006192   1.1447237 ]\n",
            " [ 0.48851815 -0.07557172]\n",
            " [ 1.1316293   1.5198169 ]\n",
            " [ 2.1855755  -1.3964963 ]]\n"
          ]
        }
      ]
    },
    {
      "cell_type": "code",
      "source": [
        "# convert each document vector into a fixed-size vector by averaging them along each of their components\n",
        "# (number of queries, number of documents per query, embedding dimension)\n",
        "docs_averaged_embeddings = []\n",
        "for docs_set in docs_embeddings:\n",
        "    this_docs_set = []\n",
        "    for doc in docs_set:\n",
        "        this_docs_set.append(tf.reduce_mean(doc, axis=0, keepdims=True))\n",
        "    concatenated_docs_set = tf.concat(this_docs_set, axis=0).numpy()\n",
        "    docs_averaged_embeddings.append(concatenated_docs_set)\n",
        "\n",
        "docs_averaged_embeddings = np.array(docs_averaged_embeddings)\n"
      ],
      "metadata": {
        "id": "1GDjXXyab3iT"
      },
      "execution_count": 25,
      "outputs": []
    },
    {
      "cell_type": "code",
      "source": [
        "docs_averaged_embeddings.shape"
      ],
      "metadata": {
        "colab": {
          "base_uri": "https://localhost:8080/"
        },
        "id": "WLrEvntucFcZ",
        "outputId": "da3854f2-a9cd-4658-ad1b-6866f1aa4668"
      },
      "execution_count": 26,
      "outputs": [
        {
          "output_type": "execute_result",
          "data": {
            "text/plain": [
              "(2, 5, 2)"
            ]
          },
          "metadata": {},
          "execution_count": 26
        }
      ]
    },
    {
      "cell_type": "code",
      "source": [
        "NUM_DOCS_PER_QUERY = 5\n",
        "\n",
        "expanded_queries = tf.gather(query_embeddings, [0 for x in range(NUM_DOCS_PER_QUERY)], axis=1).numpy()\n",
        "\n",
        "print(expanded_queries)"
      ],
      "metadata": {
        "colab": {
          "base_uri": "https://localhost:8080/"
        },
        "id": "BL_AP6_wcHbG",
        "outputId": "3e81dd33-6910-4f24-a25e-c251cf37dc9d"
      },
      "execution_count": 27,
      "outputs": [
        {
          "output_type": "stream",
          "name": "stdout",
          "text": [
            "[[[-0.5281718  -1.0729686 ]\n",
            "  [-0.5281718  -1.0729686 ]\n",
            "  [-0.5281718  -1.0729686 ]\n",
            "  [-0.5281718  -1.0729686 ]\n",
            "  [-0.5281718  -1.0729686 ]]\n",
            "\n",
            " [[ 0.49865144 -0.8634182 ]\n",
            "  [ 0.49865144 -0.8634182 ]\n",
            "  [ 0.49865144 -0.8634182 ]\n",
            "  [ 0.49865144 -0.8634182 ]\n",
            "  [ 0.49865144 -0.8634182 ]]]\n"
          ]
        }
      ]
    },
    {
      "cell_type": "code",
      "source": [
        "expanded_batch = np.concatenate([expanded_queries, docs_averaged_embeddings], axis=-1)\n",
        "\n",
        "print(expanded_batch)"
      ],
      "metadata": {
        "colab": {
          "base_uri": "https://localhost:8080/"
        },
        "id": "UyGpT3k6cdd5",
        "outputId": "0e0e4b4c-59d4-48ca-d96d-0a368981adbf"
      },
      "execution_count": 28,
      "outputs": [
        {
          "output_type": "stream",
          "name": "stdout",
          "text": [
            "[[[-0.5281718  -1.0729686   0.16861793 -1.6872537 ]\n",
            "  [-0.5281718  -1.0729686  -0.11175551 -0.4011163 ]\n",
            "  [-0.5281718  -1.0729686   0.269179   -0.81868297]\n",
            "  [-0.5281718  -1.0729686  -0.02821046  0.31776717]\n",
            "  [-0.5281718  -1.0729686  -0.16862816  0.5136433 ]]\n",
            "\n",
            " [[ 0.49865144 -0.8634182   0.16861793 -1.6872537 ]\n",
            "  [ 0.49865144 -0.8634182   0.04396335 -0.3385399 ]\n",
            "  [ 0.49865144 -0.8634182   0.19879965  0.24775822]\n",
            "  [ 0.49865144 -0.8634182   0.269179   -0.81868297]\n",
            "  [ 0.49865144 -0.8634182   0.44582415 -0.1306425 ]]]\n"
          ]
        }
      ]
    },
    {
      "cell_type": "markdown",
      "source": [
        "#### Hidden Layers"
      ],
      "metadata": {
        "id": "0v6CKirScgEm"
      }
    },
    {
      "cell_type": "code",
      "source": [
        "dense_1 = tf.keras.layers.Dense(units=3, activation='relu')\n",
        "dense_1_out = dense_1(expanded_batch)\n",
        "\n",
        "print(dense_1_out)"
      ],
      "metadata": {
        "colab": {
          "base_uri": "https://localhost:8080/"
        },
        "id": "tE02C-MKcZnd",
        "outputId": "24c1b1ad-4bd2-458d-9ecf-aa1c9a892e0f"
      },
      "execution_count": 32,
      "outputs": [
        {
          "output_type": "stream",
          "name": "stdout",
          "text": [
            "tf.Tensor(\n",
            "[[[0.35279852 1.6670984  0.        ]\n",
            "  [0.         0.95679986 0.        ]\n",
            "  [0.         1.2219343  0.        ]\n",
            "  [0.         0.5883917  0.06972778]\n",
            "  [0.         0.4685779  0.27151585]]\n",
            "\n",
            " [[0.4693008  0.6758069  0.        ]\n",
            "  [0.         0.         0.        ]\n",
            "  [0.         0.         0.        ]\n",
            "  [0.         0.23064291 0.        ]\n",
            "  [0.         0.         0.        ]]], shape=(2, 5, 3), dtype=float32)\n"
          ]
        }
      ]
    },
    {
      "cell_type": "code",
      "source": [
        "scores = tf.keras.layers.Dense(units=1, activation='linear')\n",
        "scores_out = scores(dense_1_out)\n",
        "\n",
        "print(scores_out)"
      ],
      "metadata": {
        "colab": {
          "base_uri": "https://localhost:8080/"
        },
        "id": "FuSK4xWQcmJ1",
        "outputId": "e7067dc7-93c0-4b10-808e-8417a0d85b62"
      },
      "execution_count": 33,
      "outputs": [
        {
          "output_type": "stream",
          "name": "stdout",
          "text": [
            "tf.Tensor(\n",
            "[[[-1.678877  ]\n",
            "  [-0.8079901 ]\n",
            "  [-1.0318885 ]\n",
            "  [-0.4393864 ]\n",
            "  [-0.17182414]]\n",
            "\n",
            " [[-0.9312702 ]\n",
            "  [ 0.        ]\n",
            "  [ 0.        ]\n",
            "  [-0.19477133]\n",
            "  [ 0.        ]]], shape=(2, 5, 1), dtype=float32)\n"
          ]
        }
      ]
    },
    {
      "cell_type": "markdown",
      "source": [
        "#### Calculate the KL Divergence in the context of our expanded batch"
      ],
      "metadata": {
        "id": "N-y1vHoAcyTe"
      }
    },
    {
      "cell_type": "code",
      "source": [
        "scores_for_softmax = tf.squeeze(scores_out, axis=-1)\n",
        "scores_prob_dist = tf.nn.softmax(scores_for_softmax, axis=-1)\n",
        "print(scores_prob_dist)"
      ],
      "metadata": {
        "colab": {
          "base_uri": "https://localhost:8080/"
        },
        "id": "j31834t-cw2O",
        "outputId": "43ed44aa-6c2e-4cee-ea9a-a60fb61dbfc9"
      },
      "execution_count": 35,
      "outputs": [
        {
          "output_type": "stream",
          "name": "stdout",
          "text": [
            "tf.Tensor(\n",
            "[[0.07538026 0.1800856  0.14395978 0.26035237 0.34022197]\n",
            " [0.0934422  0.23713113 0.23713113 0.19516434 0.23713113]], shape=(2, 5), dtype=float32)\n"
          ]
        }
      ]
    },
    {
      "cell_type": "code",
      "source": [
        "relevance_grades_prob_dist = tf.nn.softmax(relevance_grades, axis=-1)\n",
        "\n",
        "print(relevance_grades_prob_dist)"
      ],
      "metadata": {
        "colab": {
          "base_uri": "https://localhost:8080/"
        },
        "id": "8oNKu2W4cuHP",
        "outputId": "5cad0af2-9f0a-482f-92ec-3e32cfed2e42"
      },
      "execution_count": 36,
      "outputs": [
        {
          "output_type": "stream",
          "name": "stdout",
          "text": [
            "tf.Tensor(\n",
            "[[0.44663328 0.1643072  0.1643072  0.1643072  0.06044524]\n",
            " [0.4309495  0.4309495  0.05832267 0.05832267 0.02145571]], shape=(2, 5), dtype=float32)\n"
          ]
        }
      ]
    },
    {
      "cell_type": "code",
      "source": [
        "loss = tf.keras.losses.KLDivergence()\n",
        "batch_loss = loss(relevance_grades_prob_dist, scores_prob_dist)\n",
        "\n",
        "print(batch_loss)"
      ],
      "metadata": {
        "colab": {
          "base_uri": "https://localhost:8080/"
        },
        "id": "0S4W2D1kdGC9",
        "outputId": "95f70c86-6f1f-4d59-96b8-fa1c7f67e910"
      },
      "execution_count": 37,
      "outputs": [
        {
          "output_type": "stream",
          "name": "stdout",
          "text": [
            "tf.Tensor(0.66682065, shape=(), dtype=float32)\n"
          ]
        }
      ]
    },
    {
      "cell_type": "markdown",
      "source": [
        "### A toy ListNet Implemenation"
      ],
      "metadata": {
        "id": "EpFqnkj5dN8W"
      }
    },
    {
      "cell_type": "code",
      "source": [
        "NUM_DOCS_PER_QUERY = 5\n",
        "EMBEDDING_DIMS = 2"
      ],
      "metadata": {
        "id": "xUSEZrGcdKV0"
      },
      "execution_count": 38,
      "outputs": []
    },
    {
      "cell_type": "code",
      "source": [
        "class ExpandBatchLayer(tf.keras.layers.Layer):\n",
        "    def __init__(self, **kwargs):\n",
        "        super(ExpandBatchLayer, self).__init__(**kwargs)\n",
        "\n",
        "    def call(self, input):\n",
        "        queries, docs = input\n",
        "        batch, num_docs, embedding_dims = tf.unstack(tf.shape(docs))\n",
        "        expanded_queries = tf.gather(queries, tf.zeros([num_docs], tf.int32), axis=1)\n",
        "        return tf.concat([expanded_queries, docs], axis=-1)"
      ],
      "metadata": {
        "id": "Px08FYMrdWp-"
      },
      "execution_count": 39,
      "outputs": []
    },
    {
      "cell_type": "code",
      "source": [
        "query_input = tf.keras.layers.Input(shape=(1, EMBEDDING_DIMS, ), dtype=tf.float32, name='query')\n",
        "docs_input = tf.keras.layers.Input(shape=(NUM_DOCS_PER_QUERY, EMBEDDING_DIMS, ), dtype=tf.float32, name='docs')\n",
        "\n",
        "expand_batch = ExpandBatchLayer(name=\"expand_batch\")\n",
        "dense_1 = tf.keras.layers.Dense(units=3, activation='linear', name='dense_1')\n",
        "dense_out = tf.keras.layers.Dense(units=1, activation='linear', name='scores')\n",
        "scores_prob_dist = tf.keras.layers.Dense(units=NUM_DOCS_PER_QUERY, activation='softmax', name='score_prob_dist')\n",
        "\n",
        "\n",
        "expanded_batch = expand_batch([query_input, docs_input])\n",
        "dense_1_out = dense_1(expanded_batch)\n",
        "scores = tf.keras.layers.Flatten()(dense_out(dense_1_out))\n",
        "model_out = scores_prob_dist(scores)\n",
        "\n",
        "model = tf.keras.models.Model(inputs=[query_input, docs_input], outputs=[model_out])\n",
        "\n",
        "model.compile(optimizer=tf.keras.optimizers.SGD(learning_rate=0.03, momentum=0.9),\n",
        "              loss=tf.keras.losses.KLDivergence())"
      ],
      "metadata": {
        "id": "P_1Z_lTbdYd6"
      },
      "execution_count": 40,
      "outputs": []
    },
    {
      "cell_type": "code",
      "source": [
        "hist = model.fit(\n",
        "    [query_embeddings, docs_averaged_embeddings],\n",
        "    relevance_grades_prob_dist,\n",
        "    epochs=50,\n",
        "    verbose=False\n",
        ")"
      ],
      "metadata": {
        "id": "ErwWkU7ueNM7"
      },
      "execution_count": 41,
      "outputs": []
    },
    {
      "cell_type": "code",
      "source": [
        "plt.figure(figsize=(10, 6))\n",
        "plt.plot(hist.history['loss'], label='Training Loss')\n",
        "plt.xlabel('Epoch')\n",
        "plt.ylabel('Loss')\n",
        "plt.title('Training Loss Over Epochs')\n",
        "plt.legend()\n",
        "plt.grid(True)\n",
        "plt.show()"
      ],
      "metadata": {
        "colab": {
          "base_uri": "https://localhost:8080/",
          "height": 569
        },
        "id": "l33_kjRVeiTD",
        "outputId": "e0cae7f5-1a8e-490d-f9bd-49b3ed66602e"
      },
      "execution_count": 42,
      "outputs": [
        {
          "output_type": "display_data",
          "data": {
            "text/plain": [
              "<Figure size 1000x600 with 1 Axes>"
            ],
            "image/png": "[encoded data removed]"
          },
          "metadata": {}
        }
      ]
    },
    {
      "cell_type": "code",
      "source": [
        "predicted_distribution = model.predict([query_embeddings, docs_averaged_embeddings])\n",
        "print(predicted_distribution)"
      ],
      "metadata": {
        "colab": {
          "base_uri": "https://localhost:8080/"
        },
        "id": "BMUZUhpBePzf",
        "outputId": "343f27d4-d8ff-4d7c-dee3-4f9a7d918326"
      },
      "execution_count": 45,
      "outputs": [
        {
          "output_type": "stream",
          "name": "stdout",
          "text": [
            "1/1 [==============================] - 0s 48ms/step\n",
            "[[0.4355587  0.15645757 0.16315967 0.15004048 0.09478366]\n",
            " [0.4262433  0.43871716 0.05421456 0.06287596 0.01794906]]\n"
          ]
        }
      ]
    },
    {
      "cell_type": "code",
      "source": [
        "relevance_grades_prob_dist = tf.nn.softmax(relevance_grades, axis=-1)\n",
        "relevance_grades_prob_dist"
      ],
      "metadata": {
        "colab": {
          "base_uri": "https://localhost:8080/"
        },
        "id": "ZEhXTngIe_Hg",
        "outputId": "f1a68767-fab3-41ee-cb88-151d8690ea76"
      },
      "execution_count": 47,
      "outputs": [
        {
          "output_type": "execute_result",
          "data": {
            "text/plain": [
              "<tf.Tensor: shape=(2, 5), dtype=float32, numpy=\n",
              "array([[0.44663328, 0.1643072 , 0.1643072 , 0.1643072 , 0.06044524],\n",
              "       [0.4309495 , 0.4309495 , 0.05832267, 0.05832267, 0.02145571]],\n",
              "      dtype=float32)>"
            ]
          },
          "metadata": {},
          "execution_count": 47
        }
      ]
    },
    {
      "cell_type": "code",
      "source": [
        "import numpy as np\n",
        "import seaborn as sns"
      ],
      "metadata": {
        "id": "fBgaSmWYfxY9"
      },
      "execution_count": 52,
      "outputs": []
    },
    {
      "cell_type": "code",
      "source": [
        "index = 1\n",
        "predict_dist = predicted_distribution[index]\n",
        "true_dist = relevance_grades_prob_dist[index]\n",
        "predict_dist, true_dist"
      ],
      "metadata": {
        "colab": {
          "base_uri": "https://localhost:8080/"
        },
        "id": "4gMXKKSofQII",
        "outputId": "24884ffa-36f9-4c6d-dfe1-31fe07dbbe6b"
      },
      "execution_count": 62,
      "outputs": [
        {
          "output_type": "execute_result",
          "data": {
            "text/plain": [
              "(array([0.4262433 , 0.43871716, 0.05421456, 0.06287596, 0.01794906],\n",
              "       dtype=float32),\n",
              " <tf.Tensor: shape=(5,), dtype=float32, numpy=\n",
              " array([0.4309495 , 0.4309495 , 0.05832267, 0.05832267, 0.02145571],\n",
              "       dtype=float32)>)"
            ]
          },
          "metadata": {},
          "execution_count": 62
        }
      ]
    },
    {
      "cell_type": "code",
      "source": [
        "predict_dist = predict_dist\n"
      ],
      "metadata": {
        "id": "KDtfS34Tf6W0"
      },
      "execution_count": 64,
      "outputs": []
    },
    {
      "cell_type": "code",
      "source": [],
      "metadata": {
        "id": "1UWSCS7pgy2b"
      },
      "execution_count": null,
      "outputs": []
    },
    {
      "cell_type": "code",
      "source": [
        "def show_distribution(index):\n",
        "  predict_dist = predicted_distribution[index]\n",
        "  true_dist = relevance_grades_prob_dist[index]\n",
        "  true_dist = true_dist.numpy()\n",
        "\n",
        "\n",
        "  # Create the first bar plot\n",
        "  plt.figure(figsize=(10, 5))\n",
        "  plt.subplot(1, 2, 1)\n",
        "  sns.barplot(x=range(len(true_dist)), y=true_dist)\n",
        "  plt.title('True Distribution')\n",
        "\n",
        "  # Create the second bar plot\n",
        "  plt.subplot(1, 2, 2)\n",
        "  sns.barplot(x=range(len(predict_dist)), y=predict_dist)\n",
        "  plt.title('Predicted Distribution')\n",
        "\n",
        "  # Show the plots\n",
        "  plt.tight_layout()\n",
        "  plt.show()"
      ],
      "metadata": {
        "id": "w31KCNFAgZxL"
      },
      "execution_count": 74,
      "outputs": []
    },
    {
      "cell_type": "code",
      "source": [
        "show_distribution(0)"
      ],
      "metadata": {
        "colab": {
          "base_uri": "https://localhost:8080/",
          "height": 507
        },
        "id": "zTB9Ut53gqU_",
        "outputId": "7e2a060c-4f96-4834-8173-94778eb3d700"
      },
      "execution_count": 75,
      "outputs": [
        {
          "output_type": "display_data",
          "data": {
            "text/plain": [
              "<Figure size 1000x500 with 2 Axes>"
            ],
            "image/png": "[encoded data removed]"
          },
          "metadata": {}
        }
      ]
    },
    {
      "cell_type": "code",
      "source": [
        "show_distribution(1)"
      ],
      "metadata": {
        "colab": {
          "base_uri": "https://localhost:8080/",
          "height": 507
        },
        "id": "XgB_sSTlhUXw",
        "outputId": "b1c7302b-61a9-40e7-e874-de15ccd0ff41"
      },
      "execution_count": 76,
      "outputs": [
        {
          "output_type": "display_data",
          "data": {
            "text/plain": [
              "<Figure size 1000x500 with 2 Axes>"
            ],
            "image/png": "[encoded data removed]"
          },
          "metadata": {}
        }
      ]
    },
    {
      "cell_type": "code",
      "source": [],
      "metadata": {
        "id": "HijVGg_9hXC6"
      },
      "execution_count": null,
      "outputs": []
    }
  ]
}
